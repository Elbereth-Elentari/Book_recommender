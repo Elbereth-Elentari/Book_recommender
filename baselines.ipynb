{
  "nbformat": 4,
  "nbformat_minor": 0,
  "metadata": {
    "colab": {
      "name": "baselines.ipynb",
      "provenance": [],
      "mount_file_id": "https://github.com/Elbereth-Elentari/Book_recommender/blob/master/baselines.ipynb",
      "authorship_tag": "ABX9TyMhFAAmAqXFYIdwCQkDrq9m",
      "include_colab_link": true
    },
    "kernelspec": {
      "name": "python3",
      "display_name": "Python 3"
    }
  },
  "cells": [
    {
      "cell_type": "markdown",
      "metadata": {
        "id": "view-in-github",
        "colab_type": "text"
      },
      "source": [
        "<a href=\"https://colab.research.google.com/github/Elbereth-Elentari/Book_recommender/blob/master/baselines.ipynb\" target=\"_parent\"><img src=\"https://colab.research.google.com/assets/colab-badge.svg\" alt=\"Open In Colab\"/></a>"
      ]
    },
    {
      "cell_type": "code",
      "metadata": {
        "id": "k_Vv34on2y2g",
        "colab_type": "code",
        "colab": {}
      },
      "source": [
        "import pandas as pd\n",
        "import numpy as np\n",
        "\n",
        "from sklearn.preprocessing import MinMaxScaler\n",
        "from sklearn.feature_extraction.text import CountVectorizer\n",
        "from sklearn.model_selection import train_test_split\n",
        "from sklearn.feature_extraction.text import TfidfTransformer\n",
        "from sklearn.metrics import accuracy_score\n",
        "\n",
        "from sklearn.neighbors import KNeighborsClassifier\n",
        "from sklearn.linear_model import LogisticRegression\n",
        "from sklearn.svm import SVC\n",
        "from sklearn.naive_bayes import MultinomialNB, GaussianNB"
      ],
      "execution_count": 78,
      "outputs": []
    },
    {
      "cell_type": "code",
      "metadata": {
        "id": "8t6TsD4h3FOD",
        "colab_type": "code",
        "colab": {
          "base_uri": "https://localhost:8080/",
          "height": 374
        },
        "outputId": "216eacd3-d7f0-44ee-88f4-7e57a25aec91"
      },
      "source": [
        "cat = pd.read_json('/content/drive/My Drive/Library_catalogue_preprocessed.jl', lines=True, orient='records').fillna('')\n",
        "cat = cat[cat['interesting'] != '']\n",
        "cat.replace({'interesting':'yes'}, 1, inplace=True)\n",
        "cat.replace({'interesting':'no'}, 0, inplace=True)\n",
        "cat.replace({'language':'pl'}, 1, inplace=True)\n",
        "cat.replace({'language':'en'}, 0, inplace=True)\n",
        "\n",
        "def join_tokens(row):\n",
        "    return ' '.join(row['tokens'])\n",
        "\n",
        "cat['tokens'] = cat.apply(join_tokens, axis=1)\n",
        "cat.head()"
      ],
      "execution_count": 2,
      "outputs": [
        {
          "output_type": "execute_result",
          "data": {
            "text/html": [
              "<div>\n",
              "<style scoped>\n",
              "    .dataframe tbody tr th:only-of-type {\n",
              "        vertical-align: middle;\n",
              "    }\n",
              "\n",
              "    .dataframe tbody tr th {\n",
              "        vertical-align: top;\n",
              "    }\n",
              "\n",
              "    .dataframe thead th {\n",
              "        text-align: right;\n",
              "    }\n",
              "</style>\n",
              "<table border=\"1\" class=\"dataframe\">\n",
              "  <thead>\n",
              "    <tr style=\"text-align: right;\">\n",
              "      <th></th>\n",
              "      <th>title</th>\n",
              "      <th>author</th>\n",
              "      <th>storage</th>\n",
              "      <th>WD_signature</th>\n",
              "      <th>publisher</th>\n",
              "      <th>year</th>\n",
              "      <th>pages</th>\n",
              "      <th>language</th>\n",
              "      <th>tokens</th>\n",
              "      <th>interesting</th>\n",
              "    </tr>\n",
              "  </thead>\n",
              "  <tbody>\n",
              "    <tr>\n",
              "      <th>9</th>\n",
              "      <td>Mit sztuk zen w kształtowaniu się kultury arty...</td>\n",
              "      <td>Sokołowski, Michał Andrzej.</td>\n",
              "      <td>magazyn</td>\n",
              "      <td>BF576 .B37165 2020</td>\n",
              "      <td>Kirin</td>\n",
              "      <td>2020</td>\n",
              "      <td>654</td>\n",
              "      <td>1</td>\n",
              "      <td>mita sztuka zen kształtowaniu kultura artystyc...</td>\n",
              "      <td>0</td>\n",
              "    </tr>\n",
              "    <tr>\n",
              "      <th>160</th>\n",
              "      <td>Magistrala CAN od A do Z : diagnostyka i progr...</td>\n",
              "      <td>Kardaś, Paweł.</td>\n",
              "      <td>magazyn</td>\n",
              "      <td>TJ223.M53 K37 2020</td>\n",
              "      <td>Wydawnictwo Atnel</td>\n",
              "      <td>2020</td>\n",
              "      <td>204</td>\n",
              "      <td>1</td>\n",
              "      <td>magistrala can diagnostyk programowanie język c</td>\n",
              "      <td>0</td>\n",
              "    </tr>\n",
              "    <tr>\n",
              "      <th>221</th>\n",
              "      <td>Japoński socjolekt młodzieżowy jako manifestac...</td>\n",
              "      <td>Duc-Harada, Patrycja.</td>\n",
              "      <td></td>\n",
              "      <td></td>\n",
              "      <td>Wydawnictwo Uniwersytetu Jagiellońskiego</td>\n",
              "      <td>2020</td>\n",
              "      <td>358</td>\n",
              "      <td>1</td>\n",
              "      <td>japoński socjolekt młodzieżowy manifestacja św...</td>\n",
              "      <td>0</td>\n",
              "    </tr>\n",
              "    <tr>\n",
              "      <th>279</th>\n",
              "      <td>Czysty kod w Pythonie</td>\n",
              "      <td>Kapil, Sunil.</td>\n",
              "      <td>magazyn</td>\n",
              "      <td>QA76.73.P98 K365165 2020</td>\n",
              "      <td>Helion SA</td>\n",
              "      <td>2020</td>\n",
              "      <td>176</td>\n",
              "      <td>1</td>\n",
              "      <td>czysty koda pythonie</td>\n",
              "      <td>1</td>\n",
              "    </tr>\n",
              "    <tr>\n",
              "      <th>295</th>\n",
              "      <td>Żony nazistów : kobiety kochające zbrodniarzy</td>\n",
              "      <td>Wyllie, James.</td>\n",
              "      <td></td>\n",
              "      <td>DD245 .W85165 2020</td>\n",
              "      <td>Wydawnictwo Agora</td>\n",
              "      <td>2020</td>\n",
              "      <td>359</td>\n",
              "      <td>1</td>\n",
              "      <td>żona nazista kobieta kochać zbrodniarz</td>\n",
              "      <td>0</td>\n",
              "    </tr>\n",
              "  </tbody>\n",
              "</table>\n",
              "</div>"
            ],
            "text/plain": [
              "                                                 title  ... interesting\n",
              "9    Mit sztuk zen w kształtowaniu się kultury arty...  ...           0\n",
              "160  Magistrala CAN od A do Z : diagnostyka i progr...  ...           0\n",
              "221  Japoński socjolekt młodzieżowy jako manifestac...  ...           0\n",
              "279                              Czysty kod w Pythonie  ...           1\n",
              "295      Żony nazistów : kobiety kochające zbrodniarzy  ...           0\n",
              "\n",
              "[5 rows x 10 columns]"
            ]
          },
          "metadata": {
            "tags": []
          },
          "execution_count": 2
        }
      ]
    },
    {
      "cell_type": "code",
      "metadata": {
        "id": "GqtsnHrl3gQt",
        "colab_type": "code",
        "colab": {}
      },
      "source": [
        "X = cat[['year', 'pages', 'language', 'tokens']]\n",
        "y = cat['interesting']\n",
        "X_train, X_test, y_train, y_test = train_test_split(X, y, random_state=0)\n",
        "\n",
        "scaler = MinMaxScaler().fit(X_train[['year', 'pages', 'language']])\n",
        "X_train_scaled = scaler.transform(X_train[['year', 'pages', 'language']])\n",
        "X_test_scaled = scaler.transform(X_test[['year', 'pages', 'language']])\n",
        "cvect = CountVectorizer()\n",
        "X_train_counts = cvect.fit_transform(X_train['tokens'])\n",
        "X_test_counts = cvect.transform(X_test['tokens'])\n",
        "\n",
        "tfidf = TfidfTransformer(use_idf=False)\n",
        "X_train_transformed = tfidf.fit_transform(X_train_counts)\n",
        "X_test_transformed = tfidf.transform(X_test_counts)"
      ],
      "execution_count": 69,
      "outputs": []
    },
    {
      "cell_type": "code",
      "metadata": {
        "id": "vrN292DWskLb",
        "colab_type": "code",
        "colab": {}
      },
      "source": [
        "X_train_array = X_train_transformed.toarray()\n",
        "X_test_array = X_test_transformed.toarray()\n",
        "\n",
        "X_final = np.hstack((X_train_array, X_train_scaled))\n",
        "X_final_test = np.hstack((X_test_array, X_test_scaled))\n",
        "for iteration in range(50):\n",
        "    X_final = np.hstack((X_final, X_train_scaled))\n",
        "    X_final_test = np.hstack((X_final_test, X_test_scaled))"
      ],
      "execution_count": 109,
      "outputs": []
    },
    {
      "cell_type": "code",
      "metadata": {
        "id": "Ipq7fS9CAGCQ",
        "colab_type": "code",
        "colab": {
          "base_uri": "https://localhost:8080/",
          "height": 34
        },
        "outputId": "8062db68-49f9-48b2-ee78-72d0c611b282"
      },
      "source": [
        "best_k = 0\n",
        "best_acc = 0\n",
        "\n",
        "for k in range(1,15):\n",
        "    knn = KNeighborsClassifier(n_neighbors=k).fit(X_final, y_train)\n",
        "    acc = accuracy_score(y_test, knn.predict(X_final_test))\n",
        "    if acc > best_acc:\n",
        "        best_acc = acc\n",
        "        best_k = k\n",
        "\n",
        "print(f'The highest accuracy is {best_acc}, for k == {k}')"
      ],
      "execution_count": 110,
      "outputs": [
        {
          "output_type": "stream",
          "text": [
            "The highest accuracy is 0.8004385964912281, for k == 14\n"
          ],
          "name": "stdout"
        }
      ]
    },
    {
      "cell_type": "code",
      "metadata": {
        "id": "xmQTy5nQGtfe",
        "colab_type": "code",
        "colab": {
          "base_uri": "https://localhost:8080/",
          "height": 34
        },
        "outputId": "8aa3a5ce-a882-47ca-d4c6-37c8e0a833c4"
      },
      "source": [
        "logreg = LogisticRegression().fit(X_final, y_train)\n",
        "accuracy_score(y_test, logreg.predict(X_final_test))"
      ],
      "execution_count": 111,
      "outputs": [
        {
          "output_type": "execute_result",
          "data": {
            "text/plain": [
              "0.7719298245614035"
            ]
          },
          "metadata": {
            "tags": []
          },
          "execution_count": 111
        }
      ]
    },
    {
      "cell_type": "code",
      "metadata": {
        "id": "ckAKX6CfKUm3",
        "colab_type": "code",
        "colab": {
          "base_uri": "https://localhost:8080/",
          "height": 34
        },
        "outputId": "60a7e327-6110-459a-cefc-77dc2b13a8d0"
      },
      "source": [
        "svc = SVC(kernel='linear', C=1).fit(X_final, y_train)\n",
        "accuracy_score(y_test, svc.predict(X_final_test))"
      ],
      "execution_count": 112,
      "outputs": [
        {
          "output_type": "execute_result",
          "data": {
            "text/plain": [
              "0.8135964912280702"
            ]
          },
          "metadata": {
            "tags": []
          },
          "execution_count": 112
        }
      ]
    },
    {
      "cell_type": "code",
      "metadata": {
        "id": "xAixqa0RfpM6",
        "colab_type": "code",
        "colab": {
          "base_uri": "https://localhost:8080/",
          "height": 34
        },
        "outputId": "04056971-d1b8-4a3e-d968-6147295988b0"
      },
      "source": [
        "svc_rbf = SVC(kernel='rbf', gamma=1).fit(X_final, y_train)\n",
        "accuracy_score(y_test, svc_rbf.predict(X_final_test))"
      ],
      "execution_count": 113,
      "outputs": [
        {
          "output_type": "execute_result",
          "data": {
            "text/plain": [
              "0.7587719298245614"
            ]
          },
          "metadata": {
            "tags": []
          },
          "execution_count": 113
        }
      ]
    },
    {
      "cell_type": "code",
      "metadata": {
        "id": "h2iJmUH-iS5y",
        "colab_type": "code",
        "colab": {
          "base_uri": "https://localhost:8080/",
          "height": 34
        },
        "outputId": "ef5b264f-61f5-4e6f-8e21-96cf9b0a5e47"
      },
      "source": [
        "multi_nb = MultinomialNB(alpha=0.1).fit(X_train_transformed, y_train)\n",
        "accuracy_score(y_test, multi_nb.predict(X_test_transformed))"
      ],
      "execution_count": 117,
      "outputs": [
        {
          "output_type": "execute_result",
          "data": {
            "text/plain": [
              "0.8114035087719298"
            ]
          },
          "metadata": {
            "tags": []
          },
          "execution_count": 117
        }
      ]
    },
    {
      "cell_type": "code",
      "metadata": {
        "id": "ZnNZWO0FoR9y",
        "colab_type": "code",
        "colab": {
          "base_uri": "https://localhost:8080/",
          "height": 34
        },
        "outputId": "5543b16b-b408-4bfd-bc1a-6193538a3f32"
      },
      "source": [
        "gauss_nb = GaussianNB().fit(X_final, y_train)\n",
        "accuracy_score(y_test, gauss_nb.predict(X_final_test))"
      ],
      "execution_count": 114,
      "outputs": [
        {
          "output_type": "execute_result",
          "data": {
            "text/plain": [
              "0.7412280701754386"
            ]
          },
          "metadata": {
            "tags": []
          },
          "execution_count": 114
        }
      ]
    },
    {
      "cell_type": "code",
      "metadata": {
        "id": "sqIp4EowpF-w",
        "colab_type": "code",
        "colab": {}
      },
      "source": [
        ""
      ],
      "execution_count": null,
      "outputs": []
    }
  ]
}