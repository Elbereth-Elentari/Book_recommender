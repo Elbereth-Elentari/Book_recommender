{
  "nbformat": 4,
  "nbformat_minor": 0,
  "metadata": {
    "colab": {
      "name": "baselines.ipynb",
      "provenance": [],
      "mount_file_id": "https://github.com/Elbereth-Elentari/Book_recommender/blob/master/baselines.ipynb",
      "authorship_tag": "ABX9TyMYjFfAmrpcrsum/ErwNfHN",
      "include_colab_link": true
    },
    "kernelspec": {
      "name": "python3",
      "display_name": "Python 3"
    }
  },
  "cells": [
    {
      "cell_type": "markdown",
      "metadata": {
        "id": "view-in-github",
        "colab_type": "text"
      },
      "source": [
        "<a href=\"https://colab.research.google.com/github/Elbereth-Elentari/Book_recommender/blob/master/baselines.ipynb\" target=\"_parent\"><img src=\"https://colab.research.google.com/assets/colab-badge.svg\" alt=\"Open In Colab\"/></a>"
      ]
    },
    {
      "cell_type": "code",
      "metadata": {
        "id": "k_Vv34on2y2g",
        "colab_type": "code",
        "colab": {}
      },
      "source": [
        "import pandas as pd\n",
        "import numpy as np\n",
        "\n",
        "from sklearn.preprocessing import MinMaxScaler\n",
        "from sklearn.feature_extraction.text import CountVectorizer\n",
        "from sklearn.model_selection import cross_val_score\n",
        "from sklearn.feature_extraction.text import TfidfTransformer\n",
        "\n",
        "from sklearn.neighbors import KNeighborsClassifier\n",
        "from sklearn.linear_model import LogisticRegression\n",
        "from sklearn.svm import SVC\n",
        "from sklearn.naive_bayes import MultinomialNB, GaussianNB"
      ],
      "execution_count": 1,
      "outputs": []
    },
    {
      "cell_type": "code",
      "metadata": {
        "id": "8t6TsD4h3FOD",
        "colab_type": "code",
        "colab": {}
      },
      "source": [
        "def read_input(jl_file):\n",
        "    catalogue_df = pd.read_json(jl_file, lines=True, orient='records').fillna('')\n",
        "    catalogue_df = catalogue_df[catalogue_df['interesting'] != '']\n",
        "    catalogue_df.replace({'interesting':'yes'}, 1, inplace=True)\n",
        "    catalogue_df.replace({'interesting':'no'}, 0, inplace=True)\n",
        "\n",
        "    def join_tokens(row):\n",
        "        return ' '.join(row['tokens'])\n",
        "\n",
        "    catalogue_df['tokens'] = catalogue_df.apply(join_tokens, axis=1)\n",
        "    return catalogue_df"
      ],
      "execution_count": 2,
      "outputs": []
    },
    {
      "cell_type": "code",
      "metadata": {
        "id": "GqtsnHrl3gQt",
        "colab_type": "code",
        "colab": {}
      },
      "source": [
        "def create_datasets(catalogue_df):\n",
        "    X = catalogue_df[['year', 'pages', 'tokens']]\n",
        "    y = catalogue_df['interesting']\n",
        "\n",
        "    scaler = MinMaxScaler().fit(X[['year', 'pages']])\n",
        "    X_scaled = scaler.transform(X[['year', 'pages']])\n",
        "\n",
        "    cvect = CountVectorizer()\n",
        "    X_counts = cvect.fit_transform(X['tokens'])\n",
        "    tfidf = TfidfTransformer(use_idf=False)\n",
        "    X_transformed = tfidf.fit_transform(X_counts)\n",
        "    X_array = X_transformed.toarray()\n",
        "    X_final = np.hstack((X_array, X_scaled))\n",
        "\n",
        "    for iteration in range(50):\n",
        "        X_final = np.hstack((X_final, X_scaled))\n",
        "\n",
        "    return X_final, y"
      ],
      "execution_count": 3,
      "outputs": []
    },
    {
      "cell_type": "code",
      "metadata": {
        "id": "sqIp4EowpF-w",
        "colab_type": "code",
        "colab": {
          "base_uri": "https://localhost:8080/",
          "height": 252
        },
        "outputId": "4785436b-2d9d-4c3b-f1bf-5d11749f4d5f"
      },
      "source": [
        "def calculate_baselines():\n",
        "    cross_val_folds = 5\n",
        "    baselines_df = pd.DataFrame(columns=['en', 'pl'])\n",
        "\n",
        "    models = {'KNN':KNeighborsClassifier(n_neighbors=14),\n",
        "              'logistic regression':LogisticRegression(max_iter=4000),\n",
        "              'SVC linear':SVC(kernel='linear', C=1),\n",
        "              'SVC rbf':SVC(kernel='rbf', gamma=1),\n",
        "              'Naive Bayes multinomial':MultinomialNB(alpha=0.1),\n",
        "              'Naive Bayes Gaussian':GaussianNB()}\n",
        "\n",
        "    catalogue = read_input('/content/drive/My Drive/Library_catalogue_preprocessed.jl')\n",
        "\n",
        "    for language in ['en', 'pl']:\n",
        "        catalogue_lang = catalogue[catalogue['language'] == language]\n",
        "        X, y = create_datasets(catalogue_lang)\n",
        "\n",
        "        for model in models:\n",
        "            cross_val_scores = cross_val_score(models[model], X, y, cv=cross_val_folds, scoring='recall')\n",
        "            baselines_df.loc[model, language] = np.mean(cross_val_scores)\n",
        "\n",
        "    print(f'Mean recall scores for {cross_val_folds}-fold cross-validation')\n",
        "    return baselines_df\n",
        "\n",
        "calculate_baselines()"
      ],
      "execution_count": 10,
      "outputs": [
        {
          "output_type": "stream",
          "text": [
            "Mean recall scores for 5-fold cross-validation\n"
          ],
          "name": "stdout"
        },
        {
          "output_type": "execute_result",
          "data": {
            "text/html": [
              "<div>\n",
              "<style scoped>\n",
              "    .dataframe tbody tr th:only-of-type {\n",
              "        vertical-align: middle;\n",
              "    }\n",
              "\n",
              "    .dataframe tbody tr th {\n",
              "        vertical-align: top;\n",
              "    }\n",
              "\n",
              "    .dataframe thead th {\n",
              "        text-align: right;\n",
              "    }\n",
              "</style>\n",
              "<table border=\"1\" class=\"dataframe\">\n",
              "  <thead>\n",
              "    <tr style=\"text-align: right;\">\n",
              "      <th></th>\n",
              "      <th>en</th>\n",
              "      <th>pl</th>\n",
              "    </tr>\n",
              "  </thead>\n",
              "  <tbody>\n",
              "    <tr>\n",
              "      <th>KNN</th>\n",
              "      <td>0.344444</td>\n",
              "      <td>0.0650718</td>\n",
              "    </tr>\n",
              "    <tr>\n",
              "      <th>logistic regression</th>\n",
              "      <td>0.232749</td>\n",
              "      <td>0.0783322</td>\n",
              "    </tr>\n",
              "    <tr>\n",
              "      <th>SVC linear</th>\n",
              "      <td>0.385965</td>\n",
              "      <td>0.279255</td>\n",
              "    </tr>\n",
              "    <tr>\n",
              "      <th>SVC rbf</th>\n",
              "      <td>0.288889</td>\n",
              "      <td>0.073069</td>\n",
              "    </tr>\n",
              "    <tr>\n",
              "      <th>Naive Bayes multinomial</th>\n",
              "      <td>0.526316</td>\n",
              "      <td>0.550684</td>\n",
              "    </tr>\n",
              "    <tr>\n",
              "      <th>Naive Bayes Gaussian</th>\n",
              "      <td>0.566082</td>\n",
              "      <td>0.688927</td>\n",
              "    </tr>\n",
              "  </tbody>\n",
              "</table>\n",
              "</div>"
            ],
            "text/plain": [
              "                               en         pl\n",
              "KNN                      0.344444  0.0650718\n",
              "logistic regression      0.232749  0.0783322\n",
              "SVC linear               0.385965   0.279255\n",
              "SVC rbf                  0.288889   0.073069\n",
              "Naive Bayes multinomial  0.526316   0.550684\n",
              "Naive Bayes Gaussian     0.566082   0.688927"
            ]
          },
          "metadata": {
            "tags": []
          },
          "execution_count": 10
        }
      ]
    },
    {
      "cell_type": "code",
      "metadata": {
        "id": "8uHsYfZ9dMJN",
        "colab_type": "code",
        "colab": {}
      },
      "source": [
        ""
      ],
      "execution_count": null,
      "outputs": []
    }
  ]
}