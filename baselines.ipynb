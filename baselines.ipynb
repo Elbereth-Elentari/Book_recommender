{
  "nbformat": 4,
  "nbformat_minor": 0,
  "metadata": {
    "colab": {
      "name": "baselines.ipynb",
      "provenance": [],
      "mount_file_id": "https://github.com/Elbereth-Elentari/Book_recommender/blob/master/baselines.ipynb",
      "authorship_tag": "ABX9TyOnfnsHSuiFDgZjnIvj74BK",
      "include_colab_link": true
    },
    "kernelspec": {
      "name": "python3",
      "display_name": "Python 3"
    }
  },
  "cells": [
    {
      "cell_type": "markdown",
      "metadata": {
        "id": "view-in-github",
        "colab_type": "text"
      },
      "source": [
        "<a href=\"https://colab.research.google.com/github/Elbereth-Elentari/Book_recommender/blob/master/baselines.ipynb\" target=\"_parent\"><img src=\"https://colab.research.google.com/assets/colab-badge.svg\" alt=\"Open In Colab\"/></a>"
      ]
    },
    {
      "cell_type": "code",
      "metadata": {
        "id": "k_Vv34on2y2g",
        "colab_type": "code",
        "colab": {}
      },
      "source": [
        "import pandas as pd\n",
        "import numpy as np\n",
        "\n",
        "from sklearn.preprocessing import MinMaxScaler\n",
        "from sklearn.feature_extraction.text import CountVectorizer\n",
        "from sklearn.model_selection import cross_val_score, GridSearchCV, train_test_split\n",
        "from sklearn.feature_extraction.text import TfidfTransformer\n",
        "\n",
        "from sklearn.neighbors import KNeighborsClassifier\n",
        "from sklearn.linear_model import LogisticRegression\n",
        "from sklearn.svm import SVC\n",
        "from sklearn.naive_bayes import MultinomialNB, GaussianNB"
      ],
      "execution_count": 6,
      "outputs": []
    },
    {
      "cell_type": "code",
      "metadata": {
        "id": "8t6TsD4h3FOD",
        "colab_type": "code",
        "colab": {}
      },
      "source": [
        "def read_input(jl_file):\n",
        "    catalogue_df = pd.read_json(jl_file, lines=True, orient='records').fillna('')\n",
        "    catalogue_df = catalogue_df[catalogue_df['interesting'] != '']\n",
        "    catalogue_df.replace({'interesting':'yes'}, 1, inplace=True)\n",
        "    catalogue_df.replace({'interesting':'no'}, 0, inplace=True)\n",
        "\n",
        "    def join_tokens(row):\n",
        "        return ' '.join(row['tokens'])\n",
        "\n",
        "    catalogue_df['tokens'] = catalogue_df.apply(join_tokens, axis=1)\n",
        "    return catalogue_df"
      ],
      "execution_count": 2,
      "outputs": []
    },
    {
      "cell_type": "code",
      "metadata": {
        "id": "GqtsnHrl3gQt",
        "colab_type": "code",
        "colab": {}
      },
      "source": [
        "def create_datasets(catalogue_df):\n",
        "    X = catalogue_df[['year', 'pages', 'tokens']]\n",
        "    y = catalogue_df['interesting']\n",
        "\n",
        "    scaler = MinMaxScaler().fit(X[['year', 'pages']])\n",
        "    X_scaled = scaler.transform(X[['year', 'pages']])\n",
        "\n",
        "    cvect = CountVectorizer()\n",
        "    X_counts = cvect.fit_transform(X['tokens'])\n",
        "    tfidf = TfidfTransformer(use_idf=False)\n",
        "    X_transformed = tfidf.fit_transform(X_counts)\n",
        "    X_array = X_transformed.toarray()\n",
        "    X_final = np.hstack((X_array, X_scaled))\n",
        "\n",
        "    for iteration in range(50):\n",
        "        X_final = np.hstack((X_final, X_scaled))\n",
        "\n",
        "    return X_final, y"
      ],
      "execution_count": 3,
      "outputs": []
    },
    {
      "cell_type": "code",
      "metadata": {
        "id": "sqIp4EowpF-w",
        "colab_type": "code",
        "colab": {
          "base_uri": "https://localhost:8080/",
          "height": 252
        },
        "outputId": "30cf8779-c3ee-40e6-c6c6-bf0f73fc04d1"
      },
      "source": [
        "def calculate_baselines():\n",
        "    cross_val_folds = 5\n",
        "    baselines_df = pd.DataFrame(columns=['param_name', 'en', 'param_en', 'pl', 'param_pl'])\n",
        "\n",
        "    models = {'KNN':\n",
        "              {'classifier':KNeighborsClassifier(),\n",
        "               'grid_values':{'n_neighbors':[3,4,5,6,7]}},\n",
        "              'logistic regression':\n",
        "              {'classifier':LogisticRegression(max_iter=4000)},\n",
        "              'SVC linear':\n",
        "              {'classifier':SVC(kernel='linear', C=1)},\n",
        "              'SVC rbf':\n",
        "              {'classifier':SVC(kernel='rbf', gamma=1)},\n",
        "              'Naive Bayes multinomial':\n",
        "              {'classifier':MultinomialNB(alpha=0.1)},\n",
        "              'Naive Bayes Gaussian':\n",
        "              {'classifier':GaussianNB()}}\n",
        "\n",
        "    catalogue = read_input('/content/drive/My Drive/Library_catalogue_preprocessed.jl')\n",
        "\n",
        "    for language in ['en', 'pl']:\n",
        "        catalogue_lang = catalogue[catalogue['language'] == language]\n",
        "        X, y = create_datasets(catalogue_lang)\n",
        "\n",
        "        for model in models:\n",
        "            if 'grid_values' in models[model]:\n",
        "                grid_values = models[model]['grid_values']\n",
        "                grid_search = GridSearchCV(models[model]['classifier'], param_grid=grid_values, scoring='recall')\n",
        "                X_train, X_test, y_train, y_test = train_test_split(X, y, random_state=0)\n",
        "                grid_search.fit(X_train, y_train)\n",
        "                recall = recall_score(y_test, grid_search.predict(X_test))\n",
        "                baselines_df.loc[model, language] = recall\n",
        "                param_name = list(models[model]['grid_values'].keys())[0]\n",
        "                baselines_df.loc[model, 'param_name'] = param_name\n",
        "                baselines_df.loc[model, f'param_{language}'] = grid_search.best_params_[param_name]\n",
        "            else:\n",
        "                cross_val_scores = cross_val_score(models[model]['classifier'], X, y, cv=cross_val_folds, scoring='recall')\n",
        "                baselines_df.loc[model, language] = cross_val_scores.mean()\n",
        "\n",
        "    print(f'Mean recall scores for {cross_val_folds}-fold cross-validation')\n",
        "    return baselines_df\n",
        "\n",
        "calculate_baselines()"
      ],
      "execution_count": 15,
      "outputs": [
        {
          "output_type": "stream",
          "text": [
            "Mean recall scores for 5-fold cross-validation\n"
          ],
          "name": "stdout"
        },
        {
          "output_type": "execute_result",
          "data": {
            "text/html": [
              "<div>\n",
              "<style scoped>\n",
              "    .dataframe tbody tr th:only-of-type {\n",
              "        vertical-align: middle;\n",
              "    }\n",
              "\n",
              "    .dataframe tbody tr th {\n",
              "        vertical-align: top;\n",
              "    }\n",
              "\n",
              "    .dataframe thead th {\n",
              "        text-align: right;\n",
              "    }\n",
              "</style>\n",
              "<table border=\"1\" class=\"dataframe\">\n",
              "  <thead>\n",
              "    <tr style=\"text-align: right;\">\n",
              "      <th></th>\n",
              "      <th>param_name</th>\n",
              "      <th>en</th>\n",
              "      <th>param_en</th>\n",
              "      <th>pl</th>\n",
              "      <th>param_pl</th>\n",
              "    </tr>\n",
              "  </thead>\n",
              "  <tbody>\n",
              "    <tr>\n",
              "      <th>KNN</th>\n",
              "      <td>n_neighbors</td>\n",
              "      <td>0.526316</td>\n",
              "      <td>3</td>\n",
              "      <td>0.347368</td>\n",
              "      <td>3</td>\n",
              "    </tr>\n",
              "    <tr>\n",
              "      <th>logistic regression</th>\n",
              "      <td>NaN</td>\n",
              "      <td>0.232749</td>\n",
              "      <td>NaN</td>\n",
              "      <td>0.0783322</td>\n",
              "      <td>NaN</td>\n",
              "    </tr>\n",
              "    <tr>\n",
              "      <th>SVC linear</th>\n",
              "      <td>NaN</td>\n",
              "      <td>0.385965</td>\n",
              "      <td>NaN</td>\n",
              "      <td>0.279255</td>\n",
              "      <td>NaN</td>\n",
              "    </tr>\n",
              "    <tr>\n",
              "      <th>SVC rbf</th>\n",
              "      <td>NaN</td>\n",
              "      <td>0.288889</td>\n",
              "      <td>NaN</td>\n",
              "      <td>0.073069</td>\n",
              "      <td>NaN</td>\n",
              "    </tr>\n",
              "    <tr>\n",
              "      <th>Naive Bayes multinomial</th>\n",
              "      <td>NaN</td>\n",
              "      <td>0.526316</td>\n",
              "      <td>NaN</td>\n",
              "      <td>0.550684</td>\n",
              "      <td>NaN</td>\n",
              "    </tr>\n",
              "    <tr>\n",
              "      <th>Naive Bayes Gaussian</th>\n",
              "      <td>NaN</td>\n",
              "      <td>0.566082</td>\n",
              "      <td>NaN</td>\n",
              "      <td>0.688927</td>\n",
              "      <td>NaN</td>\n",
              "    </tr>\n",
              "  </tbody>\n",
              "</table>\n",
              "</div>"
            ],
            "text/plain": [
              "                          param_name        en param_en         pl param_pl\n",
              "KNN                      n_neighbors  0.526316        3   0.347368        3\n",
              "logistic regression              NaN  0.232749      NaN  0.0783322      NaN\n",
              "SVC linear                       NaN  0.385965      NaN   0.279255      NaN\n",
              "SVC rbf                          NaN  0.288889      NaN   0.073069      NaN\n",
              "Naive Bayes multinomial          NaN  0.526316      NaN   0.550684      NaN\n",
              "Naive Bayes Gaussian             NaN  0.566082      NaN   0.688927      NaN"
            ]
          },
          "metadata": {
            "tags": []
          },
          "execution_count": 15
        }
      ]
    },
    {
      "cell_type": "code",
      "metadata": {
        "id": "8uHsYfZ9dMJN",
        "colab_type": "code",
        "colab": {}
      },
      "source": [
        ""
      ],
      "execution_count": null,
      "outputs": []
    }
  ]
}