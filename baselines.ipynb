{
  "nbformat": 4,
  "nbformat_minor": 0,
  "metadata": {
    "colab": {
      "name": "baselines.ipynb",
      "provenance": [],
      "mount_file_id": "https://github.com/Elbereth-Elentari/Book_recommender/blob/master/baselines.ipynb",
      "authorship_tag": "ABX9TyPsj5JNBRQv77zituYazNBV",
      "include_colab_link": true
    },
    "kernelspec": {
      "name": "python3",
      "display_name": "Python 3"
    }
  },
  "cells": [
    {
      "cell_type": "markdown",
      "metadata": {
        "id": "view-in-github",
        "colab_type": "text"
      },
      "source": [
        "<a href=\"https://colab.research.google.com/github/Elbereth-Elentari/Book_recommender/blob/master/baselines.ipynb\" target=\"_parent\"><img src=\"https://colab.research.google.com/assets/colab-badge.svg\" alt=\"Open In Colab\"/></a>"
      ]
    },
    {
      "cell_type": "code",
      "metadata": {
        "id": "k_Vv34on2y2g",
        "colab_type": "code",
        "colab": {}
      },
      "source": [
        "import pandas as pd\n",
        "import numpy as np\n",
        "\n",
        "from sklearn.preprocessing import MinMaxScaler\n",
        "from sklearn.feature_extraction.text import CountVectorizer\n",
        "from sklearn.model_selection import GridSearchCV, train_test_split\n",
        "from sklearn.feature_extraction.text import TfidfTransformer\n",
        "\n",
        "from sklearn.neighbors import KNeighborsClassifier\n",
        "from sklearn.linear_model import LogisticRegression\n",
        "from sklearn.svm import SVC\n",
        "from sklearn.naive_bayes import MultinomialNB, GaussianNB\n",
        "\n",
        "from sklearn.metrics import recall_score\n",
        "\n",
        "from IPython.display import clear_output"
      ],
      "execution_count": 18,
      "outputs": []
    },
    {
      "cell_type": "code",
      "metadata": {
        "id": "8t6TsD4h3FOD",
        "colab_type": "code",
        "colab": {}
      },
      "source": [
        "def read_input(jl_file):\n",
        "    catalogue_df = pd.read_json(jl_file, lines=True, orient='records').fillna('')\n",
        "    catalogue_df = catalogue_df[catalogue_df['interesting'] != '']\n",
        "    catalogue_df.replace({'interesting':'yes'}, 1, inplace=True)\n",
        "    catalogue_df.replace({'interesting':'no'}, 0, inplace=True)\n",
        "\n",
        "    def join_tokens(row):\n",
        "        return ' '.join(row['tokens'])\n",
        "\n",
        "    catalogue_df['tokens'] = catalogue_df.apply(join_tokens, axis=1)\n",
        "    return catalogue_df"
      ],
      "execution_count": 2,
      "outputs": []
    },
    {
      "cell_type": "code",
      "metadata": {
        "id": "GqtsnHrl3gQt",
        "colab_type": "code",
        "colab": {}
      },
      "source": [
        "def create_datasets(catalogue_df):\n",
        "    X = catalogue_df[['year', 'pages', 'tokens']]\n",
        "    y = catalogue_df['interesting']\n",
        "    X_train, X_test, y_train, y_test = train_test_split(X, y, random_state=0)\n",
        "\n",
        "    scaler = MinMaxScaler().fit(X_train[['year', 'pages']])\n",
        "    X_train_scaled = scaler.transform(X_train[['year', 'pages']])\n",
        "    X_test_scaled = scaler.transform(X_test[['year', 'pages']])\n",
        "\n",
        "    cvect = CountVectorizer()\n",
        "    X_train_counts = cvect.fit_transform(X_train['tokens'])\n",
        "    X_test_counts = cvect.transform(X_test['tokens'])\n",
        "    tfidf = TfidfTransformer(use_idf=False)\n",
        "    X_train_transformed = tfidf.fit_transform(X_train_counts)\n",
        "    X_test_transformed = tfidf.transform(X_test_counts)\n",
        "\n",
        "    X_train_array = X_train_transformed.toarray()\n",
        "    X_test_array = X_test_transformed.toarray()\n",
        "    X_train_final = np.hstack((X_train_array, X_train_scaled))\n",
        "    X_test_final = np.hstack((X_test_array, X_test_scaled))\n",
        "\n",
        "    return X_train_final, X_test_final, y_train, y_test"
      ],
      "execution_count": 14,
      "outputs": []
    },
    {
      "cell_type": "code",
      "metadata": {
        "id": "HBbPQT4Kqxt4",
        "colab_type": "code",
        "colab": {}
      },
      "source": [
        "def create_model_dictionary():\n",
        "    models = {'KNN':\n",
        "              {'classifier':KNeighborsClassifier(),\n",
        "               'grid_values':{'n_neighbors':[2, 3, 4, 5, 6]}},\n",
        "              'logistic regression':\n",
        "              {'classifier':LogisticRegression(max_iter=4000),\n",
        "               'grid_values':{'C':[20, 30, 40, 600, 700, 800]}},\n",
        "              'SVC linear':\n",
        "              {'classifier':SVC(kernel='linear'),\n",
        "               'grid_values':{'C':[1.5, 2, 2.5, 3, 3.5]}},\n",
        "              'SVC rbf':\n",
        "              {'classifier':SVC(kernel='rbf'),\n",
        "               'grid_values':{'C':[3.5, 4, 4.5, 6.5, 7, 7.5]}},\n",
        "              'Naive Bayes multinomial':\n",
        "              {'classifier':MultinomialNB(),\n",
        "               'grid_values':{'alpha':[0.015, 0.02, 0.025, 0.03, 0.035]}},\n",
        "              'Naive Bayes Gaussian':\n",
        "              {'classifier':GaussianNB(),\n",
        "               'grid_values':{'var_smoothing':[0.035, 0.04, 0.045, 0.15, 0.2, 0.25]}}}\n",
        "    return models"
      ],
      "execution_count": 29,
      "outputs": []
    },
    {
      "cell_type": "code",
      "metadata": {
        "id": "sqIp4EowpF-w",
        "colab_type": "code",
        "colab": {
          "base_uri": "https://localhost:8080/",
          "height": 252
        },
        "outputId": "cd00a48b-6b55-46c4-a52f-97020eb79f2d"
      },
      "source": [
        "def calculate_baselines():\n",
        "    baselines_df = pd.DataFrame(columns=['param_name', 'en', 'param_en', 'pl', 'param_pl'])\n",
        "    models = create_model_dictionary()\n",
        "    catalogue = read_input('/content/drive/My Drive/Library_catalogue_preprocessed.jl')\n",
        "\n",
        "    for language in ['en', 'pl']:\n",
        "        print(f'Processing {language}')\n",
        "        lang_catalogue = catalogue[catalogue['language'] == language]\n",
        "        X_train, X_test, y_train, y_test = create_datasets(lang_catalogue)\n",
        "\n",
        "        for model in models:\n",
        "            print(f'Calculating {model}')\n",
        "            grid_values = models[model]['grid_values']\n",
        "            grid_search = GridSearchCV(models[model]['classifier'], param_grid=grid_values, scoring='recall')\n",
        "            grid_search.fit(X_train, y_train)\n",
        "            recall = recall_score(y_test, grid_search.predict(X_test))\n",
        "            baselines_df.loc[model, language] = recall\n",
        "            param_name = list(models[model]['grid_values'].keys())[0]\n",
        "            baselines_df.loc[model, 'param_name'] = param_name\n",
        "            baselines_df.loc[model, f'param_{language}'] = grid_search.best_params_[param_name]\n",
        "\n",
        "    clear_output()\n",
        "    print(f'Mean recall scores')\n",
        "    return baselines_df\n",
        "\n",
        "calculate_baselines()"
      ],
      "execution_count": 30,
      "outputs": [
        {
          "output_type": "stream",
          "text": [
            "Mean recall scores\n"
          ],
          "name": "stdout"
        },
        {
          "output_type": "execute_result",
          "data": {
            "text/html": [
              "<div>\n",
              "<style scoped>\n",
              "    .dataframe tbody tr th:only-of-type {\n",
              "        vertical-align: middle;\n",
              "    }\n",
              "\n",
              "    .dataframe tbody tr th {\n",
              "        vertical-align: top;\n",
              "    }\n",
              "\n",
              "    .dataframe thead th {\n",
              "        text-align: right;\n",
              "    }\n",
              "</style>\n",
              "<table border=\"1\" class=\"dataframe\">\n",
              "  <thead>\n",
              "    <tr style=\"text-align: right;\">\n",
              "      <th></th>\n",
              "      <th>param_name</th>\n",
              "      <th>en</th>\n",
              "      <th>param_en</th>\n",
              "      <th>pl</th>\n",
              "      <th>param_pl</th>\n",
              "    </tr>\n",
              "  </thead>\n",
              "  <tbody>\n",
              "    <tr>\n",
              "      <th>KNN</th>\n",
              "      <td>n_neighbors</td>\n",
              "      <td>0.526316</td>\n",
              "      <td>3</td>\n",
              "      <td>0.410526</td>\n",
              "      <td>3</td>\n",
              "    </tr>\n",
              "    <tr>\n",
              "      <th>logistic regression</th>\n",
              "      <td>C</td>\n",
              "      <td>0.421053</td>\n",
              "      <td>20</td>\n",
              "      <td>0.505263</td>\n",
              "      <td>700</td>\n",
              "    </tr>\n",
              "    <tr>\n",
              "      <th>SVC linear</th>\n",
              "      <td>C</td>\n",
              "      <td>0.526316</td>\n",
              "      <td>2</td>\n",
              "      <td>0.526316</td>\n",
              "      <td>3.5</td>\n",
              "    </tr>\n",
              "    <tr>\n",
              "      <th>SVC rbf</th>\n",
              "      <td>C</td>\n",
              "      <td>0.421053</td>\n",
              "      <td>3.5</td>\n",
              "      <td>0.568421</td>\n",
              "      <td>7</td>\n",
              "    </tr>\n",
              "    <tr>\n",
              "      <th>Naive Bayes multinomial</th>\n",
              "      <td>alpha</td>\n",
              "      <td>0.473684</td>\n",
              "      <td>0.025</td>\n",
              "      <td>0.431579</td>\n",
              "      <td>0.02</td>\n",
              "    </tr>\n",
              "    <tr>\n",
              "      <th>Naive Bayes Gaussian</th>\n",
              "      <td>var_smoothing</td>\n",
              "      <td>0.894737</td>\n",
              "      <td>0.15</td>\n",
              "      <td>0.8</td>\n",
              "      <td>0.035</td>\n",
              "    </tr>\n",
              "  </tbody>\n",
              "</table>\n",
              "</div>"
            ],
            "text/plain": [
              "                            param_name        en param_en        pl param_pl\n",
              "KNN                        n_neighbors  0.526316        3  0.410526        3\n",
              "logistic regression                  C  0.421053       20  0.505263      700\n",
              "SVC linear                           C  0.526316        2  0.526316      3.5\n",
              "SVC rbf                              C  0.421053      3.5  0.568421        7\n",
              "Naive Bayes multinomial          alpha  0.473684    0.025  0.431579     0.02\n",
              "Naive Bayes Gaussian     var_smoothing  0.894737     0.15       0.8    0.035"
            ]
          },
          "metadata": {
            "tags": []
          },
          "execution_count": 30
        }
      ]
    },
    {
      "cell_type": "code",
      "metadata": {
        "id": "8uHsYfZ9dMJN",
        "colab_type": "code",
        "colab": {}
      },
      "source": [
        ""
      ],
      "execution_count": null,
      "outputs": []
    }
  ]
}