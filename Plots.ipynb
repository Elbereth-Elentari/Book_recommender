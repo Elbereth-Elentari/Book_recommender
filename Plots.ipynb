{
  "nbformat": 4,
  "nbformat_minor": 0,
  "metadata": {
    "colab": {
      "name": "Plots.ipynb",
      "provenance": [],
      "mount_file_id": "1jwijW5ucgNwALcwWYVMC9JTWZnEgTOuq",
      "authorship_tag": "ABX9TyMHWhcP2pz0GZj1dRHRaqD9",
      "include_colab_link": true
    },
    "kernelspec": {
      "name": "python3",
      "display_name": "Python 3"
    }
  },
  "cells": [
    {
      "cell_type": "markdown",
      "metadata": {
        "id": "view-in-github",
        "colab_type": "text"
      },
      "source": [
        "<a href=\"https://colab.research.google.com/github/Elbereth-Elentari/Book_recommender/blob/master/Plots.ipynb\" target=\"_parent\"><img src=\"https://colab.research.google.com/assets/colab-badge.svg\" alt=\"Open In Colab\"/></a>"
      ]
    },
    {
      "cell_type": "code",
      "metadata": {
        "id": "smjvXBjsB_p9",
        "colab_type": "code",
        "colab": {}
      },
      "source": [
        "import pandas as pd\n",
        "import numpy as np\n",
        "import matplotlib.pyplot as plt\n",
        "import seaborn"
      ],
      "execution_count": 76,
      "outputs": []
    },
    {
      "cell_type": "code",
      "metadata": {
        "id": "t1rN9CnoCT3T",
        "colab_type": "code",
        "colab": {}
      },
      "source": [
        "cat = pd.read_json('/content/drive/My Drive/Library_catalogue_preprocessed.jl', lines=True, orient='records')"
      ],
      "execution_count": 3,
      "outputs": []
    },
    {
      "cell_type": "code",
      "metadata": {
        "id": "on77ZOYUC-np",
        "colab_type": "code",
        "colab": {
          "base_uri": "https://localhost:8080/",
          "height": 357
        },
        "outputId": "e8526653-f9ee-473f-e909-449ffc682091"
      },
      "source": [
        "cat.head()"
      ],
      "execution_count": 4,
      "outputs": [
        {
          "output_type": "execute_result",
          "data": {
            "text/html": [
              "<div>\n",
              "<style scoped>\n",
              "    .dataframe tbody tr th:only-of-type {\n",
              "        vertical-align: middle;\n",
              "    }\n",
              "\n",
              "    .dataframe tbody tr th {\n",
              "        vertical-align: top;\n",
              "    }\n",
              "\n",
              "    .dataframe thead th {\n",
              "        text-align: right;\n",
              "    }\n",
              "</style>\n",
              "<table border=\"1\" class=\"dataframe\">\n",
              "  <thead>\n",
              "    <tr style=\"text-align: right;\">\n",
              "      <th></th>\n",
              "      <th>title</th>\n",
              "      <th>author</th>\n",
              "      <th>storage</th>\n",
              "      <th>WD_signature</th>\n",
              "      <th>publisher</th>\n",
              "      <th>year</th>\n",
              "      <th>pages</th>\n",
              "      <th>language</th>\n",
              "      <th>tokens</th>\n",
              "      <th>interesting</th>\n",
              "    </tr>\n",
              "  </thead>\n",
              "  <tbody>\n",
              "    <tr>\n",
              "      <th>0</th>\n",
              "      <td>Pomiary fizyczne za pomocą komputera : dla stu...</td>\n",
              "      <td>Jagiełło, Michał (1941-2016).</td>\n",
              "      <td>magazyn</td>\n",
              "      <td>QC39 .P58 1999</td>\n",
              "      <td>Wydaw. Naukowe UAM</td>\n",
              "      <td>9999</td>\n",
              "      <td>238</td>\n",
              "      <td>pl</td>\n",
              "      <td>[pomiara, fizyczny, pomoc, komputer, student, ...</td>\n",
              "      <td></td>\n",
              "    </tr>\n",
              "    <tr>\n",
              "      <th>1</th>\n",
              "      <td>Poszukiwanie prawdy : uwolnienie od iluzji</td>\n",
              "      <td>Andrykowski, Janusz (1935- ).</td>\n",
              "      <td>magazyn</td>\n",
              "      <td>DK4133 .L47 1992 t.1</td>\n",
              "      <td>Studio</td>\n",
              "      <td>2021</td>\n",
              "      <td>406</td>\n",
              "      <td>pl</td>\n",
              "      <td>[poszukiwanie, prawda, uwolnienie, iluzja]</td>\n",
              "      <td></td>\n",
              "    </tr>\n",
              "    <tr>\n",
              "      <th>2</th>\n",
              "      <td>Wielki Pierd : opowiadania historyczne</td>\n",
              "      <td>Bednarczyk, Ryszard (1953- ).</td>\n",
              "      <td>magazyn</td>\n",
              "      <td></td>\n",
              "      <td>Drukpol sp.j</td>\n",
              "      <td>2020</td>\n",
              "      <td>146</td>\n",
              "      <td>pl</td>\n",
              "      <td>[wielki, pierd, opowiadanie, historyczny]</td>\n",
              "      <td></td>\n",
              "    </tr>\n",
              "    <tr>\n",
              "      <th>3</th>\n",
              "      <td>Instrumentalne wszczynanie postępowań karnych ...</td>\n",
              "      <td>Ladziński, Andrzej.</td>\n",
              "      <td>magazyn</td>\n",
              "      <td>KKP3693 .L337 2020</td>\n",
              "      <td>TNOiK.</td>\n",
              "      <td>2020</td>\n",
              "      <td>122</td>\n",
              "      <td>pl</td>\n",
              "      <td>[instrumentalny, wszczynanie, postępowanie, ka...</td>\n",
              "      <td></td>\n",
              "    </tr>\n",
              "    <tr>\n",
              "      <th>4</th>\n",
              "      <td>Wszystko nie tak! 2</td>\n",
              "      <td>Frączyk, Izabella (1970- ).</td>\n",
              "      <td></td>\n",
              "      <td>PG7206.R335 W793 2020</td>\n",
              "      <td>Prószyński i S</td>\n",
              "      <td>2020</td>\n",
              "      <td>461</td>\n",
              "      <td>pl</td>\n",
              "      <td>[2]</td>\n",
              "      <td></td>\n",
              "    </tr>\n",
              "  </tbody>\n",
              "</table>\n",
              "</div>"
            ],
            "text/plain": [
              "                                               title  ... interesting\n",
              "0  Pomiary fizyczne za pomocą komputera : dla stu...  ...            \n",
              "1         Poszukiwanie prawdy : uwolnienie od iluzji  ...            \n",
              "2             Wielki Pierd : opowiadania historyczne  ...            \n",
              "3  Instrumentalne wszczynanie postępowań karnych ...  ...            \n",
              "4                                Wszystko nie tak! 2  ...            \n",
              "\n",
              "[5 rows x 10 columns]"
            ]
          },
          "metadata": {
            "tags": []
          },
          "execution_count": 4
        }
      ]
    },
    {
      "cell_type": "code",
      "metadata": {
        "id": "dIyAT3B1DEoN",
        "colab_type": "code",
        "colab": {}
      },
      "source": [
        "cat.groupby(by='year').size().reset_index().sort_values(0, ascending=False)[:20]"
      ],
      "execution_count": null,
      "outputs": []
    },
    {
      "cell_type": "code",
      "metadata": {
        "id": "vb2yBbg7Kb_z",
        "colab_type": "code",
        "colab": {}
      },
      "source": [
        "cat_20_21 = cat[(cat['year'] >= 1900) & (cat['year'] <= 2021)]\n",
        "years = list(cat_20_21.year.unique())\n",
        "years.sort()\n",
        "book_counts = [len(cat[cat['year'] == year]) for year in years]"
      ],
      "execution_count": 65,
      "outputs": []
    },
    {
      "cell_type": "code",
      "metadata": {
        "id": "Qh-dUXA_RLnK",
        "colab_type": "code",
        "colab": {
          "base_uri": "https://localhost:8080/",
          "height": 265
        },
        "outputId": "71e310f7-3ebd-45e1-e54d-ecddfa0d9188"
      },
      "source": [
        "_ = plt.scatter(years, book_counts)"
      ],
      "execution_count": 79,
      "outputs": [
        {
          "output_type": "display_data",
          "data": {
            "image/png": "[encoded data removed]",
            "text/plain": [
              "<Figure size 432x288 with 1 Axes>"
            ]
          },
          "metadata": {
            "tags": [],
            "needs_background": "light"
          }
        }
      ]
    },
    {
      "cell_type": "code",
      "metadata": {
        "id": "JoXWfawsHIsU",
        "colab_type": "code",
        "colab": {
          "base_uri": "https://localhost:8080/",
          "height": 265
        },
        "outputId": "7de899f2-0b2d-4676-bf68-133f2d7bbcdb"
      },
      "source": [
        "_ = plt.scatter(years[30:70], book_counts[30:70])"
      ],
      "execution_count": 67,
      "outputs": [
        {
          "output_type": "display_data",
          "data": {
            "image/png": "[encoded data removed]",
            "text/plain": [
              "<Figure size 432x288 with 1 Axes>"
            ]
          },
          "metadata": {
            "tags": [],
            "needs_background": "light"
          }
        }
      ]
    },
    {
      "cell_type": "code",
      "metadata": {
        "id": "d6koIeskMBUl",
        "colab_type": "code",
        "colab": {
          "base_uri": "https://localhost:8080/",
          "height": 265
        },
        "outputId": "a60d8b03-6afc-4b55-eb9a-5b0f65b93e7f"
      },
      "source": [
        "_ = plt.scatter(years[70:100], book_counts[70:100])"
      ],
      "execution_count": 68,
      "outputs": [
        {
          "output_type": "display_data",
          "data": {
            "image/png": "[encoded data removed]",
            "text/plain": [
              "<Figure size 432x288 with 1 Axes>"
            ]
          },
          "metadata": {
            "tags": [],
            "needs_background": "light"
          }
        }
      ]
    },
    {
      "cell_type": "code",
      "metadata": {
        "id": "4hEZWw8SPzQ5",
        "colab_type": "code",
        "colab": {
          "base_uri": "https://localhost:8080/",
          "height": 265
        },
        "outputId": "f7ff85d6-a71f-430e-bb88-ea22b20b9ae9"
      },
      "source": [
        "_ = plt.scatter(years[100:], book_counts[100:])"
      ],
      "execution_count": 69,
      "outputs": [
        {
          "output_type": "display_data",
          "data": {
            "image/png": "[encoded data removed]",
            "text/plain": [
              "<Figure size 432x288 with 1 Axes>"
            ]
          },
          "metadata": {
            "tags": [],
            "needs_background": "light"
          }
        }
      ]
    },
    {
      "cell_type": "code",
      "metadata": {
        "id": "qC2JeyJdP5h4",
        "colab_type": "code",
        "colab": {}
      },
      "source": [
        "book_lengths = [np.mean(cat[cat['year'] == year]['pages']) for year in years]"
      ],
      "execution_count": 77,
      "outputs": []
    },
    {
      "cell_type": "code",
      "metadata": {
        "id": "3yXG3UlSQt6u",
        "colab_type": "code",
        "colab": {
          "base_uri": "https://localhost:8080/",
          "height": 265
        },
        "outputId": "4962ce39-2519-4571-cf08-867d40961ee1"
      },
      "source": [
        "_ = plt.scatter(years, book_lengths)"
      ],
      "execution_count": 78,
      "outputs": [
        {
          "output_type": "display_data",
          "data": {
            "image/png": "[encoded data removed]",
            "text/plain": [
              "<Figure size 432x288 with 1 Axes>"
            ]
          },
          "metadata": {
            "tags": [],
            "needs_background": "light"
          }
        }
      ]
    },
    {
      "cell_type": "code",
      "metadata": {
        "id": "pEBlnT7vRER3",
        "colab_type": "code",
        "colab": {}
      },
      "source": [
        ""
      ],
      "execution_count": null,
      "outputs": []
    }
  ]
}