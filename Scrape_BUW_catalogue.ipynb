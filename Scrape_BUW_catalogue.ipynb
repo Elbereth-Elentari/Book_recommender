{
  "nbformat": 4,
  "nbformat_minor": 0,
  "metadata": {
    "colab": {
      "name": "Scrape_BUW_catalogue.ipynb",
      "provenance": [],
      "mount_file_id": "1aIxbB7gsIkyY0MS2DuQ1UiXJ8lkGQADR",
      "authorship_tag": "ABX9TyMINVczKOzs80idXu5IAYJu",
      "include_colab_link": true
    },
    "kernelspec": {
      "name": "python3",
      "display_name": "Python 3"
    }
  },
  "cells": [
    {
      "cell_type": "markdown",
      "metadata": {
        "id": "view-in-github",
        "colab_type": "text"
      },
      "source": [
        "<a href=\"https://colab.research.google.com/github/Elbereth-Elentari/Book_recommender/blob/master/Scrape_BUW_catalogue.ipynb\" target=\"_parent\"><img src=\"https://colab.research.google.com/assets/colab-badge.svg\" alt=\"Open In Colab\"/></a>"
      ]
    },
    {
      "cell_type": "code",
      "metadata": {
        "id": "CPPuHJkGhliT",
        "colab_type": "code",
        "colab": {
          "base_uri": "https://localhost:8080/",
          "height": 1000
        },
        "outputId": "5297d2e4-dfe7-435c-d24d-2ef7380c5d44"
      },
      "source": [
        "!pip3 install scrapy\n",
        "!pip3 install bs4"
      ],
      "execution_count": 1,
      "outputs": [
        {
          "output_type": "stream",
          "text": [
            "Collecting scrapy\n",
            "\u001b[?25l  Downloading https://files.pythonhosted.org/packages/eb/9f/81a270190802cf02d49a495a2ee9291ea1d21f969a900880285dd7444d74/Scrapy-2.2.1-py2.py3-none-any.whl (241kB)\n",
            "\u001b[K     |████████████████████████████████| 245kB 2.7MB/s \n",
            "\u001b[?25hCollecting cryptography>=2.0\n",
            "\u001b[?25l  Downloading https://files.pythonhosted.org/packages/ba/91/84a29d6a27fd6dfc21f475704c4d2053d58ed7a4033c2b0ce1b4ca4d03d9/cryptography-3.0-cp35-abi3-manylinux2010_x86_64.whl (2.7MB)\n",
            "\u001b[K     |████████████████████████████████| 2.7MB 8.5MB/s \n",
            "\u001b[?25hRequirement already satisfied: lxml>=3.5.0 in /usr/local/lib/python3.6/dist-packages (from scrapy) (4.2.6)\n",
            "Collecting PyDispatcher>=2.0.5\n",
            "  Downloading https://files.pythonhosted.org/packages/cd/37/39aca520918ce1935bea9c356bcbb7ed7e52ad4e31bff9b943dfc8e7115b/PyDispatcher-2.0.5.tar.gz\n",
            "Collecting protego>=0.1.15\n",
            "\u001b[?25l  Downloading https://files.pythonhosted.org/packages/db/6e/bf6d5e4d7cf233b785719aaec2c38f027b9c2ed980a0015ec1a1cced4893/Protego-0.1.16.tar.gz (3.2MB)\n",
            "\u001b[K     |████████████████████████████████| 3.2MB 26.8MB/s \n",
            "\u001b[?25hCollecting parsel>=1.5.0\n",
            "  Downloading https://files.pythonhosted.org/packages/23/1e/9b39d64cbab79d4362cdd7be7f5e9623d45c4a53b3f7522cd8210df52d8e/parsel-1.6.0-py2.py3-none-any.whl\n",
            "Collecting Twisted>=17.9.0\n",
            "\u001b[?25l  Downloading https://files.pythonhosted.org/packages/b7/04/1a664c9e5ec0224a1c1a154ddecaa4dc7b8967521bba225efcc41a03d5f3/Twisted-20.3.0-cp36-cp36m-manylinux1_x86_64.whl (3.1MB)\n",
            "\u001b[K     |████████████████████████████████| 3.1MB 29.2MB/s \n",
            "\u001b[?25hCollecting itemadapter>=0.1.0\n",
            "  Downloading https://files.pythonhosted.org/packages/7d/fb/92f848fcfa85dc9f95370eaecb5c99b5230dd4fc5c6bae684f4ca59df973/itemadapter-0.1.0-py3-none-any.whl\n",
            "Collecting zope.interface>=4.1.3\n",
            "\u001b[?25l  Downloading https://files.pythonhosted.org/packages/57/33/565274c28a11af60b7cfc0519d46bde4125fcd7d32ebc0a81b480d0e8da6/zope.interface-5.1.0-cp36-cp36m-manylinux2010_x86_64.whl (234kB)\n",
            "\u001b[K     |████████████████████████████████| 235kB 48.8MB/s \n",
            "\u001b[?25hCollecting pyOpenSSL>=16.2.0\n",
            "\u001b[?25l  Downloading https://files.pythonhosted.org/packages/9e/de/f8342b68fa9e981d348039954657bdf681b2ab93de27443be51865ffa310/pyOpenSSL-19.1.0-py2.py3-none-any.whl (53kB)\n",
            "\u001b[K     |████████████████████████████████| 61kB 8.3MB/s \n",
            "\u001b[?25hCollecting queuelib>=1.4.2\n",
            "  Downloading https://files.pythonhosted.org/packages/4c/85/ae64e9145f39dd6d14f8af3fa809a270ef3729f3b90b3c0cf5aa242ab0d4/queuelib-1.5.0-py2.py3-none-any.whl\n",
            "Collecting service-identity>=16.0.0\n",
            "  Downloading https://files.pythonhosted.org/packages/e9/7c/2195b890023e098f9618d43ebc337d83c8b38d414326685339eb024db2f6/service_identity-18.1.0-py2.py3-none-any.whl\n",
            "Collecting w3lib>=1.17.0\n",
            "  Downloading https://files.pythonhosted.org/packages/a3/59/b6b14521090e7f42669cafdb84b0ab89301a42f1f1a82fcf5856661ea3a7/w3lib-1.22.0-py2.py3-none-any.whl\n",
            "Collecting cssselect>=0.9.1\n",
            "  Downloading https://files.pythonhosted.org/packages/3b/d4/3b5c17f00cce85b9a1e6f91096e1cc8e8ede2e1be8e96b87ce1ed09e92c5/cssselect-1.1.0-py2.py3-none-any.whl\n",
            "Requirement already satisfied: cffi!=1.11.3,>=1.8 in /usr/local/lib/python3.6/dist-packages (from cryptography>=2.0->scrapy) (1.14.1)\n",
            "Requirement already satisfied: six>=1.4.1 in /usr/local/lib/python3.6/dist-packages (from cryptography>=2.0->scrapy) (1.15.0)\n",
            "Collecting incremental>=16.10.1\n",
            "  Downloading https://files.pythonhosted.org/packages/f5/1d/c98a587dc06e107115cf4a58b49de20b19222c83d75335a192052af4c4b7/incremental-17.5.0-py2.py3-none-any.whl\n",
            "Collecting hyperlink>=17.1.1\n",
            "  Downloading https://files.pythonhosted.org/packages/7f/91/e916ca10a2de1cb7101a9b24da546fb90ee14629e23160086cf3361c4fb8/hyperlink-19.0.0-py2.py3-none-any.whl\n",
            "Collecting Automat>=0.3.0\n",
            "  Downloading https://files.pythonhosted.org/packages/dd/83/5f6f3c1a562674d65efc320257bdc0873ec53147835aeef7762fe7585273/Automat-20.2.0-py2.py3-none-any.whl\n",
            "Collecting PyHamcrest!=1.10.0,>=1.9.0\n",
            "\u001b[?25l  Downloading https://files.pythonhosted.org/packages/40/16/e54cc65891f01cb62893540f44ffd3e8dab0a22443e1b438f1a9f5574bee/PyHamcrest-2.0.2-py3-none-any.whl (52kB)\n",
            "\u001b[K     |████████████████████████████████| 61kB 8.1MB/s \n",
            "\u001b[?25hCollecting constantly>=15.1\n",
            "  Downloading https://files.pythonhosted.org/packages/b9/65/48c1909d0c0aeae6c10213340ce682db01b48ea900a7d9fce7a7910ff318/constantly-15.1.0-py2.py3-none-any.whl\n",
            "Requirement already satisfied: attrs>=19.2.0 in /usr/local/lib/python3.6/dist-packages (from Twisted>=17.9.0->scrapy) (19.3.0)\n",
            "Requirement already satisfied: setuptools in /usr/local/lib/python3.6/dist-packages (from zope.interface>=4.1.3->scrapy) (49.2.0)\n",
            "Requirement already satisfied: pyasn1-modules in /usr/local/lib/python3.6/dist-packages (from service-identity>=16.0.0->scrapy) (0.2.8)\n",
            "Requirement already satisfied: pyasn1 in /usr/local/lib/python3.6/dist-packages (from service-identity>=16.0.0->scrapy) (0.4.8)\n",
            "Requirement already satisfied: pycparser in /usr/local/lib/python3.6/dist-packages (from cffi!=1.11.3,>=1.8->cryptography>=2.0->scrapy) (2.20)\n",
            "Requirement already satisfied: idna>=2.5 in /usr/local/lib/python3.6/dist-packages (from hyperlink>=17.1.1->Twisted>=17.9.0->scrapy) (2.10)\n",
            "Building wheels for collected packages: PyDispatcher, protego\n",
            "  Building wheel for PyDispatcher (setup.py) ... \u001b[?25l\u001b[?25hdone\n",
            "  Created wheel for PyDispatcher: filename=PyDispatcher-2.0.5-cp36-none-any.whl size=11515 sha256=358b11955fc5d4c89c7cc494461b773faa10f736b99975dbb27af4ed889853c1\n",
            "  Stored in directory: /root/.cache/pip/wheels/88/99/96/cfef6665f9cb1522ee6757ae5955feedf2fe25f1737f91fa7f\n",
            "  Building wheel for protego (setup.py) ... \u001b[?25l\u001b[?25hdone\n",
            "  Created wheel for protego: filename=Protego-0.1.16-cp36-none-any.whl size=7765 sha256=aeb8fdd1427239831ad6c02d418a16eda3ca13456d9053446920bb4942f8b4f1\n",
            "  Stored in directory: /root/.cache/pip/wheels/51/01/d1/4a2286a976dccd025ba679acacfe37320540df0f2283ecab12\n",
            "Successfully built PyDispatcher protego\n",
            "Installing collected packages: cryptography, PyDispatcher, protego, w3lib, cssselect, parsel, incremental, hyperlink, zope.interface, Automat, PyHamcrest, constantly, Twisted, itemadapter, pyOpenSSL, queuelib, service-identity, scrapy\n",
            "Successfully installed Automat-20.2.0 PyDispatcher-2.0.5 PyHamcrest-2.0.2 Twisted-20.3.0 constantly-15.1.0 cryptography-3.0 cssselect-1.1.0 hyperlink-19.0.0 incremental-17.5.0 itemadapter-0.1.0 parsel-1.6.0 protego-0.1.16 pyOpenSSL-19.1.0 queuelib-1.5.0 scrapy-2.2.1 service-identity-18.1.0 w3lib-1.22.0 zope.interface-5.1.0\n",
            "Requirement already satisfied: bs4 in /usr/local/lib/python3.6/dist-packages (0.0.1)\n",
            "Requirement already satisfied: beautifulsoup4 in /usr/local/lib/python3.6/dist-packages (from bs4) (4.6.3)\n"
          ],
          "name": "stdout"
        }
      ]
    },
    {
      "cell_type": "code",
      "metadata": {
        "id": "sqelvzQssPg0",
        "colab_type": "code",
        "colab": {}
      },
      "source": [
        "import scrapy\n",
        "from bs4 import BeautifulSoup\n",
        "import json\n",
        "import re\n",
        "import logging\n",
        "\n",
        "\n",
        "class JsonWriterPipeline(object):\n",
        "\n",
        "    def open_spider(self, spider):\n",
        "        self.file = open('/content/drive/My Drive/Library_catalogue.jl', 'w')\n",
        "\n",
        "    def close_spider(self, spider):\n",
        "        self.file.close()\n",
        "\n",
        "    def process_item(self, item, spider):\n",
        "        line = json.dumps(dict(item)) + \"\\n\"\n",
        "        self.file.write(line)\n",
        "        return item\n",
        "\n",
        "\n",
        "class BookSpider(scrapy.Spider):\n",
        "    name = 'books'\n",
        "    start_urls = ['https://chamo.buw.uw.edu.pl/search/query?match_1=MUST&field_1=text&match_2=PHRASE&field_2=text&match_3=SHOULD&field_3=text&match_4=NOT&field_4=text&filter_loc=10000&filter_loc=10002&filter_format=book&filter_lang=pol&filter_lang=eng&theme=system']\n",
        "    custom_settings = {\n",
        "        'LOG_LEVEL': logging.WARNING,\n",
        "        'ITEM_PIPELINES': {'__main__.JsonWriterPipeline': 1},\n",
        "        'FEED_FORMAT':'json',\n",
        "        'FEED_URI': '/content/drive/My Drive/Library_catalogue.json'         \n",
        "    }\n",
        "\n",
        "    def parse(self, response):\n",
        "        soup = BeautifulSoup(response.body, 'html.parser')\n",
        "        records = soup.find(class_='records').find_all('div', class_='record')\n",
        "        \n",
        "        author, storage, WD_signature, publisher,  = '', '', '', ''\n",
        "        pages, year = 0, 0\n",
        "        for record in records:\n",
        "            if 'Adres wyd.' in record.text and 'Opis fiz.' in record.text:\n",
        "                title = record.find(class_='title').text\n",
        "                title = re.sub(r' [=/].+', '', title)\n",
        "                try: author = record.find(class_='author').text\n",
        "                except: pass\n",
        "                if 'BUW Magazyn' in record.text: storage = 'magazyn'\n",
        "\n",
        "                infos = record.find_all('tr')\n",
        "                for info in infos:\n",
        "                    if 'Klasyfikacja WD' in info.text:\n",
        "                        WD_signature = info.a.text\n",
        "                    elif 'Adres wyd.' in info.text:\n",
        "                        publisher_candidates = info.find_all('span')\n",
        "                        for publisher in publisher_candidates:\n",
        "                            if ('class' in publisher and publisher['class'] != 'highlight') or 'class' not in publisher:\n",
        "                                publisher_with_colon = re.search(r\".+ : ?([\\w .']+),?.*(\\d{4})\", publisher.text)\n",
        "                                if publisher_with_colon:\n",
        "                                    publisher = publisher_with_colon.group(1)\n",
        "                                    year = int(publisher_with_colon.group(2))\n",
        "                                else:\n",
        "                                    publisher = re.search(r\".+? ([\\w .']+),?.*(\\d{4})\", publisher.text)\n",
        "                                    if publisher:\n",
        "                                        year = int(publisher.group(2))\n",
        "                                        publisher = publisher.group(1)\n",
        "                    elif 'Opis fiz.' in info.text:\n",
        "                        pages = info.find('span').text\n",
        "                        pages = re.sub(r'\\[.+?\\]', '', pages)\n",
        "                        pages = int(re.search(r'\\d+', pages).group(0))\n",
        "\n",
        "                yield {'title': title,\n",
        "                       'author': author,\n",
        "                       'storage': storage,\n",
        "                       'WD_signature': WD_signature,\n",
        "                       'publisher': publisher,\n",
        "                       'year': year,\n",
        "                       'pages': pages}\n",
        "\n",
        "        pagelinks = soup.find_all(class_='pageLinks')\n",
        "        for pagelink in pagelinks:\n",
        "            if 'Następne>' in pagelink.get_text():\n",
        "                next_page = pagelink.a['href']\n",
        "                if next_page is not None:\n",
        "                    yield response.follow(next_page, callback=self.parse)"
      ],
      "execution_count": 2,
      "outputs": []
    },
    {
      "cell_type": "code",
      "metadata": {
        "id": "BD7ibjI9hnYj",
        "colab_type": "code",
        "colab": {
          "base_uri": "https://localhost:8080/",
          "height": 119
        },
        "outputId": "133e19cf-4b49-4ebb-cc16-9adcc604b481"
      },
      "source": [
        "!scrapy startproject buw\n",
        "!cd buw"
      ],
      "execution_count": 3,
      "outputs": [
        {
          "output_type": "stream",
          "text": [
            "New Scrapy project 'buw', using template directory '/usr/local/lib/python3.6/dist-packages/scrapy/templates/project', created in:\n",
            "    /content/buw\n",
            "\n",
            "You can start your first spider with:\n",
            "    cd buw\n",
            "    scrapy genspider example example.com\n"
          ],
          "name": "stdout"
        }
      ]
    },
    {
      "cell_type": "code",
      "metadata": {
        "id": "ID89T8dqkD5h",
        "colab_type": "code",
        "colab": {
          "base_uri": "https://localhost:8080/",
          "height": 156
        },
        "outputId": "f66be952-e80c-47ea-a2d8-dc096a1848ee"
      },
      "source": [
        "from scrapy.crawler import CrawlerProcess\n",
        "from scrapy.utils.project import get_project_settings\n",
        "\n",
        "process = CrawlerProcess(get_project_settings())\n",
        "\n",
        "process.crawl(BookSpider)\n",
        "process.start()"
      ],
      "execution_count": 4,
      "outputs": [
        {
          "output_type": "stream",
          "text": [
            "2020-08-01 20:22:40 [scrapy.utils.log] INFO: Scrapy 2.2.1 started (bot: scrapybot)\n",
            "2020-08-01 20:22:40 [scrapy.utils.log] INFO: Versions: lxml 4.2.6.0, libxml2 2.9.8, cssselect 1.1.0, parsel 1.6.0, w3lib 1.22.0, Twisted 20.3.0, Python 3.6.9 (default, Jul 17 2020, 12:50:27) - [GCC 8.4.0], pyOpenSSL 19.1.0 (OpenSSL 1.1.1g  21 Apr 2020), cryptography 3.0, Platform Linux-4.19.104+-x86_64-with-Ubuntu-18.04-bionic\n",
            "2020-08-01 20:22:40 [scrapy.utils.log] DEBUG: Using reactor: twisted.internet.epollreactor.EPollReactor\n",
            "2020-08-01 20:22:40 [scrapy.crawler] INFO: Overridden settings:\n",
            "{'LOG_LEVEL': 30}\n",
            "/usr/local/lib/python3.6/dist-packages/scrapy/extensions/feedexport.py:210: ScrapyDeprecationWarning: The `FEED_URI` and `FEED_FORMAT` settings have been deprecated in favor of the `FEEDS` setting. Please see the `FEEDS` setting docs for more details\n",
            "  exporter = cls(crawler)\n"
          ],
          "name": "stderr"
        }
      ]
    }
  ]
}