{
  "nbformat": 4,
  "nbformat_minor": 0,
  "metadata": {
    "colab": {
      "name": "Scrape_BUW_catalogue.ipynb",
      "provenance": [],
      "mount_file_id": "1aIxbB7gsIkyY0MS2DuQ1UiXJ8lkGQADR",
      "authorship_tag": "ABX9TyMseeBIslPxWdkc3SK0I87d",
      "include_colab_link": true
    },
    "kernelspec": {
      "name": "python3",
      "display_name": "Python 3"
    }
  },
  "cells": [
    {
      "cell_type": "markdown",
      "metadata": {
        "id": "view-in-github",
        "colab_type": "text"
      },
      "source": [
        "<a href=\"https://colab.research.google.com/github/Elbereth-Elentari/Book_recommender/blob/master/Scrape_BUW_catalogue.ipynb\" target=\"_parent\"><img src=\"https://colab.research.google.com/assets/colab-badge.svg\" alt=\"Open In Colab\"/></a>"
      ]
    },
    {
      "cell_type": "code",
      "metadata": {
        "id": "CPPuHJkGhliT",
        "colab_type": "code",
        "colab": {
          "base_uri": "https://localhost:8080/"
        },
        "outputId": "3316b9b2-f837-4074-90b3-1c068ac692b2"
      },
      "source": [
        "!pip3 install scrapy\n",
        "!pip3 install bs4"
      ],
      "execution_count": null,
      "outputs": [
        {
          "output_type": "stream",
          "text": [
            "Collecting scrapy\n",
            "\u001b[?25l  Downloading https://files.pythonhosted.org/packages/eb/9f/81a270190802cf02d49a495a2ee9291ea1d21f969a900880285dd7444d74/Scrapy-2.2.1-py2.py3-none-any.whl (241kB)\n",
            "\r\u001b[K     |█▍                              | 10kB 16.7MB/s eta 0:00:01\r\u001b[K     |██▊                             | 20kB 2.1MB/s eta 0:00:01\r\u001b[K     |████                            | 30kB 2.8MB/s eta 0:00:01\r\u001b[K     |█████▍                          | 40kB 3.0MB/s eta 0:00:01\r\u001b[K     |██████▉                         | 51kB 2.4MB/s eta 0:00:01\r\u001b[K     |████████▏                       | 61kB 2.8MB/s eta 0:00:01\r\u001b[K     |█████████▌                      | 71kB 3.0MB/s eta 0:00:01\r\u001b[K     |██████████▉                     | 81kB 3.3MB/s eta 0:00:01\r\u001b[K     |████████████▎                   | 92kB 3.4MB/s eta 0:00:01\r\u001b[K     |█████████████▋                  | 102kB 3.4MB/s eta 0:00:01\r\u001b[K     |███████████████                 | 112kB 3.4MB/s eta 0:00:01\r\u001b[K     |████████████████▎               | 122kB 3.4MB/s eta 0:00:01\r\u001b[K     |█████████████████▋              | 133kB 3.4MB/s eta 0:00:01\r\u001b[K     |███████████████████             | 143kB 3.4MB/s eta 0:00:01\r\u001b[K     |████████████████████▍           | 153kB 3.4MB/s eta 0:00:01\r\u001b[K     |█████████████████████▊          | 163kB 3.4MB/s eta 0:00:01\r\u001b[K     |███████████████████████         | 174kB 3.4MB/s eta 0:00:01\r\u001b[K     |████████████████████████▌       | 184kB 3.4MB/s eta 0:00:01\r\u001b[K     |█████████████████████████▉      | 194kB 3.4MB/s eta 0:00:01\r\u001b[K     |███████████████████████████▏    | 204kB 3.4MB/s eta 0:00:01\r\u001b[K     |████████████████████████████▌   | 215kB 3.4MB/s eta 0:00:01\r\u001b[K     |█████████████████████████████▉  | 225kB 3.4MB/s eta 0:00:01\r\u001b[K     |███████████████████████████████▎| 235kB 3.4MB/s eta 0:00:01\r\u001b[K     |████████████████████████████████| 245kB 3.4MB/s \n",
            "\u001b[?25hCollecting PyDispatcher>=2.0.5\n",
            "  Downloading https://files.pythonhosted.org/packages/cd/37/39aca520918ce1935bea9c356bcbb7ed7e52ad4e31bff9b943dfc8e7115b/PyDispatcher-2.0.5.tar.gz\n",
            "Collecting itemadapter>=0.1.0\n",
            "  Downloading https://files.pythonhosted.org/packages/7d/fb/92f848fcfa85dc9f95370eaecb5c99b5230dd4fc5c6bae684f4ca59df973/itemadapter-0.1.0-py3-none-any.whl\n",
            "Collecting zope.interface>=4.1.3\n",
            "\u001b[?25l  Downloading https://files.pythonhosted.org/packages/57/33/565274c28a11af60b7cfc0519d46bde4125fcd7d32ebc0a81b480d0e8da6/zope.interface-5.1.0-cp36-cp36m-manylinux2010_x86_64.whl (234kB)\n",
            "\r\u001b[K     |█▍                              | 10kB 16.0MB/s eta 0:00:01\r\u001b[K     |██▉                             | 20kB 10.1MB/s eta 0:00:01\r\u001b[K     |████▏                           | 30kB 13.7MB/s eta 0:00:01\r\u001b[K     |█████▋                          | 40kB 6.3MB/s eta 0:00:01\r\u001b[K     |███████                         | 51kB 7.6MB/s eta 0:00:01\r\u001b[K     |████████▍                       | 61kB 8.9MB/s eta 0:00:01\r\u001b[K     |█████████▊                      | 71kB 9.0MB/s eta 0:00:01\r\u001b[K     |███████████▏                    | 81kB 10.0MB/s eta 0:00:01\r\u001b[K     |████████████▋                   | 92kB 9.5MB/s eta 0:00:01\r\u001b[K     |██████████████                  | 102kB 9.2MB/s eta 0:00:01\r\u001b[K     |███████████████▍                | 112kB 9.2MB/s eta 0:00:01\r\u001b[K     |████████████████▊               | 122kB 9.2MB/s eta 0:00:01\r\u001b[K     |██████████████████▏             | 133kB 9.2MB/s eta 0:00:01\r\u001b[K     |███████████████████▌            | 143kB 9.2MB/s eta 0:00:01\r\u001b[K     |█████████████████████           | 153kB 9.2MB/s eta 0:00:01\r\u001b[K     |██████████████████████▍         | 163kB 9.2MB/s eta 0:00:01\r\u001b[K     |███████████████████████▊        | 174kB 9.2MB/s eta 0:00:01\r\u001b[K     |█████████████████████████▏      | 184kB 9.2MB/s eta 0:00:01\r\u001b[K     |██████████████████████████▌     | 194kB 9.2MB/s eta 0:00:01\r\u001b[K     |████████████████████████████    | 204kB 9.2MB/s eta 0:00:01\r\u001b[K     |█████████████████████████████▎  | 215kB 9.2MB/s eta 0:00:01\r\u001b[K     |██████████████████████████████▊ | 225kB 9.2MB/s eta 0:00:01\r\u001b[K     |████████████████████████████████| 235kB 9.2MB/s \n",
            "\u001b[?25hCollecting Twisted>=17.9.0\n",
            "\u001b[?25l  Downloading https://files.pythonhosted.org/packages/b7/04/1a664c9e5ec0224a1c1a154ddecaa4dc7b8967521bba225efcc41a03d5f3/Twisted-20.3.0-cp36-cp36m-manylinux1_x86_64.whl (3.1MB)\n",
            "\r\u001b[K     |                                | 10kB 18.8MB/s eta 0:00:01\r\u001b[K     |▏                               | 20kB 26.9MB/s eta 0:00:01\r\u001b[K     |▎                               | 30kB 31.6MB/s eta 0:00:01\r\u001b[K     |▍                               | 40kB 22.7MB/s eta 0:00:01\r\u001b[K     |▌                               | 51kB 18.4MB/s eta 0:00:01\r\u001b[K     |▋                               | 61kB 20.7MB/s eta 0:00:01\r\u001b[K     |▊                               | 71kB 15.1MB/s eta 0:00:01\r\u001b[K     |▉                               | 81kB 16.5MB/s eta 0:00:01\r\u001b[K     |█                               | 92kB 16.0MB/s eta 0:00:01\r\u001b[K     |█                               | 102kB 13.9MB/s eta 0:00:01\r\u001b[K     |█▏                              | 112kB 13.9MB/s eta 0:00:01\r\u001b[K     |█▎                              | 122kB 13.9MB/s eta 0:00:01\r\u001b[K     |█▍                              | 133kB 13.9MB/s eta 0:00:01\r\u001b[K     |█▌                              | 143kB 13.9MB/s eta 0:00:01\r\u001b[K     |█▋                              | 153kB 13.9MB/s eta 0:00:01\r\u001b[K     |█▊                              | 163kB 13.9MB/s eta 0:00:01\r\u001b[K     |█▉                              | 174kB 13.9MB/s eta 0:00:01\r\u001b[K     |██                              | 184kB 13.9MB/s eta 0:00:01\r\u001b[K     |██                              | 194kB 13.9MB/s eta 0:00:01\r\u001b[K     |██▏                             | 204kB 13.9MB/s eta 0:00:01\r\u001b[K     |██▎                             | 215kB 13.9MB/s eta 0:00:01\r\u001b[K     |██▍                             | 225kB 13.9MB/s eta 0:00:01\r\u001b[K     |██▌                             | 235kB 13.9MB/s eta 0:00:01\r\u001b[K     |██▋                             | 245kB 13.9MB/s eta 0:00:01\r\u001b[K     |██▋                             | 256kB 13.9MB/s eta 0:00:01\r\u001b[K     |██▊                             | 266kB 13.9MB/s eta 0:00:01\r\u001b[K     |██▉                             | 276kB 13.9MB/s eta 0:00:01\r\u001b[K     |███                             | 286kB 13.9MB/s eta 0:00:01\r\u001b[K     |███                             | 296kB 13.9MB/s eta 0:00:01\r\u001b[K     |███▏                            | 307kB 13.9MB/s eta 0:00:01\r\u001b[K     |███▎                            | 317kB 13.9MB/s eta 0:00:01\r\u001b[K     |███▍                            | 327kB 13.9MB/s eta 0:00:01\r\u001b[K     |███▌                            | 337kB 13.9MB/s eta 0:00:01\r\u001b[K     |███▋                            | 348kB 13.9MB/s eta 0:00:01\r\u001b[K     |███▊                            | 358kB 13.9MB/s eta 0:00:01\r\u001b[K     |███▉                            | 368kB 13.9MB/s eta 0:00:01\r\u001b[K     |████                            | 378kB 13.9MB/s eta 0:00:01\r\u001b[K     |████                            | 389kB 13.9MB/s eta 0:00:01\r\u001b[K     |████▏                           | 399kB 13.9MB/s eta 0:00:01\r\u001b[K     |████▎                           | 409kB 13.9MB/s eta 0:00:01\r\u001b[K     |████▍                           | 419kB 13.9MB/s eta 0:00:01\r\u001b[K     |████▌                           | 430kB 13.9MB/s eta 0:00:01\r\u001b[K     |████▋                           | 440kB 13.9MB/s eta 0:00:01\r\u001b[K     |████▊                           | 450kB 13.9MB/s eta 0:00:01\r\u001b[K     |████▉                           | 460kB 13.9MB/s eta 0:00:01\r\u001b[K     |█████                           | 471kB 13.9MB/s eta 0:00:01\r\u001b[K     |█████                           | 481kB 13.9MB/s eta 0:00:01\r\u001b[K     |█████▏                          | 491kB 13.9MB/s eta 0:00:01\r\u001b[K     |█████▏                          | 501kB 13.9MB/s eta 0:00:01\r\u001b[K     |█████▎                          | 512kB 13.9MB/s eta 0:00:01\r\u001b[K     |█████▍                          | 522kB 13.9MB/s eta 0:00:01\r\u001b[K     |█████▌                          | 532kB 13.9MB/s eta 0:00:01\r\u001b[K     |█████▋                          | 542kB 13.9MB/s eta 0:00:01\r\u001b[K     |█████▊                          | 552kB 13.9MB/s eta 0:00:01\r\u001b[K     |█████▉                          | 563kB 13.9MB/s eta 0:00:01\r\u001b[K     |██████                          | 573kB 13.9MB/s eta 0:00:01\r\u001b[K     |██████                          | 583kB 13.9MB/s eta 0:00:01\r\u001b[K     |██████▏                         | 593kB 13.9MB/s eta 0:00:01\r\u001b[K     |██████▎                         | 604kB 13.9MB/s eta 0:00:01\r\u001b[K     |██████▍                         | 614kB 13.9MB/s eta 0:00:01\r\u001b[K     |██████▌                         | 624kB 13.9MB/s eta 0:00:01\r\u001b[K     |██████▋                         | 634kB 13.9MB/s eta 0:00:01\r\u001b[K     |██████▊                         | 645kB 13.9MB/s eta 0:00:01\r\u001b[K     |██████▉                         | 655kB 13.9MB/s eta 0:00:01\r\u001b[K     |███████                         | 665kB 13.9MB/s eta 0:00:01\r\u001b[K     |███████                         | 675kB 13.9MB/s eta 0:00:01\r\u001b[K     |███████▏                        | 686kB 13.9MB/s eta 0:00:01\r\u001b[K     |███████▎                        | 696kB 13.9MB/s eta 0:00:01\r\u001b[K     |███████▍                        | 706kB 13.9MB/s eta 0:00:01\r\u001b[K     |███████▌                        | 716kB 13.9MB/s eta 0:00:01\r\u001b[K     |███████▋                        | 727kB 13.9MB/s eta 0:00:01\r\u001b[K     |███████▊                        | 737kB 13.9MB/s eta 0:00:01\r\u001b[K     |███████▊                        | 747kB 13.9MB/s eta 0:00:01\r\u001b[K     |███████▉                        | 757kB 13.9MB/s eta 0:00:01\r\u001b[K     |████████                        | 768kB 13.9MB/s eta 0:00:01\r\u001b[K     |████████                        | 778kB 13.9MB/s eta 0:00:01\r\u001b[K     |████████▏                       | 788kB 13.9MB/s eta 0:00:01\r\u001b[K     |████████▎                       | 798kB 13.9MB/s eta 0:00:01\r\u001b[K     |████████▍                       | 808kB 13.9MB/s eta 0:00:01\r\u001b[K     |████████▌                       | 819kB 13.9MB/s eta 0:00:01\r\u001b[K     |████████▋                       | 829kB 13.9MB/s eta 0:00:01\r\u001b[K     |████████▊                       | 839kB 13.9MB/s eta 0:00:01\r\u001b[K     |████████▉                       | 849kB 13.9MB/s eta 0:00:01\r\u001b[K     |█████████                       | 860kB 13.9MB/s eta 0:00:01\r\u001b[K     |█████████                       | 870kB 13.9MB/s eta 0:00:01\r\u001b[K     |█████████▏                      | 880kB 13.9MB/s eta 0:00:01\r\u001b[K     |█████████▎                      | 890kB 13.9MB/s eta 0:00:01\r\u001b[K     |█████████▍                      | 901kB 13.9MB/s eta 0:00:01\r\u001b[K     |█████████▌                      | 911kB 13.9MB/s eta 0:00:01\r\u001b[K     |█████████▋                      | 921kB 13.9MB/s eta 0:00:01\r\u001b[K     |█████████▊                      | 931kB 13.9MB/s eta 0:00:01\r\u001b[K     |█████████▉                      | 942kB 13.9MB/s eta 0:00:01\r\u001b[K     |██████████                      | 952kB 13.9MB/s eta 0:00:01\r\u001b[K     |██████████                      | 962kB 13.9MB/s eta 0:00:01\r\u001b[K     |██████████▏                     | 972kB 13.9MB/s eta 0:00:01\r\u001b[K     |██████████▎                     | 983kB 13.9MB/s eta 0:00:01\r\u001b[K     |██████████▎                     | 993kB 13.9MB/s eta 0:00:01\r\u001b[K     |██████████▍                     | 1.0MB 13.9MB/s eta 0:00:01\r\u001b[K     |██████████▌                     | 1.0MB 13.9MB/s eta 0:00:01\r\u001b[K     |██████████▋                     | 1.0MB 13.9MB/s eta 0:00:01\r\u001b[K     |██████████▊                     | 1.0MB 13.9MB/s eta 0:00:01\r\u001b[K     |██████████▉                     | 1.0MB 13.9MB/s eta 0:00:01\r\u001b[K     |███████████                     | 1.1MB 13.9MB/s eta 0:00:01\r\u001b[K     |███████████                     | 1.1MB 13.9MB/s eta 0:00:01\r\u001b[K     |███████████▏                    | 1.1MB 13.9MB/s eta 0:00:01\r\u001b[K     |███████████▎                    | 1.1MB 13.9MB/s eta 0:00:01\r\u001b[K     |███████████▍                    | 1.1MB 13.9MB/s eta 0:00:01\r\u001b[K     |███████████▌                    | 1.1MB 13.9MB/s eta 0:00:01\r\u001b[K     |███████████▋                    | 1.1MB 13.9MB/s eta 0:00:01\r\u001b[K     |███████████▊                    | 1.1MB 13.9MB/s eta 0:00:01\r\u001b[K     |███████████▉                    | 1.1MB 13.9MB/s eta 0:00:01\r\u001b[K     |████████████                    | 1.1MB 13.9MB/s eta 0:00:01\r\u001b[K     |████████████                    | 1.2MB 13.9MB/s eta 0:00:01\r\u001b[K     |████████████▏                   | 1.2MB 13.9MB/s eta 0:00:01\r\u001b[K     |████████████▎                   | 1.2MB 13.9MB/s eta 0:00:01\r\u001b[K     |████████████▍                   | 1.2MB 13.9MB/s eta 0:00:01\r\u001b[K     |████████████▌                   | 1.2MB 13.9MB/s eta 0:00:01\r\u001b[K     |████████████▋                   | 1.2MB 13.9MB/s eta 0:00:01\r\u001b[K     |████████████▊                   | 1.2MB 13.9MB/s eta 0:00:01\r\u001b[K     |████████████▉                   | 1.2MB 13.9MB/s eta 0:00:01\r\u001b[K     |████████████▉                   | 1.2MB 13.9MB/s eta 0:00:01\r\u001b[K     |█████████████                   | 1.2MB 13.9MB/s eta 0:00:01\r\u001b[K     |█████████████                   | 1.3MB 13.9MB/s eta 0:00:01\r\u001b[K     |█████████████▏                  | 1.3MB 13.9MB/s eta 0:00:01\r\u001b[K     |█████████████▎                  | 1.3MB 13.9MB/s eta 0:00:01\r\u001b[K     |█████████████▍                  | 1.3MB 13.9MB/s eta 0:00:01\r\u001b[K     |█████████████▌                  | 1.3MB 13.9MB/s eta 0:00:01\r\u001b[K     |█████████████▋                  | 1.3MB 13.9MB/s eta 0:00:01\r\u001b[K     |█████████████▊                  | 1.3MB 13.9MB/s eta 0:00:01\r\u001b[K     |█████████████▉                  | 1.3MB 13.9MB/s eta 0:00:01\r\u001b[K     |██████████████                  | 1.3MB 13.9MB/s eta 0:00:01\r\u001b[K     |██████████████                  | 1.4MB 13.9MB/s eta 0:00:01\r\u001b[K     |██████████████▏                 | 1.4MB 13.9MB/s eta 0:00:01\r\u001b[K     |██████████████▎                 | 1.4MB 13.9MB/s eta 0:00:01\r\u001b[K     |██████████████▍                 | 1.4MB 13.9MB/s eta 0:00:01\r\u001b[K     |██████████████▌                 | 1.4MB 13.9MB/s eta 0:00:01\r\u001b[K     |██████████████▋                 | 1.4MB 13.9MB/s eta 0:00:01\r\u001b[K     |██████████████▊                 | 1.4MB 13.9MB/s eta 0:00:01\r\u001b[K     |██████████████▉                 | 1.4MB 13.9MB/s eta 0:00:01\r\u001b[K     |███████████████                 | 1.4MB 13.9MB/s eta 0:00:01\r\u001b[K     |███████████████                 | 1.4MB 13.9MB/s eta 0:00:01\r\u001b[K     |███████████████▏                | 1.5MB 13.9MB/s eta 0:00:01\r\u001b[K     |███████████████▎                | 1.5MB 13.9MB/s eta 0:00:01\r\u001b[K     |███████████████▍                | 1.5MB 13.9MB/s eta 0:00:01\r\u001b[K     |███████████████▍                | 1.5MB 13.9MB/s eta 0:00:01\r\u001b[K     |███████████████▌                | 1.5MB 13.9MB/s eta 0:00:01\r\u001b[K     |███████████████▋                | 1.5MB 13.9MB/s eta 0:00:01\r\u001b[K     |███████████████▊                | 1.5MB 13.9MB/s eta 0:00:01\r\u001b[K     |███████████████▉                | 1.5MB 48kB/s eta 0:00:32\r\u001b[K     |████████████████                | 1.5MB 48kB/s eta 0:00:32\r\u001b[K     |████████████████                | 1.5MB 48kB/s eta 0:00:32\r\u001b[K     |████████████████▏               | 1.6MB 48kB/s eta 0:00:32\r\u001b[K     |████████████████▎               | 1.6MB 48kB/s eta 0:00:32\r\u001b[K     |████████████████▍               | 1.6MB 48kB/s eta 0:00:31\r\u001b[K     |████████████████▌               | 1.6MB 48kB/s eta 0:00:31\r\u001b[K     |████████████████▋               | 1.6MB 48kB/s eta 0:00:31\r\u001b[K     |████████████████▊               | 1.6MB 48kB/s eta 0:00:31\r\u001b[K     |████████████████▉               | 1.6MB 48kB/s eta 0:00:30\r\u001b[K     |█████████████████               | 1.6MB 48kB/s eta 0:00:30\r\u001b[K     |█████████████████               | 1.6MB 48kB/s eta 0:00:30\r\u001b[K     |█████████████████▏              | 1.6MB 48kB/s eta 0:00:30\r\u001b[K     |█████████████████▎              | 1.7MB 48kB/s eta 0:00:30\r\u001b[K     |█████████████████▍              | 1.7MB 48kB/s eta 0:00:29\r\u001b[K     |█████████████████▌              | 1.7MB 48kB/s eta 0:00:29\r\u001b[K     |█████████████████▋              | 1.7MB 48kB/s eta 0:00:29\r\u001b[K     |█████████████████▊              | 1.7MB 48kB/s eta 0:00:29\r\u001b[K     |█████████████████▉              | 1.7MB 48kB/s eta 0:00:29\r\u001b[K     |██████████████████              | 1.7MB 48kB/s eta 0:00:28\r\u001b[K     |██████████████████              | 1.7MB 48kB/s eta 0:00:28\r\u001b[K     |██████████████████              | 1.7MB 48kB/s eta 0:00:28\r\u001b[K     |██████████████████▏             | 1.8MB 48kB/s eta 0:00:28\r\u001b[K     |██████████████████▎             | 1.8MB 48kB/s eta 0:00:28\r\u001b[K     |██████████████████▍             | 1.8MB 48kB/s eta 0:00:27\r\u001b[K     |██████████████████▌             | 1.8MB 48kB/s eta 0:00:27\r\u001b[K     |██████████████████▋             | 1.8MB 48kB/s eta 0:00:27\r\u001b[K     |██████████████████▊             | 1.8MB 48kB/s eta 0:00:27\r\u001b[K     |██████████████████▉             | 1.8MB 48kB/s eta 0:00:26\r\u001b[K     |███████████████████             | 1.8MB 48kB/s eta 0:00:26\r\u001b[K     |███████████████████             | 1.8MB 48kB/s eta 0:00:26\r\u001b[K     |███████████████████▏            | 1.8MB 48kB/s eta 0:00:26\r\u001b[K     |███████████████████▎            | 1.9MB 48kB/s eta 0:00:26\r\u001b[K     |███████████████████▍            | 1.9MB 48kB/s eta 0:00:25\r\u001b[K     |███████████████████▌            | 1.9MB 48kB/s eta 0:00:25\r\u001b[K     |███████████████████▋            | 1.9MB 48kB/s eta 0:00:25\r\u001b[K     |███████████████████▊            | 1.9MB 48kB/s eta 0:00:25\r\u001b[K     |███████████████████▉            | 1.9MB 48kB/s eta 0:00:25\r\u001b[K     |████████████████████            | 1.9MB 48kB/s eta 0:00:24\r\u001b[K     |████████████████████            | 1.9MB 48kB/s eta 0:00:24\r\u001b[K     |████████████████████▏           | 1.9MB 48kB/s eta 0:00:24\r\u001b[K     |████████████████████▎           | 1.9MB 48kB/s eta 0:00:24\r\u001b[K     |████████████████████▍           | 2.0MB 48kB/s eta 0:00:24\r\u001b[K     |████████████████████▌           | 2.0MB 48kB/s eta 0:00:23\r\u001b[K     |████████████████████▌           | 2.0MB 48kB/s eta 0:00:23\r\u001b[K     |████████████████████▋           | 2.0MB 48kB/s eta 0:00:23\r\u001b[K     |████████████████████▊           | 2.0MB 48kB/s eta 0:00:23\r\u001b[K     |████████████████████▉           | 2.0MB 48kB/s eta 0:00:22\r\u001b[K     |█████████████████████           | 2.0MB 48kB/s eta 0:00:22\r\u001b[K     |█████████████████████           | 2.0MB 48kB/s eta 0:00:22\r\u001b[K     |█████████████████████▏          | 2.0MB 48kB/s eta 0:00:22\r\u001b[K     |█████████████████████▎          | 2.0MB 48kB/s eta 0:00:22\r\u001b[K     |█████████████████████▍          | 2.1MB 48kB/s eta 0:00:21\r\u001b[K     |█████████████████████▌          | 2.1MB 48kB/s eta 0:00:21\r\u001b[K     |█████████████████████▋          | 2.1MB 48kB/s eta 0:00:21\r\u001b[K     |█████████████████████▊          | 2.1MB 48kB/s eta 0:00:21\r\u001b[K     |█████████████████████▉          | 2.1MB 48kB/s eta 0:00:21\r\u001b[K     |██████████████████████          | 2.1MB 48kB/s eta 0:00:20\r\u001b[K     |██████████████████████          | 2.1MB 48kB/s eta 0:00:20\r\u001b[K     |██████████████████████▏         | 2.1MB 48kB/s eta 0:00:20\r\u001b[K     |██████████████████████▎         | 2.1MB 48kB/s eta 0:00:20\r\u001b[K     |██████████████████████▍         | 2.2MB 48kB/s eta 0:00:20\r\u001b[K     |██████████████████████▌         | 2.2MB 48kB/s eta 0:00:19\r\u001b[K     |██████████████████████▋         | 2.2MB 48kB/s eta 0:00:19\r\u001b[K     |██████████████████████▊         | 2.2MB 48kB/s eta 0:00:19\r\u001b[K     |██████████████████████▉         | 2.2MB 48kB/s eta 0:00:19\r\u001b[K     |███████████████████████         | 2.2MB 48kB/s eta 0:00:18\r\u001b[K     |███████████████████████         | 2.2MB 48kB/s eta 0:00:18\r\u001b[K     |███████████████████████         | 2.2MB 48kB/s eta 0:00:18\r\u001b[K     |███████████████████████▏        | 2.2MB 48kB/s eta 0:00:18\r\u001b[K     |███████████████████████▎        | 2.2MB 48kB/s eta 0:00:18\r\u001b[K     |███████████████████████▍        | 2.3MB 48kB/s eta 0:00:17\r\u001b[K     |███████████████████████▌        | 2.3MB 48kB/s eta 0:00:17\r\u001b[K     |███████████████████████▋        | 2.3MB 48kB/s eta 0:00:17\r\u001b[K     |███████████████████████▊        | 2.3MB 48kB/s eta 0:00:17\r\u001b[K     |███████████████████████▉        | 2.3MB 48kB/s eta 0:00:17\r\u001b[K     |████████████████████████        | 2.3MB 48kB/s eta 0:00:16\r\u001b[K     |████████████████████████        | 2.3MB 48kB/s eta 0:00:16\r\u001b[K     |████████████████████████▏       | 2.3MB 48kB/s eta 0:00:16\r\u001b[K     |████████████████████████▎       | 2.3MB 48kB/s eta 0:00:16\r\u001b[K     |████████████████████████▍       | 2.3MB 48kB/s eta 0:00:16\r\u001b[K     |████████████████████████▌       | 2.4MB 48kB/s eta 0:00:15\r\u001b[K     |████████████████████████▋       | 2.4MB 48kB/s eta 0:00:15\r\u001b[K     |████████████████████████▊       | 2.4MB 48kB/s eta 0:00:15\r\u001b[K     |████████████████████████▉       | 2.4MB 48kB/s eta 0:00:15\r\u001b[K     |█████████████████████████       | 2.4MB 48kB/s eta 0:00:14\r\u001b[K     |█████████████████████████       | 2.4MB 48kB/s eta 0:00:14\r\u001b[K     |█████████████████████████▏      | 2.4MB 48kB/s eta 0:00:14\r\u001b[K     |█████████████████████████▎      | 2.4MB 48kB/s eta 0:00:14\r\u001b[K     |█████████████████████████▍      | 2.4MB 48kB/s eta 0:00:14\r\u001b[K     |█████████████████████████▌      | 2.4MB 48kB/s eta 0:00:13\r\u001b[K     |█████████████████████████▋      | 2.5MB 48kB/s eta 0:00:13\r\u001b[K     |█████████████████████████▋      | 2.5MB 48kB/s eta 0:00:13\r\u001b[K     |█████████████████████████▊      | 2.5MB 48kB/s eta 0:00:13\r\u001b[K     |█████████████████████████▉      | 2.5MB 48kB/s eta 0:00:13\r\u001b[K     |██████████████████████████      | 2.5MB 48kB/s eta 0:00:12\r\u001b[K     |██████████████████████████      | 2.5MB 48kB/s eta 0:00:12\r\u001b[K     |██████████████████████████▏     | 2.5MB 48kB/s eta 0:00:12\r\u001b[K     |██████████████████████████▎     | 2.5MB 48kB/s eta 0:00:12\r\u001b[K     |██████████████████████████▍     | 2.5MB 48kB/s eta 0:00:12\r\u001b[K     |██████████████████████████▌     | 2.5MB 48kB/s eta 0:00:11\r\u001b[K     |██████████████████████████▋     | 2.6MB 48kB/s eta 0:00:11\r\u001b[K     |██████████████████████████▊     | 2.6MB 48kB/s eta 0:00:11\r\u001b[K     |██████████████████████████▉     | 2.6MB 48kB/s eta 0:00:11\r\u001b[K     |███████████████████████████     | 2.6MB 48kB/s eta 0:00:10\r\u001b[K     |███████████████████████████     | 2.6MB 48kB/s eta 0:00:10\r\u001b[K     |███████████████████████████▏    | 2.6MB 48kB/s eta 0:00:10\r\u001b[K     |███████████████████████████▎    | 2.6MB 48kB/s eta 0:00:10\r\u001b[K     |███████████████████████████▍    | 2.6MB 48kB/s eta 0:00:10\r\u001b[K     |███████████████████████████▌    | 2.6MB 48kB/s eta 0:00:09\r\u001b[K     |███████████████████████████▋    | 2.7MB 48kB/s eta 0:00:09\r\u001b[K     |███████████████████████████▊    | 2.7MB 48kB/s eta 0:00:09\r\u001b[K     |███████████████████████████▉    | 2.7MB 48kB/s eta 0:00:09\r\u001b[K     |████████████████████████████    | 2.7MB 48kB/s eta 0:00:09\r\u001b[K     |████████████████████████████    | 2.7MB 48kB/s eta 0:00:08\r\u001b[K     |████████████████████████████▏   | 2.7MB 48kB/s eta 0:00:08\r\u001b[K     |████████████████████████████▏   | 2.7MB 48kB/s eta 0:00:08\r\u001b[K     |████████████████████████████▎   | 2.7MB 48kB/s eta 0:00:08\r\u001b[K     |████████████████████████████▍   | 2.7MB 48kB/s eta 0:00:08\r\u001b[K     |████████████████████████████▌   | 2.7MB 48kB/s eta 0:00:07\r\u001b[K     |████████████████████████████▋   | 2.8MB 48kB/s eta 0:00:07\r\u001b[K     |████████████████████████████▊   | 2.8MB 48kB/s eta 0:00:07\r\u001b[K     |████████████████████████████▉   | 2.8MB 48kB/s eta 0:00:07\r\u001b[K     |█████████████████████████████   | 2.8MB 48kB/s eta 0:00:06\r\u001b[K     |█████████████████████████████   | 2.8MB 48kB/s eta 0:00:06\r\u001b[K     |█████████████████████████████▏  | 2.8MB 48kB/s eta 0:00:06\r\u001b[K     |█████████████████████████████▎  | 2.8MB 48kB/s eta 0:00:06\r\u001b[K     |█████████████████████████████▍  | 2.8MB 48kB/s eta 0:00:06\r\u001b[K     |█████████████████████████████▌  | 2.8MB 48kB/s eta 0:00:05\r\u001b[K     |█████████████████████████████▋  | 2.8MB 48kB/s eta 0:00:05\r\u001b[K     |█████████████████████████████▊  | 2.9MB 48kB/s eta 0:00:05\r\u001b[K     |█████████████████████████████▉  | 2.9MB 48kB/s eta 0:00:05\r\u001b[K     |██████████████████████████████  | 2.9MB 48kB/s eta 0:00:05\r\u001b[K     |██████████████████████████████  | 2.9MB 48kB/s eta 0:00:04\r\u001b[K     |██████████████████████████████▏ | 2.9MB 48kB/s eta 0:00:04\r\u001b[K     |██████████████████████████████▎ | 2.9MB 48kB/s eta 0:00:04\r\u001b[K     |██████████████████████████████▍ | 2.9MB 48kB/s eta 0:00:04\r\u001b[K     |██████████████████████████████▌ | 2.9MB 48kB/s eta 0:00:04\r\u001b[K     |██████████████████████████████▋ | 2.9MB 48kB/s eta 0:00:03\r\u001b[K     |██████████████████████████████▊ | 2.9MB 48kB/s eta 0:00:03\r\u001b[K     |██████████████████████████████▊ | 3.0MB 48kB/s eta 0:00:03\r\u001b[K     |██████████████████████████████▉ | 3.0MB 48kB/s eta 0:00:03\r\u001b[K     |███████████████████████████████ | 3.0MB 48kB/s eta 0:00:02\r\u001b[K     |███████████████████████████████ | 3.0MB 48kB/s eta 0:00:02\r\u001b[K     |███████████████████████████████▏| 3.0MB 48kB/s eta 0:00:02\r\u001b[K     |███████████████████████████████▎| 3.0MB 48kB/s eta 0:00:02\r\u001b[K     |███████████████████████████████▍| 3.0MB 48kB/s eta 0:00:02\r\u001b[K     |███████████████████████████████▌| 3.0MB 48kB/s eta 0:00:01\r\u001b[K     |███████████████████████████████▋| 3.0MB 48kB/s eta 0:00:01\r\u001b[K     |███████████████████████████████▊| 3.1MB 48kB/s eta 0:00:01\r\u001b[K     |███████████████████████████████▉| 3.1MB 48kB/s eta 0:00:01\r\u001b[K     |████████████████████████████████| 3.1MB 48kB/s eta 0:00:01\r\u001b[K     |████████████████████████████████| 3.1MB 48kB/s \n",
            "\u001b[?25hCollecting parsel>=1.5.0\n",
            "  Downloading https://files.pythonhosted.org/packages/23/1e/9b39d64cbab79d4362cdd7be7f5e9623d45c4a53b3f7522cd8210df52d8e/parsel-1.6.0-py2.py3-none-any.whl\n",
            "Collecting cssselect>=0.9.1\n",
            "  Downloading https://files.pythonhosted.org/packages/3b/d4/3b5c17f00cce85b9a1e6f91096e1cc8e8ede2e1be8e96b87ce1ed09e92c5/cssselect-1.1.0-py2.py3-none-any.whl\n",
            "Collecting pyOpenSSL>=16.2.0\n",
            "\u001b[?25l  Downloading https://files.pythonhosted.org/packages/9e/de/f8342b68fa9e981d348039954657bdf681b2ab93de27443be51865ffa310/pyOpenSSL-19.1.0-py2.py3-none-any.whl (53kB)\n",
            "\u001b[K     |████████████████████████████████| 61kB 7.1MB/s \n",
            "\u001b[?25hCollecting queuelib>=1.4.2\n",
            "  Downloading https://files.pythonhosted.org/packages/4c/85/ae64e9145f39dd6d14f8af3fa809a270ef3729f3b90b3c0cf5aa242ab0d4/queuelib-1.5.0-py2.py3-none-any.whl\n",
            "Requirement already satisfied: lxml>=3.5.0 in /usr/local/lib/python3.6/dist-packages (from scrapy) (4.2.6)\n",
            "Collecting protego>=0.1.15\n",
            "\u001b[?25l  Downloading https://files.pythonhosted.org/packages/db/6e/bf6d5e4d7cf233b785719aaec2c38f027b9c2ed980a0015ec1a1cced4893/Protego-0.1.16.tar.gz (3.2MB)\n",
            "\u001b[K     |████████████████████████████████| 3.2MB 37.3MB/s \n",
            "\u001b[?25hCollecting cryptography>=2.0\n",
            "\u001b[?25l  Downloading https://files.pythonhosted.org/packages/ba/91/84a29d6a27fd6dfc21f475704c4d2053d58ed7a4033c2b0ce1b4ca4d03d9/cryptography-3.0-cp35-abi3-manylinux2010_x86_64.whl (2.7MB)\n",
            "\u001b[K     |████████████████████████████████| 2.7MB 46.1MB/s \n",
            "\u001b[?25hCollecting w3lib>=1.17.0\n",
            "  Downloading https://files.pythonhosted.org/packages/a3/59/b6b14521090e7f42669cafdb84b0ab89301a42f1f1a82fcf5856661ea3a7/w3lib-1.22.0-py2.py3-none-any.whl\n",
            "Collecting service-identity>=16.0.0\n",
            "  Downloading https://files.pythonhosted.org/packages/e9/7c/2195b890023e098f9618d43ebc337d83c8b38d414326685339eb024db2f6/service_identity-18.1.0-py2.py3-none-any.whl\n",
            "Requirement already satisfied: setuptools in /usr/local/lib/python3.6/dist-packages (from zope.interface>=4.1.3->scrapy) (49.2.0)\n",
            "Collecting incremental>=16.10.1\n",
            "  Downloading https://files.pythonhosted.org/packages/f5/1d/c98a587dc06e107115cf4a58b49de20b19222c83d75335a192052af4c4b7/incremental-17.5.0-py2.py3-none-any.whl\n",
            "Collecting hyperlink>=17.1.1\n",
            "  Downloading https://files.pythonhosted.org/packages/7f/91/e916ca10a2de1cb7101a9b24da546fb90ee14629e23160086cf3361c4fb8/hyperlink-19.0.0-py2.py3-none-any.whl\n",
            "Collecting PyHamcrest!=1.10.0,>=1.9.0\n",
            "\u001b[?25l  Downloading https://files.pythonhosted.org/packages/40/16/e54cc65891f01cb62893540f44ffd3e8dab0a22443e1b438f1a9f5574bee/PyHamcrest-2.0.2-py3-none-any.whl (52kB)\n",
            "\u001b[K     |████████████████████████████████| 61kB 6.4MB/s \n",
            "\u001b[?25hRequirement already satisfied: attrs>=19.2.0 in /usr/local/lib/python3.6/dist-packages (from Twisted>=17.9.0->scrapy) (19.3.0)\n",
            "Collecting constantly>=15.1\n",
            "  Downloading https://files.pythonhosted.org/packages/b9/65/48c1909d0c0aeae6c10213340ce682db01b48ea900a7d9fce7a7910ff318/constantly-15.1.0-py2.py3-none-any.whl\n",
            "Collecting Automat>=0.3.0\n",
            "  Downloading https://files.pythonhosted.org/packages/dd/83/5f6f3c1a562674d65efc320257bdc0873ec53147835aeef7762fe7585273/Automat-20.2.0-py2.py3-none-any.whl\n",
            "Requirement already satisfied: six>=1.6.0 in /usr/local/lib/python3.6/dist-packages (from parsel>=1.5.0->scrapy) (1.15.0)\n",
            "Requirement already satisfied: cffi!=1.11.3,>=1.8 in /usr/local/lib/python3.6/dist-packages (from cryptography>=2.0->scrapy) (1.14.1)\n",
            "Requirement already satisfied: pyasn1-modules in /usr/local/lib/python3.6/dist-packages (from service-identity>=16.0.0->scrapy) (0.2.8)\n",
            "Requirement already satisfied: pyasn1 in /usr/local/lib/python3.6/dist-packages (from service-identity>=16.0.0->scrapy) (0.4.8)\n",
            "Requirement already satisfied: idna>=2.5 in /usr/local/lib/python3.6/dist-packages (from hyperlink>=17.1.1->Twisted>=17.9.0->scrapy) (2.10)\n",
            "Requirement already satisfied: pycparser in /usr/local/lib/python3.6/dist-packages (from cffi!=1.11.3,>=1.8->cryptography>=2.0->scrapy) (2.20)\n",
            "Building wheels for collected packages: PyDispatcher, protego\n",
            "  Building wheel for PyDispatcher (setup.py) ... \u001b[?25l\u001b[?25hdone\n",
            "  Created wheel for PyDispatcher: filename=PyDispatcher-2.0.5-cp36-none-any.whl size=11515 sha256=8cecf2f7c5ec214f4d5804c8045fdfe80468bbde52993ba42deaab34c29a3503\n",
            "  Stored in directory: /root/.cache/pip/wheels/88/99/96/cfef6665f9cb1522ee6757ae5955feedf2fe25f1737f91fa7f\n",
            "  Building wheel for protego (setup.py) ... \u001b[?25l\u001b[?25hdone\n",
            "  Created wheel for protego: filename=Protego-0.1.16-cp36-none-any.whl size=7765 sha256=bb65de8027da8fbad30d94cd2580fde1cfac7e659336fee4a7a7dffadf0fcd73\n",
            "  Stored in directory: /root/.cache/pip/wheels/51/01/d1/4a2286a976dccd025ba679acacfe37320540df0f2283ecab12\n",
            "Successfully built PyDispatcher protego\n",
            "Installing collected packages: PyDispatcher, itemadapter, zope.interface, incremental, hyperlink, PyHamcrest, constantly, Automat, Twisted, cssselect, w3lib, parsel, cryptography, pyOpenSSL, queuelib, protego, service-identity, scrapy\n",
            "Successfully installed Automat-20.2.0 PyDispatcher-2.0.5 PyHamcrest-2.0.2 Twisted-20.3.0 constantly-15.1.0 cryptography-3.0 cssselect-1.1.0 hyperlink-19.0.0 incremental-17.5.0 itemadapter-0.1.0 parsel-1.6.0 protego-0.1.16 pyOpenSSL-19.1.0 queuelib-1.5.0 scrapy-2.2.1 service-identity-18.1.0 w3lib-1.22.0 zope.interface-5.1.0\n"
          ],
          "name": "stdout"
        }
      ]
    },
    {
      "cell_type": "code",
      "metadata": {
        "id": "sqelvzQssPg0",
        "colab_type": "code",
        "colab": {}
      },
      "source": [
        "import scrapy\n",
        "from bs4 import BeautifulSoup\n",
        "import json\n",
        "import re\n",
        "import logging\n",
        "\n",
        "\n",
        "class JsonWriterPipeline(object):\n",
        "\n",
        "    def open_spider(self, spider):\n",
        "        self.file = open('/content/drive/My Drive/Library_catalogue.jl', 'w')\n",
        "\n",
        "    def close_spider(self, spider):\n",
        "        self.file.close()\n",
        "\n",
        "    def process_item(self, item, spider):\n",
        "        line = json.dumps(dict(item)) + \"\\n\"\n",
        "        self.file.write(line)\n",
        "        return item\n",
        "\n",
        "\n",
        "class BookSpider(scrapy.Spider):\n",
        "    name = 'books'\n",
        "    start_urls = ['https://chamo.buw.uw.edu.pl/search/query?match_1=MUST&field_1=text&match_2=PHRASE&field_2=text&match_3=SHOULD&field_3=text&match_4=NOT&field_4=text&filter_loc=10000&filter_loc=10002&filter_format=book&filter_lang=pol&filter_lang=eng&theme=system']\n",
        "    custom_settings = {\n",
        "        'LOG_LEVEL': logging.WARNING,\n",
        "        'ITEM_PIPELINES': {'__main__.JsonWriterPipeline': 100},\n",
        "        'FEED_FORMAT':'json',\n",
        "        'FEED_URI': '/content/drive/My Drive/Library_catalogue.json'         \n",
        "    }\n",
        "\n",
        "\n",
        "    def start_requests(self):\n",
        "        urls = [f'https://chamo.buw.uw.edu.pl/search/query?filter_format=book&filter_lang=pol&filter_lang=eng&filter_loc=10000&filter_loc=10002&sort=dateCreated&pageNumber={page}&theme=system' for page in range(74856)]\n",
        "        for url in urls:\n",
        "            yield scrapy.Request(url=url, callback=self.parse)\n",
        "\n",
        "\n",
        "    def parse(self, response):\n",
        "        soup = BeautifulSoup(response.body, 'html.parser')\n",
        "        records = soup.find(class_='records').find_all('div', class_='record')\n",
        "        \n",
        "        author, storage, WD_signature, publisher,  = '', '', '', ''\n",
        "        pages, year = 0, 0\n",
        "        for record in records:\n",
        "            if 'Adres wyd.' in record.text and 'Opis fiz.' in record.text:\n",
        "                title = record.find(class_='title').text\n",
        "                title = re.sub(r' [=/].+', '', title)\n",
        "                try: author = record.find(class_='author').text\n",
        "                except: pass\n",
        "                if 'BUW Magazyn' in record.text: storage = 'magazyn'\n",
        "\n",
        "                infos = record.find_all('tr')\n",
        "                for info in infos:\n",
        "                    if 'Klasyfikacja WD' in info.text:\n",
        "                        WD_signature = info.a.text\n",
        "                    elif 'Adres wyd.' in info.text:\n",
        "                        publisher_candidates = info.find_all('span')\n",
        "                        for publisher in publisher_candidates:\n",
        "                            if ('class' in publisher and publisher['class'] != 'highlight') or 'class' not in publisher:\n",
        "                                publisher_with_colon = re.search(r\".+ : ?([\\w .']+),?.*(\\d{4})\", publisher.text)\n",
        "                                if publisher_with_colon:\n",
        "                                    publisher = publisher_with_colon.group(1)\n",
        "                                    year = int(publisher_with_colon.group(2))\n",
        "                                else:\n",
        "                                    publisher = re.search(r\".+? ([\\w .']+),?.*(\\d{4})\", publisher.text)\n",
        "                                    if publisher:\n",
        "                                        year = int(publisher.group(2))\n",
        "                                        publisher = publisher.group(1)\n",
        "                    elif 'Opis fiz.' in info.text:\n",
        "                        pages = info.find('span').text\n",
        "                        pages = re.sub(r'\\[.+?\\]', '', pages)\n",
        "                        pages = int(re.search(r'\\d+', pages).group(0))\n",
        "\n",
        "                yield {'title': title,\n",
        "                       'author': author,\n",
        "                       'storage': storage,\n",
        "                       'WD_signature': WD_signature,\n",
        "                       'publisher': publisher,\n",
        "                       'year': year,\n",
        "                       'pages': pages}"
      ],
      "execution_count": null,
      "outputs": []
    },
    {
      "cell_type": "code",
      "metadata": {
        "id": "BD7ibjI9hnYj",
        "colab_type": "code",
        "colab": {}
      },
      "source": [
        "!scrapy startproject buw\n",
        "!cd buw"
      ],
      "execution_count": null,
      "outputs": []
    },
    {
      "cell_type": "code",
      "metadata": {
        "id": "ID89T8dqkD5h",
        "colab_type": "code",
        "colab": {}
      },
      "source": [
        "from scrapy.crawler import CrawlerProcess\n",
        "from scrapy.utils.project import get_project_settings\n",
        "\n",
        "process = CrawlerProcess(get_project_settings())\n",
        "\n",
        "process.crawl(BookSpider)\n",
        "process.start()"
      ],
      "execution_count": null,
      "outputs": []
    }
  ]
}