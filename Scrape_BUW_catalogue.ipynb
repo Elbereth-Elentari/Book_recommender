{
  "nbformat": 4,
  "nbformat_minor": 0,
  "metadata": {
    "colab": {
      "name": "Scrape_BUW_catalogue.ipynb",
      "provenance": [],
      "authorship_tag": "ABX9TyNWPcC2judJZzSWkN65jWx6",
      "include_colab_link": true
    },
    "kernelspec": {
      "name": "python3",
      "display_name": "Python 3"
    }
  },
  "cells": [
    {
      "cell_type": "markdown",
      "metadata": {
        "id": "view-in-github",
        "colab_type": "text"
      },
      "source": [
        "<a href=\"https://colab.research.google.com/github/Elbereth-Elentari/Book_recommender/blob/master/Scrape_BUW_catalogue.ipynb\" target=\"_parent\"><img src=\"https://colab.research.google.com/assets/colab-badge.svg\" alt=\"Open In Colab\"/></a>"
      ]
    },
    {
      "cell_type": "code",
      "metadata": {
        "id": "CPPuHJkGhliT",
        "colab_type": "code",
        "colab": {
          "base_uri": "https://localhost:8080/",
          "height": 1000
        },
        "outputId": "cbf9081d-219d-45d6-c00b-98b09c319299"
      },
      "source": [
        "!pip3 install scrapy\n",
        "!pip3 install bs4"
      ],
      "execution_count": 1,
      "outputs": [
        {
          "output_type": "stream",
          "text": [
            "Collecting scrapy\n",
            "\u001b[?25l  Downloading https://files.pythonhosted.org/packages/eb/9f/81a270190802cf02d49a495a2ee9291ea1d21f969a900880285dd7444d74/Scrapy-2.2.1-py2.py3-none-any.whl (241kB)\n",
            "\r\u001b[K     |█▍                              | 10kB 13.7MB/s eta 0:00:01\r\u001b[K     |██▊                             | 20kB 5.6MB/s eta 0:00:01\r\u001b[K     |████                            | 30kB 7.2MB/s eta 0:00:01\r\u001b[K     |█████▍                          | 40kB 7.6MB/s eta 0:00:01\r\u001b[K     |██████▉                         | 51kB 6.3MB/s eta 0:00:01\r\u001b[K     |████████▏                       | 61kB 6.7MB/s eta 0:00:01\r\u001b[K     |█████████▌                      | 71kB 7.2MB/s eta 0:00:01\r\u001b[K     |██████████▉                     | 81kB 8.0MB/s eta 0:00:01\r\u001b[K     |████████████▎                   | 92kB 7.5MB/s eta 0:00:01\r\u001b[K     |█████████████▋                  | 102kB 7.7MB/s eta 0:00:01\r\u001b[K     |███████████████                 | 112kB 7.7MB/s eta 0:00:01\r\u001b[K     |████████████████▎               | 122kB 7.7MB/s eta 0:00:01\r\u001b[K     |█████████████████▋              | 133kB 7.7MB/s eta 0:00:01\r\u001b[K     |███████████████████             | 143kB 7.7MB/s eta 0:00:01\r\u001b[K     |████████████████████▍           | 153kB 7.7MB/s eta 0:00:01\r\u001b[K     |█████████████████████▊          | 163kB 7.7MB/s eta 0:00:01\r\u001b[K     |███████████████████████         | 174kB 7.7MB/s eta 0:00:01\r\u001b[K     |████████████████████████▌       | 184kB 7.7MB/s eta 0:00:01\r\u001b[K     |█████████████████████████▉      | 194kB 7.7MB/s eta 0:00:01\r\u001b[K     |███████████████████████████▏    | 204kB 7.7MB/s eta 0:00:01\r\u001b[K     |████████████████████████████▌   | 215kB 7.7MB/s eta 0:00:01\r\u001b[K     |█████████████████████████████▉  | 225kB 7.7MB/s eta 0:00:01\r\u001b[K     |███████████████████████████████▎| 235kB 7.7MB/s eta 0:00:01\r\u001b[K     |████████████████████████████████| 245kB 7.7MB/s \n",
            "\u001b[?25hCollecting itemadapter>=0.1.0\n",
            "  Downloading https://files.pythonhosted.org/packages/7d/fb/92f848fcfa85dc9f95370eaecb5c99b5230dd4fc5c6bae684f4ca59df973/itemadapter-0.1.0-py3-none-any.whl\n",
            "Collecting service-identity>=16.0.0\n",
            "  Downloading https://files.pythonhosted.org/packages/e9/7c/2195b890023e098f9618d43ebc337d83c8b38d414326685339eb024db2f6/service_identity-18.1.0-py2.py3-none-any.whl\n",
            "Collecting queuelib>=1.4.2\n",
            "  Downloading https://files.pythonhosted.org/packages/4c/85/ae64e9145f39dd6d14f8af3fa809a270ef3729f3b90b3c0cf5aa242ab0d4/queuelib-1.5.0-py2.py3-none-any.whl\n",
            "Collecting cryptography>=2.0\n",
            "\u001b[?25l  Downloading https://files.pythonhosted.org/packages/ba/91/84a29d6a27fd6dfc21f475704c4d2053d58ed7a4033c2b0ce1b4ca4d03d9/cryptography-3.0-cp35-abi3-manylinux2010_x86_64.whl (2.7MB)\n",
            "\u001b[K     |████████████████████████████████| 2.7MB 17.8MB/s \n",
            "\u001b[?25hCollecting PyDispatcher>=2.0.5\n",
            "  Downloading https://files.pythonhosted.org/packages/cd/37/39aca520918ce1935bea9c356bcbb7ed7e52ad4e31bff9b943dfc8e7115b/PyDispatcher-2.0.5.tar.gz\n",
            "Collecting w3lib>=1.17.0\n",
            "  Downloading https://files.pythonhosted.org/packages/a3/59/b6b14521090e7f42669cafdb84b0ab89301a42f1f1a82fcf5856661ea3a7/w3lib-1.22.0-py2.py3-none-any.whl\n",
            "Collecting protego>=0.1.15\n",
            "\u001b[?25l  Downloading https://files.pythonhosted.org/packages/db/6e/bf6d5e4d7cf233b785719aaec2c38f027b9c2ed980a0015ec1a1cced4893/Protego-0.1.16.tar.gz (3.2MB)\n",
            "\u001b[K     |████████████████████████████████| 3.2MB 43.2MB/s \n",
            "\u001b[?25hCollecting cssselect>=0.9.1\n",
            "  Downloading https://files.pythonhosted.org/packages/3b/d4/3b5c17f00cce85b9a1e6f91096e1cc8e8ede2e1be8e96b87ce1ed09e92c5/cssselect-1.1.0-py2.py3-none-any.whl\n",
            "Requirement already satisfied: lxml>=3.5.0 in /usr/local/lib/python3.6/dist-packages (from scrapy) (4.2.6)\n",
            "Collecting pyOpenSSL>=16.2.0\n",
            "\u001b[?25l  Downloading https://files.pythonhosted.org/packages/9e/de/f8342b68fa9e981d348039954657bdf681b2ab93de27443be51865ffa310/pyOpenSSL-19.1.0-py2.py3-none-any.whl (53kB)\n",
            "\u001b[K     |████████████████████████████████| 61kB 7.8MB/s \n",
            "\u001b[?25hCollecting parsel>=1.5.0\n",
            "  Downloading https://files.pythonhosted.org/packages/23/1e/9b39d64cbab79d4362cdd7be7f5e9623d45c4a53b3f7522cd8210df52d8e/parsel-1.6.0-py2.py3-none-any.whl\n",
            "Collecting Twisted>=17.9.0\n",
            "\u001b[?25l  Downloading https://files.pythonhosted.org/packages/b7/04/1a664c9e5ec0224a1c1a154ddecaa4dc7b8967521bba225efcc41a03d5f3/Twisted-20.3.0-cp36-cp36m-manylinux1_x86_64.whl (3.1MB)\n",
            "\u001b[K     |████████████████████████████████| 3.1MB 44.9MB/s \n",
            "\u001b[?25hCollecting zope.interface>=4.1.3\n",
            "\u001b[?25l  Downloading https://files.pythonhosted.org/packages/57/33/565274c28a11af60b7cfc0519d46bde4125fcd7d32ebc0a81b480d0e8da6/zope.interface-5.1.0-cp36-cp36m-manylinux2010_x86_64.whl (234kB)\n",
            "\u001b[K     |████████████████████████████████| 235kB 48.1MB/s \n",
            "\u001b[?25hRequirement already satisfied: pyasn1-modules in /usr/local/lib/python3.6/dist-packages (from service-identity>=16.0.0->scrapy) (0.2.8)\n",
            "Requirement already satisfied: pyasn1 in /usr/local/lib/python3.6/dist-packages (from service-identity>=16.0.0->scrapy) (0.4.8)\n",
            "Requirement already satisfied: attrs>=16.0.0 in /usr/local/lib/python3.6/dist-packages (from service-identity>=16.0.0->scrapy) (19.3.0)\n",
            "Requirement already satisfied: cffi!=1.11.3,>=1.8 in /usr/local/lib/python3.6/dist-packages (from cryptography>=2.0->scrapy) (1.14.1)\n",
            "Requirement already satisfied: six>=1.4.1 in /usr/local/lib/python3.6/dist-packages (from cryptography>=2.0->scrapy) (1.15.0)\n",
            "Collecting constantly>=15.1\n",
            "  Downloading https://files.pythonhosted.org/packages/b9/65/48c1909d0c0aeae6c10213340ce682db01b48ea900a7d9fce7a7910ff318/constantly-15.1.0-py2.py3-none-any.whl\n",
            "Collecting hyperlink>=17.1.1\n",
            "  Downloading https://files.pythonhosted.org/packages/7f/91/e916ca10a2de1cb7101a9b24da546fb90ee14629e23160086cf3361c4fb8/hyperlink-19.0.0-py2.py3-none-any.whl\n",
            "Collecting PyHamcrest!=1.10.0,>=1.9.0\n",
            "\u001b[?25l  Downloading https://files.pythonhosted.org/packages/40/16/e54cc65891f01cb62893540f44ffd3e8dab0a22443e1b438f1a9f5574bee/PyHamcrest-2.0.2-py3-none-any.whl (52kB)\n",
            "\u001b[K     |████████████████████████████████| 61kB 8.0MB/s \n",
            "\u001b[?25hCollecting incremental>=16.10.1\n",
            "  Downloading https://files.pythonhosted.org/packages/f5/1d/c98a587dc06e107115cf4a58b49de20b19222c83d75335a192052af4c4b7/incremental-17.5.0-py2.py3-none-any.whl\n",
            "Collecting Automat>=0.3.0\n",
            "  Downloading https://files.pythonhosted.org/packages/dd/83/5f6f3c1a562674d65efc320257bdc0873ec53147835aeef7762fe7585273/Automat-20.2.0-py2.py3-none-any.whl\n",
            "Requirement already satisfied: setuptools in /usr/local/lib/python3.6/dist-packages (from zope.interface>=4.1.3->scrapy) (49.2.0)\n",
            "Requirement already satisfied: pycparser in /usr/local/lib/python3.6/dist-packages (from cffi!=1.11.3,>=1.8->cryptography>=2.0->scrapy) (2.20)\n",
            "Requirement already satisfied: idna>=2.5 in /usr/local/lib/python3.6/dist-packages (from hyperlink>=17.1.1->Twisted>=17.9.0->scrapy) (2.10)\n",
            "Building wheels for collected packages: PyDispatcher, protego\n",
            "  Building wheel for PyDispatcher (setup.py) ... \u001b[?25l\u001b[?25hdone\n",
            "  Created wheel for PyDispatcher: filename=PyDispatcher-2.0.5-cp36-none-any.whl size=11515 sha256=edd909c8ff5ae3582ec2f8683cc4dba409b51e61dcec78d59e7664c85442b70a\n",
            "  Stored in directory: /root/.cache/pip/wheels/88/99/96/cfef6665f9cb1522ee6757ae5955feedf2fe25f1737f91fa7f\n",
            "  Building wheel for protego (setup.py) ... \u001b[?25l\u001b[?25hdone\n",
            "  Created wheel for protego: filename=Protego-0.1.16-cp36-none-any.whl size=7765 sha256=74572d5258152e1413582201e04f014a638560781d24e55f8ac5b59b39787591\n",
            "  Stored in directory: /root/.cache/pip/wheels/51/01/d1/4a2286a976dccd025ba679acacfe37320540df0f2283ecab12\n",
            "Successfully built PyDispatcher protego\n",
            "Installing collected packages: itemadapter, cryptography, service-identity, queuelib, PyDispatcher, w3lib, protego, cssselect, pyOpenSSL, parsel, constantly, zope.interface, hyperlink, PyHamcrest, incremental, Automat, Twisted, scrapy\n",
            "Successfully installed Automat-20.2.0 PyDispatcher-2.0.5 PyHamcrest-2.0.2 Twisted-20.3.0 constantly-15.1.0 cryptography-3.0 cssselect-1.1.0 hyperlink-19.0.0 incremental-17.5.0 itemadapter-0.1.0 parsel-1.6.0 protego-0.1.16 pyOpenSSL-19.1.0 queuelib-1.5.0 scrapy-2.2.1 service-identity-18.1.0 w3lib-1.22.0 zope.interface-5.1.0\n",
            "Requirement already satisfied: bs4 in /usr/local/lib/python3.6/dist-packages (0.0.1)\n",
            "Requirement already satisfied: beautifulsoup4 in /usr/local/lib/python3.6/dist-packages (from bs4) (4.6.3)\n"
          ],
          "name": "stdout"
        }
      ]
    },
    {
      "cell_type": "code",
      "metadata": {
        "id": "sqelvzQssPg0",
        "colab_type": "code",
        "colab": {}
      },
      "source": [
        "import scrapy\n",
        "from bs4 import BeautifulSoup\n",
        "import json\n",
        "import re\n",
        "\n",
        "\n",
        "class JsonWriterPipeline(object):\n",
        "\n",
        "    def open_spider(self, spider):\n",
        "        self.file = open('Library_catalogue.jl', 'w')\n",
        "\n",
        "    def close_spider(self, spider):\n",
        "        self.file.close()\n",
        "\n",
        "    def process_item(self, item, spider):\n",
        "        line = json.dumps(dict(item)) + \"\\n\"\n",
        "        self.file.write(line)\n",
        "        return item\n",
        "\n",
        "\n",
        "class BookSpider(scrapy.Spider):\n",
        "    name = 'books'\n",
        "    start_urls = ['https://chamo.buw.uw.edu.pl/search/query?match_1=PHRASE&field_1=authid&term_1=987773&theme=system']\n",
        "    custom_settings = {\n",
        "        'ITEM_PIPELINES': {'__main__.JsonWriterPipeline': 1},\n",
        "        'FEED_FORMAT':'json',\n",
        "        'FEED_URI': 'Library_catalogue.json'         \n",
        "    }\n",
        "\n",
        "    def parse(self, response):\n",
        "        soup = BeautifulSoup(response.body, 'html.parser')\n",
        "        records = soup.find(class_='records').find_all('div', class_='record')\n",
        "        print(f'Found {len(records)} records.')\n",
        "        for record in records:\n",
        "            if 'Adres wyd.' in record.text and 'Opis fiz.' in record.text:\n",
        "                title = record.find(class_='title').text\n",
        "                title = re.sub(r' [=/].+', '', title)\n",
        "                try: author = record.find(class_='author').text\n",
        "                except: author = ''\n",
        "                if 'BUW Magazyn' in record.text: storage = 'magazyn'\n",
        "                else: storage = ''\n",
        "\n",
        "                infos = record.find_all('tr')\n",
        "                for info in infos:\n",
        "                    if 'Klasyfikacja WD' in info.text:\n",
        "                        WD_signature = info.a.text\n",
        "                    elif 'Adres wyd.' in info.text:\n",
        "                        publisher_candidates = info.find_all('span')\n",
        "                        for publisher in publisher_candidates:\n",
        "                            if ('class' in publisher and publisher['class'] != 'highlight') or 'class' not in publisher:\n",
        "                                publisher_with_colon = re.search(r'.+ : ?(.+),?.*(\\d{4})', publisher.text)\n",
        "                                if publisher_with_colon:\n",
        "                                    publisher = publisher_with_colon\n",
        "                                else:\n",
        "                                    publisher = re.search(r'.+? (.+),?.*(\\d{4})', publisher.text)\n",
        "                                    if publisher:\n",
        "                                        publisher = publisher.group(1)\n",
        "                                        year = int(publisher.group(2))\n",
        "                                    else:\n",
        "                                        publisher = ''\n",
        "                                        year = 0\n",
        "                    elif 'Opis fiz.' in info.text:\n",
        "                        pages = info.find('span').text\n",
        "                        pages = re.sub(r'\\[.+?\\]', '', pages)\n",
        "                        pages = int(re.search(r'\\d+', pages).group(0))\n",
        "\n",
        "                yield {'title': title,\n",
        "                       'author': author,\n",
        "                       'storage': storage}\n",
        "\n",
        "        pagelinks = soup.find_all(class_='pageLinks')\n",
        "        for pagelink in pagelinks:\n",
        "            if 'Następne>' in pagelink.get_text():\n",
        "                next_page = pagelink.a['href']\n",
        "                if next_page is not None:\n",
        "                    yield response.follow(next_page, callback=self.parse)"
      ],
      "execution_count": 2,
      "outputs": []
    },
    {
      "cell_type": "code",
      "metadata": {
        "id": "BD7ibjI9hnYj",
        "colab_type": "code",
        "colab": {
          "base_uri": "https://localhost:8080/",
          "height": 119
        },
        "outputId": "95e68ccf-2f07-4f21-df3b-2bc56b9adf60"
      },
      "source": [
        "!scrapy startproject buw\n",
        "!cd buw"
      ],
      "execution_count": 3,
      "outputs": [
        {
          "output_type": "stream",
          "text": [
            "New Scrapy project 'buw', using template directory '/usr/local/lib/python3.6/dist-packages/scrapy/templates/project', created in:\n",
            "    /content/buw\n",
            "\n",
            "You can start your first spider with:\n",
            "    cd buw\n",
            "    scrapy genspider example example.com\n"
          ],
          "name": "stdout"
        }
      ]
    },
    {
      "cell_type": "code",
      "metadata": {
        "id": "ID89T8dqkD5h",
        "colab_type": "code",
        "colab": {
          "base_uri": "https://localhost:8080/",
          "height": 1000
        },
        "outputId": "ff53453b-efed-4ee4-99e3-1e29e0025f85"
      },
      "source": [
        "from scrapy.crawler import CrawlerProcess\n",
        "from scrapy.utils.project import get_project_settings\n",
        "\n",
        "process = CrawlerProcess(get_project_settings())\n",
        "\n",
        "process.crawl(BookSpider)\n",
        "process.start()"
      ],
      "execution_count": 4,
      "outputs": [
        {
          "output_type": "stream",
          "text": [
            "2020-08-01 15:30:51 [scrapy.utils.log] INFO: Scrapy 2.2.1 started (bot: scrapybot)\n",
            "2020-08-01 15:30:51 [scrapy.utils.log] INFO: Versions: lxml 4.2.6.0, libxml2 2.9.8, cssselect 1.1.0, parsel 1.6.0, w3lib 1.22.0, Twisted 20.3.0, Python 3.6.9 (default, Jul 17 2020, 12:50:27) - [GCC 8.4.0], pyOpenSSL 19.1.0 (OpenSSL 1.1.1g  21 Apr 2020), cryptography 3.0, Platform Linux-4.19.104+-x86_64-with-Ubuntu-18.04-bionic\n",
            "2020-08-01 15:30:51 [scrapy.utils.log] DEBUG: Using reactor: twisted.internet.epollreactor.EPollReactor\n",
            "2020-08-01 15:30:51 [scrapy.crawler] INFO: Overridden settings:\n",
            "{}\n",
            "2020-08-01 15:30:51 [scrapy.extensions.telnet] INFO: Telnet Password: a8a32a254d9b89cd\n",
            "/usr/local/lib/python3.6/dist-packages/scrapy/extensions/feedexport.py:210: ScrapyDeprecationWarning: The `FEED_URI` and `FEED_FORMAT` settings have been deprecated in favor of the `FEEDS` setting. Please see the `FEEDS` setting docs for more details\n",
            "  exporter = cls(crawler)\n",
            "2020-08-01 15:30:51 [scrapy.middleware] INFO: Enabled extensions:\n",
            "['scrapy.extensions.corestats.CoreStats',\n",
            " 'scrapy.extensions.telnet.TelnetConsole',\n",
            " 'scrapy.extensions.memusage.MemoryUsage',\n",
            " 'scrapy.extensions.feedexport.FeedExporter',\n",
            " 'scrapy.extensions.logstats.LogStats']\n",
            "2020-08-01 15:30:51 [scrapy.middleware] INFO: Enabled downloader middlewares:\n",
            "['scrapy.downloadermiddlewares.httpauth.HttpAuthMiddleware',\n",
            " 'scrapy.downloadermiddlewares.downloadtimeout.DownloadTimeoutMiddleware',\n",
            " 'scrapy.downloadermiddlewares.defaultheaders.DefaultHeadersMiddleware',\n",
            " 'scrapy.downloadermiddlewares.useragent.UserAgentMiddleware',\n",
            " 'scrapy.downloadermiddlewares.retry.RetryMiddleware',\n",
            " 'scrapy.downloadermiddlewares.redirect.MetaRefreshMiddleware',\n",
            " 'scrapy.downloadermiddlewares.httpcompression.HttpCompressionMiddleware',\n",
            " 'scrapy.downloadermiddlewares.redirect.RedirectMiddleware',\n",
            " 'scrapy.downloadermiddlewares.cookies.CookiesMiddleware',\n",
            " 'scrapy.downloadermiddlewares.httpproxy.HttpProxyMiddleware',\n",
            " 'scrapy.downloadermiddlewares.stats.DownloaderStats']\n",
            "2020-08-01 15:30:51 [scrapy.middleware] INFO: Enabled spider middlewares:\n",
            "['scrapy.spidermiddlewares.httperror.HttpErrorMiddleware',\n",
            " 'scrapy.spidermiddlewares.offsite.OffsiteMiddleware',\n",
            " 'scrapy.spidermiddlewares.referer.RefererMiddleware',\n",
            " 'scrapy.spidermiddlewares.urllength.UrlLengthMiddleware',\n",
            " 'scrapy.spidermiddlewares.depth.DepthMiddleware']\n",
            "2020-08-01 15:30:51 [scrapy.middleware] INFO: Enabled item pipelines:\n",
            "['__main__.JsonWriterPipeline']\n",
            "2020-08-01 15:30:51 [scrapy.core.engine] INFO: Spider opened\n",
            "2020-08-01 15:30:51 [scrapy.extensions.logstats] INFO: Crawled 0 pages (at 0 pages/min), scraped 0 items (at 0 items/min)\n",
            "2020-08-01 15:30:51 [scrapy.extensions.telnet] INFO: Telnet console listening on 127.0.0.1:6023\n",
            "2020-08-01 15:30:51 [scrapy.core.engine] DEBUG: Crawled (200) <GET https://chamo.buw.uw.edu.pl/search/query?match_1=PHRASE&field_1=authid&term_1=987773&theme=system> (referer: None)\n",
            "2020-08-01 15:30:52 [scrapy.core.scraper] DEBUG: Scraped from <200 https://chamo.buw.uw.edu.pl/search/query?match_1=PHRASE&field_1=authid&term_1=987773&theme=system>\n",
            "{'title': 'Poznaj Python w 24 godziny', 'author': 'Van Laningham, Ivan. ', 'storage': ''}\n",
            "2020-08-01 15:30:52 [scrapy.core.scraper] DEBUG: Scraped from <200 https://chamo.buw.uw.edu.pl/search/query?match_1=PHRASE&field_1=authid&term_1=987773&theme=system>\n",
            "{'title': 'Programowanie : Python', 'author': 'Beazley, David M. ', 'storage': ''}\n",
            "2020-08-01 15:30:52 [scrapy.core.scraper] DEBUG: Scraped from <200 https://chamo.buw.uw.edu.pl/search/query?match_1=PHRASE&field_1=authid&term_1=987773&theme=system>\n",
            "{'title': 'Ćwiczenia z języka Python', 'author': 'Mysior, Marian. ', 'storage': ''}\n",
            "2020-08-01 15:30:52 [scrapy.core.scraper] DEBUG: Scraped from <200 https://chamo.buw.uw.edu.pl/search/query?match_1=PHRASE&field_1=authid&term_1=987773&theme=system>\n",
            "{'title': 'Python : od podstaw', 'author': '', 'storage': ''}\n",
            "2020-08-01 15:30:52 [scrapy.core.scraper] DEBUG: Scraped from <200 https://chamo.buw.uw.edu.pl/search/query?match_1=PHRASE&field_1=authid&term_1=987773&theme=system>\n",
            "{'title': 'Python : projekty do wykorzystania', 'author': 'Knowlton, James O. ', 'storage': ''}\n",
            "2020-08-01 15:30:52 [scrapy.core.scraper] DEBUG: Scraped from <200 https://chamo.buw.uw.edu.pl/search/query?match_1=PHRASE&field_1=authid&term_1=987773&theme=system>\n",
            "{'title': 'Python 3 : kompletne wprowadzenie do programowania', 'author': 'Summerfield, Mark. ', 'storage': ''}\n",
            "2020-08-01 15:30:52 [scrapy.core.scraper] DEBUG: Scraped from <200 https://chamo.buw.uw.edu.pl/search/query?match_1=PHRASE&field_1=authid&term_1=987773&theme=system>\n",
            "{'title': 'Python : rozmówki', 'author': 'Dayley, Brad. ', 'storage': ''}\n",
            "2020-08-01 15:30:52 [scrapy.core.scraper] DEBUG: Scraped from <200 https://chamo.buw.uw.edu.pl/search/query?match_1=PHRASE&field_1=authid&term_1=987773&theme=system>\n",
            "{'title': 'Bioinformatics programming using Python ', 'author': 'Model, Mitchell L. ', 'storage': ''}\n",
            "2020-08-01 15:30:52 [scrapy.core.scraper] DEBUG: Scraped from <200 https://chamo.buw.uw.edu.pl/search/query?match_1=PHRASE&field_1=authid&term_1=987773&theme=system>\n",
            "{'title': 'Python programming for the absolute beginner', 'author': 'Dawson, Michael. ', 'storage': ''}\n",
            "2020-08-01 15:30:52 [scrapy.core.scraper] DEBUG: Scraped from <200 https://chamo.buw.uw.edu.pl/search/query?match_1=PHRASE&field_1=authid&term_1=987773&theme=system>\n",
            "{'title': 'Python : podstawy języka i aplikacje internetowe', 'author': 'Krajka, Andrzej. ', 'storage': ''}\n"
          ],
          "name": "stderr"
        },
        {
          "output_type": "stream",
          "text": [
            "Found 10 records.\n"
          ],
          "name": "stdout"
        },
        {
          "output_type": "stream",
          "text": [
            "2020-08-01 15:30:52 [scrapy.core.engine] DEBUG: Crawled (200) <GET https://chamo.buw.uw.edu.pl/search/query?match_1=PHRASE&field_1=authid&term_1=987773&sort=relevance&pageNumber=2&theme=system> (referer: https://chamo.buw.uw.edu.pl/search/query?match_1=PHRASE&field_1=authid&term_1=987773&theme=system)\n",
            "2020-08-01 15:30:52 [scrapy.core.scraper] DEBUG: Scraped from <200 https://chamo.buw.uw.edu.pl/search/query?match_1=PHRASE&field_1=authid&term_1=987773&sort=relevance&pageNumber=2&theme=system>\n",
            "{'title': 'Python : receptury', 'author': 'Beazley, David M. ', 'storage': ''}\n",
            "2020-08-01 15:30:52 [scrapy.core.scraper] DEBUG: Scraped from <200 https://chamo.buw.uw.edu.pl/search/query?match_1=PHRASE&field_1=authid&term_1=987773&sort=relevance&pageNumber=2&theme=system>\n",
            "{'title': 'Python : programuj szybko i wydajnie', 'author': 'Gorelick, Micha. ', 'storage': ''}\n",
            "2020-08-01 15:30:52 [scrapy.core.scraper] DEBUG: Scraped from <200 https://chamo.buw.uw.edu.pl/search/query?match_1=PHRASE&field_1=authid&term_1=987773&sort=relevance&pageNumber=2&theme=system>\n",
            "{'title': 'TDD w praktyce : niezawodny kod w języku Python', 'author': 'Percival, Harry J. W. ', 'storage': ''}\n",
            "2020-08-01 15:30:52 [scrapy.core.scraper] DEBUG: Scraped from <200 https://chamo.buw.uw.edu.pl/search/query?match_1=PHRASE&field_1=authid&term_1=987773&sort=relevance&pageNumber=2&theme=system>\n",
            "{'title': 'Nauka programowania z Minecraftem® : buduj niesamowite światy z wykorzystaniem mocy Pythona!', 'author': 'Richardson, Craig. ', 'storage': ''}\n",
            "2020-08-01 15:30:52 [scrapy.core.scraper] DEBUG: Scraped from <200 https://chamo.buw.uw.edu.pl/search/query?match_1=PHRASE&field_1=authid&term_1=987773&sort=relevance&pageNumber=2&theme=system>\n",
            "{'title': 'Python : instrukcje dla programisty', 'author': 'Matthes, Eric (1972- ). ', 'storage': ''}\n",
            "2020-08-01 15:30:52 [scrapy.core.scraper] DEBUG: Scraped from <200 https://chamo.buw.uw.edu.pl/search/query?match_1=PHRASE&field_1=authid&term_1=987773&sort=relevance&pageNumber=2&theme=system>\n",
            "{'title': 'Przetwarzanie i analiza danych w języku Python', 'author': 'Gągolewski, Marek (informatyka). ', 'storage': ''}\n",
            "2020-08-01 15:30:52 [scrapy.core.scraper] DEBUG: Scraped from <200 https://chamo.buw.uw.edu.pl/search/query?match_1=PHRASE&field_1=authid&term_1=987773&sort=relevance&pageNumber=2&theme=system>\n",
            "{'title': 'Twórz własne gry komputerowe w Pythonie', 'author': 'Sweigart, Al. ', 'storage': ''}\n",
            "2020-08-01 15:30:52 [scrapy.core.scraper] DEBUG: Scraped from <200 https://chamo.buw.uw.edu.pl/search/query?match_1=PHRASE&field_1=authid&term_1=987773&sort=relevance&pageNumber=2&theme=system>\n",
            "{'title': 'Python', 'author': 'Barry, Paul. ', 'storage': ''}\n",
            "2020-08-01 15:30:52 [scrapy.core.scraper] DEBUG: Scraped from <200 https://chamo.buw.uw.edu.pl/search/query?match_1=PHRASE&field_1=authid&term_1=987773&sort=relevance&pageNumber=2&theme=system>\n",
            "{'title': 'Programista samouk : profesjonalny przewodnik do samodzielnej nauki kodowania', 'author': 'Althoff, Cory. ', 'storage': ''}\n",
            "2020-08-01 15:30:52 [scrapy.core.scraper] DEBUG: Scraped from <200 https://chamo.buw.uw.edu.pl/search/query?match_1=PHRASE&field_1=authid&term_1=987773&sort=relevance&pageNumber=2&theme=system>\n",
            "{'title': 'Data science od podstaw : analiza danych w Pythonie', 'author': 'Grus, Joel. ', 'storage': ''}\n"
          ],
          "name": "stderr"
        },
        {
          "output_type": "stream",
          "text": [
            "Found 10 records.\n"
          ],
          "name": "stdout"
        },
        {
          "output_type": "stream",
          "text": [
            "2020-08-01 15:30:53 [scrapy.core.engine] DEBUG: Crawled (200) <GET https://chamo.buw.uw.edu.pl/search/query?match_1=PHRASE&field_1=authid&term_1=987773&sort=relevance&pageNumber=1&theme=system> (referer: https://chamo.buw.uw.edu.pl/search/query?match_1=PHRASE&field_1=authid&term_1=987773&sort=relevance&pageNumber=2&theme=system)\n",
            "2020-08-01 15:30:53 [scrapy.core.scraper] DEBUG: Scraped from <200 https://chamo.buw.uw.edu.pl/search/query?match_1=PHRASE&field_1=authid&term_1=987773&sort=relevance&pageNumber=1&theme=system>\n",
            "{'title': 'Poznaj Python w 24 godziny', 'author': 'Van Laningham, Ivan. ', 'storage': ''}\n",
            "2020-08-01 15:30:53 [scrapy.core.scraper] DEBUG: Scraped from <200 https://chamo.buw.uw.edu.pl/search/query?match_1=PHRASE&field_1=authid&term_1=987773&sort=relevance&pageNumber=1&theme=system>\n",
            "{'title': 'Programowanie : Python', 'author': 'Beazley, David M. ', 'storage': ''}\n",
            "2020-08-01 15:30:53 [scrapy.core.scraper] DEBUG: Scraped from <200 https://chamo.buw.uw.edu.pl/search/query?match_1=PHRASE&field_1=authid&term_1=987773&sort=relevance&pageNumber=1&theme=system>\n",
            "{'title': 'Ćwiczenia z języka Python', 'author': 'Mysior, Marian. ', 'storage': ''}\n",
            "2020-08-01 15:30:53 [scrapy.core.scraper] DEBUG: Scraped from <200 https://chamo.buw.uw.edu.pl/search/query?match_1=PHRASE&field_1=authid&term_1=987773&sort=relevance&pageNumber=1&theme=system>\n",
            "{'title': 'Python : od podstaw', 'author': '', 'storage': ''}\n",
            "2020-08-01 15:30:53 [scrapy.core.scraper] DEBUG: Scraped from <200 https://chamo.buw.uw.edu.pl/search/query?match_1=PHRASE&field_1=authid&term_1=987773&sort=relevance&pageNumber=1&theme=system>\n",
            "{'title': 'Python : projekty do wykorzystania', 'author': 'Knowlton, James O. ', 'storage': ''}\n",
            "2020-08-01 15:30:53 [scrapy.core.scraper] DEBUG: Scraped from <200 https://chamo.buw.uw.edu.pl/search/query?match_1=PHRASE&field_1=authid&term_1=987773&sort=relevance&pageNumber=1&theme=system>\n",
            "{'title': 'Python 3 : kompletne wprowadzenie do programowania', 'author': 'Summerfield, Mark. ', 'storage': ''}\n",
            "2020-08-01 15:30:53 [scrapy.core.scraper] DEBUG: Scraped from <200 https://chamo.buw.uw.edu.pl/search/query?match_1=PHRASE&field_1=authid&term_1=987773&sort=relevance&pageNumber=1&theme=system>\n",
            "{'title': 'Python : rozmówki', 'author': 'Dayley, Brad. ', 'storage': ''}\n",
            "2020-08-01 15:30:53 [scrapy.core.scraper] DEBUG: Scraped from <200 https://chamo.buw.uw.edu.pl/search/query?match_1=PHRASE&field_1=authid&term_1=987773&sort=relevance&pageNumber=1&theme=system>\n",
            "{'title': 'Bioinformatics programming using Python ', 'author': 'Model, Mitchell L. ', 'storage': ''}\n",
            "2020-08-01 15:30:53 [scrapy.core.scraper] DEBUG: Scraped from <200 https://chamo.buw.uw.edu.pl/search/query?match_1=PHRASE&field_1=authid&term_1=987773&sort=relevance&pageNumber=1&theme=system>\n",
            "{'title': 'Python programming for the absolute beginner', 'author': 'Dawson, Michael. ', 'storage': ''}\n",
            "2020-08-01 15:30:53 [scrapy.core.scraper] DEBUG: Scraped from <200 https://chamo.buw.uw.edu.pl/search/query?match_1=PHRASE&field_1=authid&term_1=987773&sort=relevance&pageNumber=1&theme=system>\n",
            "{'title': 'Python : podstawy języka i aplikacje internetowe', 'author': 'Krajka, Andrzej. ', 'storage': ''}\n",
            "2020-08-01 15:30:53 [scrapy.dupefilters] DEBUG: Filtered duplicate request: <GET https://chamo.buw.uw.edu.pl/search/query?match_1=PHRASE&field_1=authid&term_1=987773&sort=relevance&pageNumber=2&theme=system> - no more duplicates will be shown (see DUPEFILTER_DEBUG to show all duplicates)\n",
            "2020-08-01 15:30:53 [scrapy.core.engine] INFO: Closing spider (finished)\n",
            "2020-08-01 15:30:53 [scrapy.extensions.feedexport] INFO: Stored json feed (30 items) in: Library_catalogue.json\n",
            "2020-08-01 15:30:53 [scrapy.statscollectors] INFO: Dumping Scrapy stats:\n",
            "{'downloader/request_bytes': 1270,\n",
            " 'downloader/request_count': 3,\n",
            " 'downloader/request_method_count/GET': 3,\n",
            " 'downloader/response_bytes': 244304,\n",
            " 'downloader/response_count': 3,\n",
            " 'downloader/response_status_count/200': 3,\n",
            " 'dupefilter/filtered': 1,\n",
            " 'elapsed_time_seconds': 2.027063,\n",
            " 'finish_reason': 'finished',\n",
            " 'finish_time': datetime.datetime(2020, 8, 1, 15, 30, 53, 367373),\n",
            " 'item_scraped_count': 30,\n",
            " 'log_count/DEBUG': 34,\n",
            " 'log_count/INFO': 11,\n",
            " 'memusage/max': 185843712,\n",
            " 'memusage/startup': 185843712,\n",
            " 'request_depth_max': 3,\n",
            " 'response_received_count': 3,\n",
            " 'scheduler/dequeued': 3,\n",
            " 'scheduler/dequeued/memory': 3,\n",
            " 'scheduler/enqueued': 3,\n",
            " 'scheduler/enqueued/memory': 3,\n",
            " 'start_time': datetime.datetime(2020, 8, 1, 15, 30, 51, 340310)}\n",
            "2020-08-01 15:30:53 [scrapy.core.engine] INFO: Spider closed (finished)\n"
          ],
          "name": "stderr"
        },
        {
          "output_type": "stream",
          "text": [
            "Found 10 records.\n"
          ],
          "name": "stdout"
        }
      ]
    }
  ]
}