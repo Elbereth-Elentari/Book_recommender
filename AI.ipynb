{
  "nbformat": 4,
  "nbformat_minor": 0,
  "metadata": {
    "colab": {
      "name": "baselines.ipynb",
      "provenance": [],
      "mount_file_id": "https://github.com/Elbereth-Elentari/Book_recommender/blob/master/AI.ipynb",
      "authorship_tag": "ABX9TyOsCR+5+zHF8eqAn/lRzKH5",
      "include_colab_link": true
    },
    "kernelspec": {
      "name": "python3",
      "display_name": "Python 3"
    }
  },
  "cells": [
    {
      "cell_type": "markdown",
      "metadata": {
        "id": "view-in-github",
        "colab_type": "text"
      },
      "source": [
        "<a href=\"https://colab.research.google.com/github/Elbereth-Elentari/Book_recommender/blob/master/AI.ipynb\" target=\"_parent\"><img src=\"https://colab.research.google.com/assets/colab-badge.svg\" alt=\"Open In Colab\"/></a>"
      ]
    },
    {
      "cell_type": "code",
      "metadata": {
        "id": "k_Vv34on2y2g",
        "colab_type": "code",
        "colab": {}
      },
      "source": [
        "import pandas as pd\n",
        "import numpy as np\n",
        "\n",
        "from sklearn.preprocessing import MinMaxScaler\n",
        "from sklearn.feature_extraction.text import CountVectorizer, HashingVectorizer\n",
        "from sklearn.model_selection import GridSearchCV, train_test_split\n",
        "from sklearn.feature_extraction.text import TfidfTransformer\n",
        "\n",
        "from sklearn.neighbors import KNeighborsClassifier\n",
        "from sklearn.linear_model import LogisticRegression\n",
        "from sklearn.svm import SVC\n",
        "from sklearn.naive_bayes import MultinomialNB, GaussianNB\n",
        "from sklearn.tree import DecisionTreeClassifier\n",
        "from sklearn.ensemble import RandomForestClassifier, GradientBoostingClassifier\n",
        "from sklearn.neural_network import MLPClassifier\n",
        "\n",
        "from sklearn.metrics import f1_score\n",
        "\n",
        "from IPython.display import clear_output"
      ],
      "execution_count": 6,
      "outputs": []
    },
    {
      "cell_type": "code",
      "metadata": {
        "id": "wFwcoaTmtI8c",
        "colab_type": "code",
        "colab": {}
      },
      "source": [
        "def join_tokens(row):\n",
        "    return ' '.join(row['tokens'])"
      ],
      "execution_count": 2,
      "outputs": []
    },
    {
      "cell_type": "code",
      "metadata": {
        "id": "8t6TsD4h3FOD",
        "colab_type": "code",
        "colab": {}
      },
      "source": [
        "def read_input(jl_file):\n",
        "    catalogue_df = pd.read_json(jl_file, lines=True, orient='records').fillna('')\n",
        "    catalogue_df = catalogue_df[catalogue_df['interesting'] != '']\n",
        "    catalogue_df.replace({'interesting':'yes'}, 1, inplace=True)\n",
        "    catalogue_df.replace({'interesting':'no'}, 0, inplace=True)\n",
        "    catalogue_df['tokens'] = catalogue_df.apply(join_tokens, axis=1)\n",
        "    return catalogue_df"
      ],
      "execution_count": 3,
      "outputs": []
    },
    {
      "cell_type": "code",
      "metadata": {
        "id": "GqtsnHrl3gQt",
        "colab_type": "code",
        "colab": {}
      },
      "source": [
        "def create_datasets(catalogue_df):\n",
        "    X = catalogue_df[['year', 'pages', 'tokens']]\n",
        "    y = catalogue_df['interesting']\n",
        "    X_train, X_test, y_train, y_test = train_test_split(X, y, random_state=0)\n",
        "\n",
        "    scaler = MinMaxScaler().fit(X_train[['year', 'pages']])\n",
        "    X_train_scaled = scaler.transform(X_train[['year', 'pages']])\n",
        "    X_test_scaled = scaler.transform(X_test[['year', 'pages']])\n",
        "\n",
        "    cvect = CountVectorizer()\n",
        "    X_train_counts = cvect.fit_transform(X_train['tokens'])\n",
        "    X_test_counts = cvect.transform(X_test['tokens'])\n",
        "    tfidf = TfidfTransformer(use_idf=False)\n",
        "    X_train_transformed = tfidf.fit_transform(X_train_counts)\n",
        "    X_test_transformed = tfidf.transform(X_test_counts)\n",
        "\n",
        "    X_train_array = X_train_transformed.toarray()\n",
        "    X_test_array = X_test_transformed.toarray()\n",
        "    X_train_final = np.hstack((X_train_array, X_train_scaled))\n",
        "    X_test_final = np.hstack((X_test_array, X_test_scaled))\n",
        "\n",
        "    return X_train_final, X_test_final, y_train, y_test"
      ],
      "execution_count": 4,
      "outputs": []
    },
    {
      "cell_type": "code",
      "metadata": {
        "id": "HBbPQT4Kqxt4",
        "colab_type": "code",
        "colab": {}
      },
      "source": [
        "def create_model_dictionary():\n",
        "    models = {\n",
        "              'KNN':\n",
        "              {'classifier':KNeighborsClassifier(),\n",
        "               'grid_values':{'n_neighbors':[3, 5]}},\n",
        "              'logistic regression':\n",
        "              {'classifier':LogisticRegression(max_iter=1000),\n",
        "               'grid_values':{'C':[80, 100, 150, 600, 700, 800]}},\n",
        "              'SVC linear':\n",
        "              {'classifier':SVC(kernel='linear'),\n",
        "               'grid_values':{'C':[2.5, 3, 3.5, 5.5, 6, 6.5]}},\n",
        "              'SVC rbf':\n",
        "              {'classifier':SVC(kernel='rbf'),\n",
        "               'grid_values':{'C':[3.5, 4, 4.5, 6.5, 7, 7.5]}},\n",
        "              'Naive Bayes multinomial':\n",
        "              {'classifier':MultinomialNB(),\n",
        "               'grid_values':{'alpha':[0.0001, 0.0005, 0.001]}},\n",
        "              'Naive Bayes Gaussian':\n",
        "              {'classifier':GaussianNB(),\n",
        "               'grid_values':{'var_smoothing':[0.06, 0.07, 0.8, 0.15, 0.2, 0.4]}},\n",
        "              'Decition Tree':\n",
        "              {'classifier':DecisionTreeClassifier(),\n",
        "               'grid_values':{'max_depth':[60, 70, 80, 400, 500, 600]}},\n",
        "              'Random Forest':\n",
        "              {'classifier':RandomForestClassifier(),\n",
        "               'grid_values':{'max_features':[2, 3, 4]}},\n",
        "              'Gradient Boosted Decision Trees':\n",
        "              {'classifier':GradientBoostingClassifier(),\n",
        "               'grid_values':{'n_estimators':[19, 20, 21, 26, 30, 32]}},\n",
        "              'Multi-Layer Perceptron':\n",
        "              {'classifier':MLPClassifier(solver='lbfgs'),\n",
        "               'grid_values':{'hidden_layer_sizes':[[25,10,5],[25,5],[30,5],[25,10],[30,15,5],[100,5]]}}\n",
        "              }\n",
        "    return models"
      ],
      "execution_count": 18,
      "outputs": []
    },
    {
      "cell_type": "code",
      "metadata": {
        "id": "sqIp4EowpF-w",
        "colab_type": "code",
        "colab": {}
      },
      "source": [
        "def calculate_f1s():\n",
        "    models_df = pd.DataFrame(columns=['param_name', 'en', 'param_en', 'pl', 'param_pl'])\n",
        "    models = create_model_dictionary()\n",
        "    catalogue = read_input('/content/drive/My Drive/Library_catalogue_preprocessed.jl')\n",
        "\n",
        "    for language in ['en', 'pl']:\n",
        "        print(f'Processing {language}')\n",
        "        lang_catalogue = catalogue[catalogue['language'] == language]\n",
        "        X_train, X_test, y_train, y_test = create_datasets(lang_catalogue)\n",
        "\n",
        "        for model in models:\n",
        "            print(f'Training {model}')\n",
        "            grid_values = models[model]['grid_values']\n",
        "            grid_search = GridSearchCV(models[model]['classifier'], param_grid=grid_values, scoring='f1')\n",
        "            grid_search.fit(X_train, y_train)\n",
        "            f1 = f1_score(y_test, grid_search.predict(X_test))\n",
        "            models_df.loc[model, language] = f1\n",
        "            param_name = list(models[model]['grid_values'].keys())[0]\n",
        "            models_df.loc[model, 'param_name'] = param_name\n",
        "            models_df.loc[model, f'param_{language}'] = grid_search.best_params_[param_name]\n",
        "\n",
        "    clear_output()\n",
        "    print(f'Mean F1 scores')\n",
        "    return models_df"
      ],
      "execution_count": 19,
      "outputs": []
    },
    {
      "cell_type": "code",
      "metadata": {
        "id": "8uHsYfZ9dMJN",
        "colab_type": "code",
        "colab": {
          "base_uri": "https://localhost:8080/",
          "height": 376
        },
        "outputId": "4c0d7679-45b6-4945-992d-7d2757b365ba"
      },
      "source": [
        "models_df = calculate_f1s()\n",
        "models_df"
      ],
      "execution_count": 20,
      "outputs": [
        {
          "output_type": "stream",
          "text": [
            "Mean F1 scores\n"
          ],
          "name": "stdout"
        },
        {
          "output_type": "execute_result",
          "data": {
            "text/html": [
              "<div>\n",
              "<style scoped>\n",
              "    .dataframe tbody tr th:only-of-type {\n",
              "        vertical-align: middle;\n",
              "    }\n",
              "\n",
              "    .dataframe tbody tr th {\n",
              "        vertical-align: top;\n",
              "    }\n",
              "\n",
              "    .dataframe thead th {\n",
              "        text-align: right;\n",
              "    }\n",
              "</style>\n",
              "<table border=\"1\" class=\"dataframe\">\n",
              "  <thead>\n",
              "    <tr style=\"text-align: right;\">\n",
              "      <th></th>\n",
              "      <th>param_name</th>\n",
              "      <th>en</th>\n",
              "      <th>param_en</th>\n",
              "      <th>pl</th>\n",
              "      <th>param_pl</th>\n",
              "    </tr>\n",
              "  </thead>\n",
              "  <tbody>\n",
              "    <tr>\n",
              "      <th>KNN</th>\n",
              "      <td>n_neighbors</td>\n",
              "      <td>0.555556</td>\n",
              "      <td>5</td>\n",
              "      <td>0.509804</td>\n",
              "      <td>3</td>\n",
              "    </tr>\n",
              "    <tr>\n",
              "      <th>logistic regression</th>\n",
              "      <td>C</td>\n",
              "      <td>0.625</td>\n",
              "      <td>100</td>\n",
              "      <td>0.581818</td>\n",
              "      <td>700</td>\n",
              "    </tr>\n",
              "    <tr>\n",
              "      <th>SVC linear</th>\n",
              "      <td>C</td>\n",
              "      <td>0.588235</td>\n",
              "      <td>2.5</td>\n",
              "      <td>0.609756</td>\n",
              "      <td>3.5</td>\n",
              "    </tr>\n",
              "    <tr>\n",
              "      <th>SVC rbf</th>\n",
              "      <td>C</td>\n",
              "      <td>0.571429</td>\n",
              "      <td>3.5</td>\n",
              "      <td>0.650602</td>\n",
              "      <td>7</td>\n",
              "    </tr>\n",
              "    <tr>\n",
              "      <th>Naive Bayes multinomial</th>\n",
              "      <td>alpha</td>\n",
              "      <td>0.5</td>\n",
              "      <td>0.0001</td>\n",
              "      <td>0.521739</td>\n",
              "      <td>0.0001</td>\n",
              "    </tr>\n",
              "    <tr>\n",
              "      <th>Naive Bayes Gaussian</th>\n",
              "      <td>var_smoothing</td>\n",
              "      <td>0.52381</td>\n",
              "      <td>0.8</td>\n",
              "      <td>0.650485</td>\n",
              "      <td>0.2</td>\n",
              "    </tr>\n",
              "    <tr>\n",
              "      <th>Decition Tree</th>\n",
              "      <td>max_depth</td>\n",
              "      <td>0.540541</td>\n",
              "      <td>70</td>\n",
              "      <td>0.444444</td>\n",
              "      <td>80</td>\n",
              "    </tr>\n",
              "    <tr>\n",
              "      <th>Random Forest</th>\n",
              "      <td>max_features</td>\n",
              "      <td>0.681818</td>\n",
              "      <td>3</td>\n",
              "      <td>0.5</td>\n",
              "      <td>2</td>\n",
              "    </tr>\n",
              "    <tr>\n",
              "      <th>Gradient Boosted Decision Trees</th>\n",
              "      <td>n_estimators</td>\n",
              "      <td>0.645161</td>\n",
              "      <td>20</td>\n",
              "      <td>0.137255</td>\n",
              "      <td>30</td>\n",
              "    </tr>\n",
              "    <tr>\n",
              "      <th>Multi-Layer Perceptron</th>\n",
              "      <td>hidden_layer_sizes</td>\n",
              "      <td>0</td>\n",
              "      <td>[100, 5]</td>\n",
              "      <td>0.532609</td>\n",
              "      <td>[25, 5]</td>\n",
              "    </tr>\n",
              "  </tbody>\n",
              "</table>\n",
              "</div>"
            ],
            "text/plain": [
              "                                         param_name  ... param_pl\n",
              "KNN                                     n_neighbors  ...        3\n",
              "logistic regression                               C  ...      700\n",
              "SVC linear                                        C  ...      3.5\n",
              "SVC rbf                                           C  ...        7\n",
              "Naive Bayes multinomial                       alpha  ...   0.0001\n",
              "Naive Bayes Gaussian                  var_smoothing  ...      0.2\n",
              "Decition Tree                             max_depth  ...       80\n",
              "Random Forest                          max_features  ...        2\n",
              "Gradient Boosted Decision Trees        n_estimators  ...       30\n",
              "Multi-Layer Perceptron           hidden_layer_sizes  ...  [25, 5]\n",
              "\n",
              "[10 rows x 5 columns]"
            ]
          },
          "metadata": {
            "tags": []
          },
          "execution_count": 20
        }
      ]
    },
    {
      "cell_type": "code",
      "metadata": {
        "id": "EQd568tF_UJh",
        "colab_type": "code",
        "colab": {}
      },
      "source": [
        "def create_unlabelled_dataset(catalogue_df):\n",
        "\n",
        "    X_labelled = catalogue_df[catalogue_df['interesting']!='']\n",
        "    y = X_labelled['interesting']\n",
        "    X_unlabelled = catalogue_df[catalogue_df['interesting']=='']\n",
        "\n",
        "    scaler = MinMaxScaler()\n",
        "    X_labelled_scaled = scaler.fit_transform(X_labelled[['year', 'pages']])\n",
        "    X_unlabelled_scaled = scaler.transform(X_unlabelled[['year', 'pages']])\n",
        "\n",
        "    hvect = HashingVectorizer(lowercase=False, n_features=1000)\n",
        "    X_labelled_tfidf = hvect.fit_transform(X_labelled['tokens'])\n",
        "    X_unlabelled_tfidf = hvect.transform(X_unlabelled['tokens'])\n",
        "\n",
        "    tfidf = TfidfTransformer()\n",
        "    X_labelled_tfidf = tfidf.fit_transform(X_labelled_tfidf)\n",
        "    X_unlabelled_tfidf = tfidf.transform(X_unlabelled_tfidf)\n",
        "\n",
        "    X_labelled_tfidf = X_labelled_tfidf.toarray()\n",
        "    X_labelled = np.hstack((X_labelled_scaled, X_labelled_tfidf))\n",
        "    X_unlabelled_tfidf = X_unlabelled_tfidf.toarray()\n",
        "    X_unlabelled = np.hstack((X_unlabelled_scaled, X_unlabelled_tfidf))\n",
        "\n",
        "    return X_labelled, y, X_unlabelled"
      ],
      "execution_count": null,
      "outputs": []
    },
    {
      "cell_type": "code",
      "metadata": {
        "id": "KDNA6D66jilg",
        "colab_type": "code",
        "colab": {
          "base_uri": "https://localhost:8080/",
          "height": 748
        },
        "outputId": "655698fc-f523-4d87-cef5-90602e6e831e"
      },
      "source": [
        "jl_file = '/content/drive/My Drive/Library_catalogue_preprocessed.jl'\n",
        "catalogue = pd.read_json(jl_file, lines=True, orient='records').fillna('')\n",
        "catalogue.replace({'interesting':'yes'}, 1, inplace=True)\n",
        "catalogue.replace({'interesting':'no'}, 0, inplace=True)\n",
        "catalogue['tokens'] = catalogue.apply(join_tokens, axis=1)\n",
        "catalogue_with_predictions = pd.DataFrame(columns=catalogue.columns)\n",
        "\n",
        "for language in ['en', 'pl']:\n",
        "    print(f'Processing {language}')\n",
        "    lang_catalogue = catalogue[catalogue['language'] == language]\n",
        "    X_labelled, y, X_unlabelled = create_unlabelled_dataset(lang_catalogue)\n",
        "\n",
        "    model = GaussianNB(var_smoothing=models_df.loc['Naive Bayes Gaussian', f'param_{language}'])\n",
        "    model.fit(X_labelled, y)\n",
        "\n",
        "    print('Predicting if books are interesting')\n",
        "    predictions = model.predict(X_unlabelled)\n",
        "    print(predictions)\n",
        "#    catalogue_unlabelled['interesting'] = model.predict(X_u)\n",
        "#    print('Saving results in df')\n",
        "#    catalogue_with_predictions = catalogue_with_predictions.append(catalogue_unlabelled)"
      ],
      "execution_count": null,
      "outputs": [
        {
          "output_type": "stream",
          "text": [
            "Processing en\n"
          ],
          "name": "stdout"
        },
        {
          "output_type": "error",
          "ename": "ValueError",
          "evalue": "ignored",
          "traceback": [
            "\u001b[0;31m---------------------------------------------------------------------------\u001b[0m",
            "\u001b[0;31mValueError\u001b[0m                                Traceback (most recent call last)",
            "\u001b[0;32m<ipython-input-9-83d9a65003b9>\u001b[0m in \u001b[0;36m<module>\u001b[0;34m()\u001b[0m\n\u001b[1;32m     12\u001b[0m \u001b[0;34m\u001b[0m\u001b[0m\n\u001b[1;32m     13\u001b[0m     \u001b[0mmodel\u001b[0m \u001b[0;34m=\u001b[0m \u001b[0mGaussianNB\u001b[0m\u001b[0;34m(\u001b[0m\u001b[0mvar_smoothing\u001b[0m\u001b[0;34m=\u001b[0m\u001b[0mmodels_df\u001b[0m\u001b[0;34m.\u001b[0m\u001b[0mloc\u001b[0m\u001b[0;34m[\u001b[0m\u001b[0;34m'Naive Bayes Gaussian'\u001b[0m\u001b[0;34m,\u001b[0m \u001b[0;34mf'param_{language}'\u001b[0m\u001b[0;34m]\u001b[0m\u001b[0;34m)\u001b[0m\u001b[0;34m\u001b[0m\u001b[0;34m\u001b[0m\u001b[0m\n\u001b[0;32m---> 14\u001b[0;31m     \u001b[0mmodel\u001b[0m\u001b[0;34m.\u001b[0m\u001b[0mfit\u001b[0m\u001b[0;34m(\u001b[0m\u001b[0mX_labelled\u001b[0m\u001b[0;34m,\u001b[0m \u001b[0my\u001b[0m\u001b[0;34m)\u001b[0m\u001b[0;34m\u001b[0m\u001b[0;34m\u001b[0m\u001b[0m\n\u001b[0m\u001b[1;32m     15\u001b[0m \u001b[0;34m\u001b[0m\u001b[0m\n\u001b[1;32m     16\u001b[0m     \u001b[0mprint\u001b[0m\u001b[0;34m(\u001b[0m\u001b[0;34m'Predicting if books are interesting'\u001b[0m\u001b[0;34m)\u001b[0m\u001b[0;34m\u001b[0m\u001b[0;34m\u001b[0m\u001b[0m\n",
            "\u001b[0;32m/usr/local/lib/python3.6/dist-packages/sklearn/naive_bayes.py\u001b[0m in \u001b[0;36mfit\u001b[0;34m(self, X, y, sample_weight)\u001b[0m\n\u001b[1;32m    206\u001b[0m         \u001b[0my\u001b[0m \u001b[0;34m=\u001b[0m \u001b[0mcolumn_or_1d\u001b[0m\u001b[0;34m(\u001b[0m\u001b[0my\u001b[0m\u001b[0;34m,\u001b[0m \u001b[0mwarn\u001b[0m\u001b[0;34m=\u001b[0m\u001b[0;32mTrue\u001b[0m\u001b[0;34m)\u001b[0m\u001b[0;34m\u001b[0m\u001b[0;34m\u001b[0m\u001b[0m\n\u001b[1;32m    207\u001b[0m         return self._partial_fit(X, y, np.unique(y), _refit=True,\n\u001b[0;32m--> 208\u001b[0;31m                                  sample_weight=sample_weight)\n\u001b[0m\u001b[1;32m    209\u001b[0m \u001b[0;34m\u001b[0m\u001b[0m\n\u001b[1;32m    210\u001b[0m     \u001b[0;32mdef\u001b[0m \u001b[0m_check_X\u001b[0m\u001b[0;34m(\u001b[0m\u001b[0mself\u001b[0m\u001b[0;34m,\u001b[0m \u001b[0mX\u001b[0m\u001b[0;34m)\u001b[0m\u001b[0;34m:\u001b[0m\u001b[0;34m\u001b[0m\u001b[0;34m\u001b[0m\u001b[0m\n",
            "\u001b[0;32m/usr/local/lib/python3.6/dist-packages/sklearn/naive_bayes.py\u001b[0m in \u001b[0;36m_partial_fit\u001b[0;34m(self, X, y, classes, _refit, sample_weight)\u001b[0m\n\u001b[1;32m    370\u001b[0m             \u001b[0mself\u001b[0m\u001b[0;34m.\u001b[0m\u001b[0mclasses_\u001b[0m \u001b[0;34m=\u001b[0m \u001b[0;32mNone\u001b[0m\u001b[0;34m\u001b[0m\u001b[0;34m\u001b[0m\u001b[0m\n\u001b[1;32m    371\u001b[0m \u001b[0;34m\u001b[0m\u001b[0m\n\u001b[0;32m--> 372\u001b[0;31m         \u001b[0;32mif\u001b[0m \u001b[0m_check_partial_fit_first_call\u001b[0m\u001b[0;34m(\u001b[0m\u001b[0mself\u001b[0m\u001b[0;34m,\u001b[0m \u001b[0mclasses\u001b[0m\u001b[0;34m)\u001b[0m\u001b[0;34m:\u001b[0m\u001b[0;34m\u001b[0m\u001b[0;34m\u001b[0m\u001b[0m\n\u001b[0m\u001b[1;32m    373\u001b[0m             \u001b[0;31m# This is the first call to partial_fit:\u001b[0m\u001b[0;34m\u001b[0m\u001b[0;34m\u001b[0m\u001b[0;34m\u001b[0m\u001b[0m\n\u001b[1;32m    374\u001b[0m             \u001b[0;31m# initialize various cumulative counters\u001b[0m\u001b[0;34m\u001b[0m\u001b[0;34m\u001b[0m\u001b[0;34m\u001b[0m\u001b[0m\n",
            "\u001b[0;32m/usr/local/lib/python3.6/dist-packages/sklearn/utils/multiclass.py\u001b[0m in \u001b[0;36m_check_partial_fit_first_call\u001b[0;34m(clf, classes)\u001b[0m\n\u001b[1;32m    318\u001b[0m         \u001b[0;32melse\u001b[0m\u001b[0;34m:\u001b[0m\u001b[0;34m\u001b[0m\u001b[0;34m\u001b[0m\u001b[0m\n\u001b[1;32m    319\u001b[0m             \u001b[0;31m# This is the first call to partial_fit\u001b[0m\u001b[0;34m\u001b[0m\u001b[0;34m\u001b[0m\u001b[0;34m\u001b[0m\u001b[0m\n\u001b[0;32m--> 320\u001b[0;31m             \u001b[0mclf\u001b[0m\u001b[0;34m.\u001b[0m\u001b[0mclasses_\u001b[0m \u001b[0;34m=\u001b[0m \u001b[0munique_labels\u001b[0m\u001b[0;34m(\u001b[0m\u001b[0mclasses\u001b[0m\u001b[0;34m)\u001b[0m\u001b[0;34m\u001b[0m\u001b[0;34m\u001b[0m\u001b[0m\n\u001b[0m\u001b[1;32m    321\u001b[0m             \u001b[0;32mreturn\u001b[0m \u001b[0;32mTrue\u001b[0m\u001b[0;34m\u001b[0m\u001b[0;34m\u001b[0m\u001b[0m\n\u001b[1;32m    322\u001b[0m \u001b[0;34m\u001b[0m\u001b[0m\n",
            "\u001b[0;32m/usr/local/lib/python3.6/dist-packages/sklearn/utils/multiclass.py\u001b[0m in \u001b[0;36munique_labels\u001b[0;34m(*ys)\u001b[0m\n\u001b[1;32m     92\u001b[0m     \u001b[0m_unique_labels\u001b[0m \u001b[0;34m=\u001b[0m \u001b[0m_FN_UNIQUE_LABELS\u001b[0m\u001b[0;34m.\u001b[0m\u001b[0mget\u001b[0m\u001b[0;34m(\u001b[0m\u001b[0mlabel_type\u001b[0m\u001b[0;34m,\u001b[0m \u001b[0;32mNone\u001b[0m\u001b[0;34m)\u001b[0m\u001b[0;34m\u001b[0m\u001b[0;34m\u001b[0m\u001b[0m\n\u001b[1;32m     93\u001b[0m     \u001b[0;32mif\u001b[0m \u001b[0;32mnot\u001b[0m \u001b[0m_unique_labels\u001b[0m\u001b[0;34m:\u001b[0m\u001b[0;34m\u001b[0m\u001b[0;34m\u001b[0m\u001b[0m\n\u001b[0;32m---> 94\u001b[0;31m         \u001b[0;32mraise\u001b[0m \u001b[0mValueError\u001b[0m\u001b[0;34m(\u001b[0m\u001b[0;34m\"Unknown label type: %s\"\u001b[0m \u001b[0;34m%\u001b[0m \u001b[0mrepr\u001b[0m\u001b[0;34m(\u001b[0m\u001b[0mys\u001b[0m\u001b[0;34m)\u001b[0m\u001b[0;34m)\u001b[0m\u001b[0;34m\u001b[0m\u001b[0;34m\u001b[0m\u001b[0m\n\u001b[0m\u001b[1;32m     95\u001b[0m \u001b[0;34m\u001b[0m\u001b[0m\n\u001b[1;32m     96\u001b[0m     \u001b[0mys_labels\u001b[0m \u001b[0;34m=\u001b[0m \u001b[0mset\u001b[0m\u001b[0;34m(\u001b[0m\u001b[0mchain\u001b[0m\u001b[0;34m.\u001b[0m\u001b[0mfrom_iterable\u001b[0m\u001b[0;34m(\u001b[0m\u001b[0m_unique_labels\u001b[0m\u001b[0;34m(\u001b[0m\u001b[0my\u001b[0m\u001b[0;34m)\u001b[0m \u001b[0;32mfor\u001b[0m \u001b[0my\u001b[0m \u001b[0;32min\u001b[0m \u001b[0mys\u001b[0m\u001b[0;34m)\u001b[0m\u001b[0;34m)\u001b[0m\u001b[0;34m\u001b[0m\u001b[0;34m\u001b[0m\u001b[0m\n",
            "\u001b[0;31mValueError\u001b[0m: Unknown label type: (array([0, 1], dtype=object),)"
          ]
        }
      ]
    },
    {
      "cell_type": "code",
      "metadata": {
        "id": "iXBV_UPit7A2",
        "colab_type": "code",
        "colab": {}
      },
      "source": [
        ""
      ],
      "execution_count": null,
      "outputs": []
    }
  ]
}