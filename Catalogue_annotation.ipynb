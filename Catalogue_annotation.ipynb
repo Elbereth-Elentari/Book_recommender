{
  "nbformat": 4,
  "nbformat_minor": 0,
  "metadata": {
    "colab": {
      "name": "Catalogue_annotation.ipynb",
      "provenance": [],
      "mount_file_id": "https://github.com/Elbereth-Elentari/Book_recommender/blob/master/Catalogue_annotation.ipynb",
      "authorship_tag": "ABX9TyMi82S/uZMRXeYHrTAdd9XS",
      "include_colab_link": true
    },
    "kernelspec": {
      "name": "python3",
      "display_name": "Python 3"
    },
    "widgets": {
      "application/vnd.jupyter.widget-state+json": {
        "94c43746caf94c05a4cd5134cf0e6c5b": {
          "model_module": "@jupyter-widgets/controls",
          "model_name": "HBoxModel",
          "state": {
            "_view_name": "HBoxView",
            "_dom_classes": [],
            "_model_name": "HBoxModel",
            "_view_module": "@jupyter-widgets/controls",
            "_model_module_version": "1.5.0",
            "_view_count": null,
            "_view_module_version": "1.5.0",
            "box_style": "",
            "layout": "IPY_MODEL_8533d69e81394d14a4d7e49b5c330a67",
            "_model_module": "@jupyter-widgets/controls",
            "children": [
              "IPY_MODEL_12bf1cfeb14747fb89a1336f17afa688",
              "IPY_MODEL_7b0b3d971cfa4c11807e86df1a7a3cbc"
            ]
          }
        },
        "8533d69e81394d14a4d7e49b5c330a67": {
          "model_module": "@jupyter-widgets/base",
          "model_name": "LayoutModel",
          "state": {
            "_view_name": "LayoutView",
            "grid_template_rows": null,
            "right": null,
            "justify_content": null,
            "_view_module": "@jupyter-widgets/base",
            "overflow": null,
            "_model_module_version": "1.2.0",
            "_view_count": null,
            "flex_flow": null,
            "width": null,
            "min_width": null,
            "border": null,
            "align_items": null,
            "bottom": null,
            "_model_module": "@jupyter-widgets/base",
            "top": null,
            "grid_column": null,
            "overflow_y": null,
            "overflow_x": null,
            "grid_auto_flow": null,
            "grid_area": null,
            "grid_template_columns": null,
            "flex": null,
            "_model_name": "LayoutModel",
            "justify_items": null,
            "grid_row": null,
            "max_height": null,
            "align_content": null,
            "visibility": null,
            "align_self": null,
            "height": null,
            "min_height": null,
            "padding": null,
            "grid_auto_rows": null,
            "grid_gap": null,
            "max_width": null,
            "order": null,
            "_view_module_version": "1.2.0",
            "grid_template_areas": null,
            "object_position": null,
            "object_fit": null,
            "grid_auto_columns": null,
            "margin": null,
            "display": null,
            "left": null
          }
        },
        "12bf1cfeb14747fb89a1336f17afa688": {
          "model_module": "@jupyter-widgets/controls",
          "model_name": "FloatProgressModel",
          "state": {
            "_view_name": "ProgressView",
            "style": "IPY_MODEL_461a217213a8455e80097ffed621e4d3",
            "_dom_classes": [],
            "description": "Calculating semantic similarity for en: 100%",
            "_model_name": "FloatProgressModel",
            "bar_style": "success",
            "max": 87504,
            "_view_module": "@jupyter-widgets/controls",
            "_model_module_version": "1.5.0",
            "value": 87504,
            "_view_count": null,
            "_view_module_version": "1.5.0",
            "orientation": "horizontal",
            "min": 0,
            "description_tooltip": null,
            "_model_module": "@jupyter-widgets/controls",
            "layout": "IPY_MODEL_076e4ebeba2d4a5b9115f324653e6dd8"
          }
        },
        "7b0b3d971cfa4c11807e86df1a7a3cbc": {
          "model_module": "@jupyter-widgets/controls",
          "model_name": "HTMLModel",
          "state": {
            "_view_name": "HTMLView",
            "style": "IPY_MODEL_14176be41b2749fca2b77b6d06fbb091",
            "_dom_classes": [],
            "description": "",
            "_model_name": "HTMLModel",
            "placeholder": "​",
            "_view_module": "@jupyter-widgets/controls",
            "_model_module_version": "1.5.0",
            "value": " 87504/87504 [05:13&lt;00:00, 279.52it/s]",
            "_view_count": null,
            "_view_module_version": "1.5.0",
            "description_tooltip": null,
            "_model_module": "@jupyter-widgets/controls",
            "layout": "IPY_MODEL_e4ad9d5594f94a88a0ba8533cd2de709"
          }
        },
        "461a217213a8455e80097ffed621e4d3": {
          "model_module": "@jupyter-widgets/controls",
          "model_name": "ProgressStyleModel",
          "state": {
            "_view_name": "StyleView",
            "_model_name": "ProgressStyleModel",
            "description_width": "initial",
            "_view_module": "@jupyter-widgets/base",
            "_model_module_version": "1.5.0",
            "_view_count": null,
            "_view_module_version": "1.2.0",
            "bar_color": null,
            "_model_module": "@jupyter-widgets/controls"
          }
        },
        "076e4ebeba2d4a5b9115f324653e6dd8": {
          "model_module": "@jupyter-widgets/base",
          "model_name": "LayoutModel",
          "state": {
            "_view_name": "LayoutView",
            "grid_template_rows": null,
            "right": null,
            "justify_content": null,
            "_view_module": "@jupyter-widgets/base",
            "overflow": null,
            "_model_module_version": "1.2.0",
            "_view_count": null,
            "flex_flow": null,
            "width": null,
            "min_width": null,
            "border": null,
            "align_items": null,
            "bottom": null,
            "_model_module": "@jupyter-widgets/base",
            "top": null,
            "grid_column": null,
            "overflow_y": null,
            "overflow_x": null,
            "grid_auto_flow": null,
            "grid_area": null,
            "grid_template_columns": null,
            "flex": null,
            "_model_name": "LayoutModel",
            "justify_items": null,
            "grid_row": null,
            "max_height": null,
            "align_content": null,
            "visibility": null,
            "align_self": null,
            "height": null,
            "min_height": null,
            "padding": null,
            "grid_auto_rows": null,
            "grid_gap": null,
            "max_width": null,
            "order": null,
            "_view_module_version": "1.2.0",
            "grid_template_areas": null,
            "object_position": null,
            "object_fit": null,
            "grid_auto_columns": null,
            "margin": null,
            "display": null,
            "left": null
          }
        },
        "14176be41b2749fca2b77b6d06fbb091": {
          "model_module": "@jupyter-widgets/controls",
          "model_name": "DescriptionStyleModel",
          "state": {
            "_view_name": "StyleView",
            "_model_name": "DescriptionStyleModel",
            "description_width": "",
            "_view_module": "@jupyter-widgets/base",
            "_model_module_version": "1.5.0",
            "_view_count": null,
            "_view_module_version": "1.2.0",
            "_model_module": "@jupyter-widgets/controls"
          }
        },
        "e4ad9d5594f94a88a0ba8533cd2de709": {
          "model_module": "@jupyter-widgets/base",
          "model_name": "LayoutModel",
          "state": {
            "_view_name": "LayoutView",
            "grid_template_rows": null,
            "right": null,
            "justify_content": null,
            "_view_module": "@jupyter-widgets/base",
            "overflow": null,
            "_model_module_version": "1.2.0",
            "_view_count": null,
            "flex_flow": null,
            "width": null,
            "min_width": null,
            "border": null,
            "align_items": null,
            "bottom": null,
            "_model_module": "@jupyter-widgets/base",
            "top": null,
            "grid_column": null,
            "overflow_y": null,
            "overflow_x": null,
            "grid_auto_flow": null,
            "grid_area": null,
            "grid_template_columns": null,
            "flex": null,
            "_model_name": "LayoutModel",
            "justify_items": null,
            "grid_row": null,
            "max_height": null,
            "align_content": null,
            "visibility": null,
            "align_self": null,
            "height": null,
            "min_height": null,
            "padding": null,
            "grid_auto_rows": null,
            "grid_gap": null,
            "max_width": null,
            "order": null,
            "_view_module_version": "1.2.0",
            "grid_template_areas": null,
            "object_position": null,
            "object_fit": null,
            "grid_auto_columns": null,
            "margin": null,
            "display": null,
            "left": null
          }
        },
        "3d922454514e47dc8648066ceb0db520": {
          "model_module": "@jupyter-widgets/controls",
          "model_name": "HBoxModel",
          "state": {
            "_view_name": "HBoxView",
            "_dom_classes": [],
            "_model_name": "HBoxModel",
            "_view_module": "@jupyter-widgets/controls",
            "_model_module_version": "1.5.0",
            "_view_count": null,
            "_view_module_version": "1.5.0",
            "box_style": "",
            "layout": "IPY_MODEL_1d7df2acf12e44d88727f8c01c4a8c2b",
            "_model_module": "@jupyter-widgets/controls",
            "children": [
              "IPY_MODEL_a77478f7273243acb6f3099842e6aede",
              "IPY_MODEL_682d134e132e4b57a59114f80044e39e"
            ]
          }
        },
        "1d7df2acf12e44d88727f8c01c4a8c2b": {
          "model_module": "@jupyter-widgets/base",
          "model_name": "LayoutModel",
          "state": {
            "_view_name": "LayoutView",
            "grid_template_rows": null,
            "right": null,
            "justify_content": null,
            "_view_module": "@jupyter-widgets/base",
            "overflow": null,
            "_model_module_version": "1.2.0",
            "_view_count": null,
            "flex_flow": null,
            "width": null,
            "min_width": null,
            "border": null,
            "align_items": null,
            "bottom": null,
            "_model_module": "@jupyter-widgets/base",
            "top": null,
            "grid_column": null,
            "overflow_y": null,
            "overflow_x": null,
            "grid_auto_flow": null,
            "grid_area": null,
            "grid_template_columns": null,
            "flex": null,
            "_model_name": "LayoutModel",
            "justify_items": null,
            "grid_row": null,
            "max_height": null,
            "align_content": null,
            "visibility": null,
            "align_self": null,
            "height": null,
            "min_height": null,
            "padding": null,
            "grid_auto_rows": null,
            "grid_gap": null,
            "max_width": null,
            "order": null,
            "_view_module_version": "1.2.0",
            "grid_template_areas": null,
            "object_position": null,
            "object_fit": null,
            "grid_auto_columns": null,
            "margin": null,
            "display": null,
            "left": null
          }
        },
        "a77478f7273243acb6f3099842e6aede": {
          "model_module": "@jupyter-widgets/controls",
          "model_name": "FloatProgressModel",
          "state": {
            "_view_name": "ProgressView",
            "style": "IPY_MODEL_fcf41311efe54ee3955b54579118d038",
            "_dom_classes": [],
            "description": "Calculating semantic similarity for pl: 100%",
            "_model_name": "FloatProgressModel",
            "bar_style": "success",
            "max": 567200,
            "_view_module": "@jupyter-widgets/controls",
            "_model_module_version": "1.5.0",
            "value": 567200,
            "_view_count": null,
            "_view_module_version": "1.5.0",
            "orientation": "horizontal",
            "min": 0,
            "description_tooltip": null,
            "_model_module": "@jupyter-widgets/controls",
            "layout": "IPY_MODEL_6739c9920d9a4d60a245c1cb807e4f13"
          }
        },
        "682d134e132e4b57a59114f80044e39e": {
          "model_module": "@jupyter-widgets/controls",
          "model_name": "HTMLModel",
          "state": {
            "_view_name": "HTMLView",
            "style": "IPY_MODEL_fef3aba6a9d045d1af7c63b64c4a3a21",
            "_dom_classes": [],
            "description": "",
            "_model_name": "HTMLModel",
            "placeholder": "​",
            "_view_module": "@jupyter-widgets/controls",
            "_model_module_version": "1.5.0",
            "value": " 567200/567200 [15:38&lt;00:00, 604.55it/s]",
            "_view_count": null,
            "_view_module_version": "1.5.0",
            "description_tooltip": null,
            "_model_module": "@jupyter-widgets/controls",
            "layout": "IPY_MODEL_573cd76cc9414a5fb0c71dc10b31ec31"
          }
        },
        "fcf41311efe54ee3955b54579118d038": {
          "model_module": "@jupyter-widgets/controls",
          "model_name": "ProgressStyleModel",
          "state": {
            "_view_name": "StyleView",
            "_model_name": "ProgressStyleModel",
            "description_width": "initial",
            "_view_module": "@jupyter-widgets/base",
            "_model_module_version": "1.5.0",
            "_view_count": null,
            "_view_module_version": "1.2.0",
            "bar_color": null,
            "_model_module": "@jupyter-widgets/controls"
          }
        },
        "6739c9920d9a4d60a245c1cb807e4f13": {
          "model_module": "@jupyter-widgets/base",
          "model_name": "LayoutModel",
          "state": {
            "_view_name": "LayoutView",
            "grid_template_rows": null,
            "right": null,
            "justify_content": null,
            "_view_module": "@jupyter-widgets/base",
            "overflow": null,
            "_model_module_version": "1.2.0",
            "_view_count": null,
            "flex_flow": null,
            "width": null,
            "min_width": null,
            "border": null,
            "align_items": null,
            "bottom": null,
            "_model_module": "@jupyter-widgets/base",
            "top": null,
            "grid_column": null,
            "overflow_y": null,
            "overflow_x": null,
            "grid_auto_flow": null,
            "grid_area": null,
            "grid_template_columns": null,
            "flex": null,
            "_model_name": "LayoutModel",
            "justify_items": null,
            "grid_row": null,
            "max_height": null,
            "align_content": null,
            "visibility": null,
            "align_self": null,
            "height": null,
            "min_height": null,
            "padding": null,
            "grid_auto_rows": null,
            "grid_gap": null,
            "max_width": null,
            "order": null,
            "_view_module_version": "1.2.0",
            "grid_template_areas": null,
            "object_position": null,
            "object_fit": null,
            "grid_auto_columns": null,
            "margin": null,
            "display": null,
            "left": null
          }
        },
        "fef3aba6a9d045d1af7c63b64c4a3a21": {
          "model_module": "@jupyter-widgets/controls",
          "model_name": "DescriptionStyleModel",
          "state": {
            "_view_name": "StyleView",
            "_model_name": "DescriptionStyleModel",
            "description_width": "",
            "_view_module": "@jupyter-widgets/base",
            "_model_module_version": "1.5.0",
            "_view_count": null,
            "_view_module_version": "1.2.0",
            "_model_module": "@jupyter-widgets/controls"
          }
        },
        "573cd76cc9414a5fb0c71dc10b31ec31": {
          "model_module": "@jupyter-widgets/base",
          "model_name": "LayoutModel",
          "state": {
            "_view_name": "LayoutView",
            "grid_template_rows": null,
            "right": null,
            "justify_content": null,
            "_view_module": "@jupyter-widgets/base",
            "overflow": null,
            "_model_module_version": "1.2.0",
            "_view_count": null,
            "flex_flow": null,
            "width": null,
            "min_width": null,
            "border": null,
            "align_items": null,
            "bottom": null,
            "_model_module": "@jupyter-widgets/base",
            "top": null,
            "grid_column": null,
            "overflow_y": null,
            "overflow_x": null,
            "grid_auto_flow": null,
            "grid_area": null,
            "grid_template_columns": null,
            "flex": null,
            "_model_name": "LayoutModel",
            "justify_items": null,
            "grid_row": null,
            "max_height": null,
            "align_content": null,
            "visibility": null,
            "align_self": null,
            "height": null,
            "min_height": null,
            "padding": null,
            "grid_auto_rows": null,
            "grid_gap": null,
            "max_width": null,
            "order": null,
            "_view_module_version": "1.2.0",
            "grid_template_areas": null,
            "object_position": null,
            "object_fit": null,
            "grid_auto_columns": null,
            "margin": null,
            "display": null,
            "left": null
          }
        }
      }
    }
  },
  "cells": [
    {
      "cell_type": "markdown",
      "metadata": {
        "id": "view-in-github",
        "colab_type": "text"
      },
      "source": [
        "<a href=\"https://colab.research.google.com/github/Elbereth-Elentari/Book_recommender/blob/master/Catalogue_annotation.ipynb\" target=\"_parent\"><img src=\"https://colab.research.google.com/assets/colab-badge.svg\" alt=\"Open In Colab\"/></a>"
      ]
    },
    {
      "cell_type": "code",
      "metadata": {
        "id": "Wt0FtKTwolCy",
        "colab_type": "code",
        "colab": {}
      },
      "source": [
        "!pip3 install spacy==2.3.0\n",
        "!pip3 install spacy_langdetect\n",
        "!pip3 install selenium\n",
        "!apt-get install chromium-chromedriver\n",
        "!pip3 install tqdm\n",
        "import spacy.cli\n",
        "spacy.cli.download('en_core_web_lg')\n",
        "spacy.cli.download('pl_core_news_lg')"
      ],
      "execution_count": null,
      "outputs": []
    },
    {
      "cell_type": "code",
      "metadata": {
        "id": "QRkyrqaN8rRi",
        "colab_type": "code",
        "colab": {}
      },
      "source": [
        "import os\n",
        "import string\n",
        "import re\n",
        "import pandas as pd\n",
        "\n",
        "import spacy\n",
        "import en_core_web_lg\n",
        "nlp = en_core_web_lg.load()\n",
        "import pl_core_news_lg\n",
        "nlp_pl = pl_core_news_lg.load()\n",
        "\n",
        "from tqdm.notebook import tqdm"
      ],
      "execution_count": 6,
      "outputs": []
    },
    {
      "cell_type": "code",
      "metadata": {
        "id": "ZcSQp7PcpQwX",
        "colab_type": "code",
        "colab": {}
      },
      "source": [
        "def calculate_similarity(preprocessed_df, tag_df):\n",
        "    cat_sim = pd.DataFrame()\n",
        "    for lang in ['en', 'pl']:\n",
        "        df = preprocessed_df[preprocessed_df['language'] == lang]\n",
        "        semantics = ' '.join(tag_df[tag_df['language'] == lang].tokens.str.join(' '))\n",
        "        if lang == 'en': model = nlp\n",
        "        elif lang == 'pl': model = nlp_pl\n",
        "        semantics = model(semantics)\n",
        "\n",
        "        similarity = []\n",
        "        for doc in tqdm(model.pipe(df['title'].values, batch_size=200), desc=f'Calculating semantic similarity for {lang}', total=len(df)):\n",
        "            if doc.is_parsed: similarity.append(semantics.similarity(doc))\n",
        "            else: preprocessed.append('similarity_fail')\n",
        "        df['similarity'] = similarity\n",
        "        cat_sim = cat_sim.append(df)\n",
        "    cat_sim.drop(cat_sim[cat_sim['similarity'] < 0.5].index, inplace=True)\n",
        "    cat_sim.sort_values(by='similarity', inplace=True, ascending=False)\n",
        "    cat_sim.drop(columns={'tokens'}, inplace=True)\n",
        "    return cat_sim"
      ],
      "execution_count": 33,
      "outputs": []
    },
    {
      "cell_type": "code",
      "metadata": {
        "id": "E875j1Z38y_b",
        "colab_type": "code",
        "colab": {}
      },
      "source": [
        "cat = pd.read_json('/content/drive/My Drive/Library_catalogue_preprocessed.jl', lines=True)"
      ],
      "execution_count": 4,
      "outputs": []
    },
    {
      "cell_type": "code",
      "metadata": {
        "id": "onvWZekKvM6K",
        "colab_type": "code",
        "colab": {
          "base_uri": "https://localhost:8080/",
          "height": 251,
          "referenced_widgets": [
            "94c43746caf94c05a4cd5134cf0e6c5b",
            "8533d69e81394d14a4d7e49b5c330a67",
            "12bf1cfeb14747fb89a1336f17afa688",
            "7b0b3d971cfa4c11807e86df1a7a3cbc",
            "461a217213a8455e80097ffed621e4d3",
            "076e4ebeba2d4a5b9115f324653e6dd8",
            "14176be41b2749fca2b77b6d06fbb091",
            "e4ad9d5594f94a88a0ba8533cd2de709",
            "3d922454514e47dc8648066ceb0db520",
            "1d7df2acf12e44d88727f8c01c4a8c2b",
            "a77478f7273243acb6f3099842e6aede",
            "682d134e132e4b57a59114f80044e39e",
            "fcf41311efe54ee3955b54579118d038",
            "6739c9920d9a4d60a245c1cb807e4f13",
            "fef3aba6a9d045d1af7c63b64c4a3a21",
            "573cd76cc9414a5fb0c71dc10b31ec31"
          ]
        },
        "outputId": "c2741141-067f-43af-e590-d457edb53daa"
      },
      "source": [
        "cat_sim = calculate_similarity(cat[cat['interesting'] == ''], cat[cat['interesting'] == 'yes'])"
      ],
      "execution_count": 34,
      "outputs": [
        {
          "output_type": "display_data",
          "data": {
            "application/vnd.jupyter.widget-view+json": {
              "model_id": "94c43746caf94c05a4cd5134cf0e6c5b",
              "version_minor": 0,
              "version_major": 2
            },
            "text/plain": [
              "HBox(children=(FloatProgress(value=0.0, description='Calculating semantic similarity for en', max=87504.0, sty…"
            ]
          },
          "metadata": {
            "tags": []
          }
        },
        {
          "output_type": "stream",
          "text": [
            "/usr/local/lib/python3.6/dist-packages/ipykernel_launcher.py:12: UserWarning: [W008] Evaluating Doc.similarity based on empty vectors.\n",
            "  if sys.path[0] == '':\n"
          ],
          "name": "stderr"
        },
        {
          "output_type": "stream",
          "text": [
            "\n"
          ],
          "name": "stdout"
        },
        {
          "output_type": "stream",
          "text": [
            "/usr/local/lib/python3.6/dist-packages/ipykernel_launcher.py:14: SettingWithCopyWarning: \n",
            "A value is trying to be set on a copy of a slice from a DataFrame.\n",
            "Try using .loc[row_indexer,col_indexer] = value instead\n",
            "\n",
            "See the caveats in the documentation: https://pandas.pydata.org/pandas-docs/stable/user_guide/indexing.html#returning-a-view-versus-a-copy\n",
            "  \n"
          ],
          "name": "stderr"
        },
        {
          "output_type": "display_data",
          "data": {
            "application/vnd.jupyter.widget-view+json": {
              "model_id": "3d922454514e47dc8648066ceb0db520",
              "version_minor": 0,
              "version_major": 2
            },
            "text/plain": [
              "HBox(children=(FloatProgress(value=0.0, description='Calculating semantic similarity for pl', max=567200.0, st…"
            ]
          },
          "metadata": {
            "tags": []
          }
        },
        {
          "output_type": "stream",
          "text": [
            "\n"
          ],
          "name": "stdout"
        }
      ]
    },
    {
      "cell_type": "code",
      "metadata": {
        "id": "Q790Il3rjUum",
        "colab_type": "code",
        "colab": {}
      },
      "source": [
        "def annotate_catalogue(cat, mode=''):\n",
        "    while True:\n",
        "        if not mode:\n",
        "            print('Enter mode: title startswith, title contains, author startswith')\n",
        "            mode = input()\n",
        "        if mode == 'title startswith':\n",
        "            print('Enter the beginning of the title or change mode.')\n",
        "            query = input()\n",
        "            cat_part = cat[cat['title'].str.lower().str.startswith(query.lower())]\n",
        "        elif mode == 'title contains':\n",
        "            print('Enter a word from the title or change mode.')\n",
        "            query = input()\n",
        "            cat_part = cat[cat['title'].str.lower().str.contains(query.lower())]\n",
        "        elif mode == 'author startswith':\n",
        "            print('Enter the author or change mode.')\n",
        "            query = input()\n",
        "            cat_part = cat[cat['author'].str.lower().str.startswith(query.lower())]\n",
        "        else:\n",
        "            break\n",
        "\n",
        "        if query == '': break\n",
        "        elif query == 'change mode':\n",
        "            mode = ''\n",
        "            continue\n",
        "\n",
        "        cat = assess_save(cat_part, cat)\n",
        "    return cat"
      ],
      "execution_count": 46,
      "outputs": []
    },
    {
      "cell_type": "code",
      "metadata": {
        "id": "qPC4z3ni5uBp",
        "colab_type": "code",
        "colab": {}
      },
      "source": [
        "def assess_save(partial_catalogue, cat):\n",
        "    for index, row in partial_catalogue.iterrows():\n",
        "        print(row.year, row.author, row.title)\n",
        "        print('Is this book interesting? y, n or enter')\n",
        "        assessment = input()\n",
        "        if assessment == 'y': cat.at[index, 'interesting'] = 'yes'\n",
        "        elif assessment == 'n': cat.at[index, 'interesting'] = 'no'\n",
        "    cat.to_json('/content/drive/My Drive/Library_catalogue_preprocessed.jl', lines=True, orient='records')\n",
        "    return cat"
      ],
      "execution_count": 29,
      "outputs": []
    },
    {
      "cell_type": "code",
      "metadata": {
        "id": "gMmjSfRs6Wqi",
        "colab_type": "code",
        "colab": {}
      },
      "source": [
        "for index, row in cat_sim[(cat_sim['language'] == 'pl') & (cat_sim['year'] > 1999)][50:100].iterrows():\n",
        "    cat_part = cat[cat['title'].str.lower() == row.title.lower()]\n",
        "    cat = assess_save(cat_part, cat)"
      ],
      "execution_count": null,
      "outputs": []
    },
    {
      "cell_type": "code",
      "metadata": {
        "id": "TQjpVOqZRQVN",
        "colab_type": "code",
        "colab": {}
      },
      "source": [
        "cat = annotate_catalogue(cat)"
      ],
      "execution_count": null,
      "outputs": []
    },
    {
      "cell_type": "code",
      "metadata": {
        "id": "bnS8qQdsmpjG",
        "colab_type": "code",
        "colab": {
          "base_uri": "https://localhost:8080/",
          "height": 34
        },
        "outputId": "680ae42c-9bda-4e7d-f359-d3c4a80080d7"
      },
      "source": [
        "len(cat[cat['interesting'] == 'yes'])"
      ],
      "execution_count": 65,
      "outputs": [
        {
          "output_type": "execute_result",
          "data": {
            "text/plain": [
              "477"
            ]
          },
          "metadata": {
            "tags": []
          },
          "execution_count": 65
        }
      ]
    },
    {
      "cell_type": "code",
      "metadata": {
        "id": "zK0d9PrAS7kB",
        "colab_type": "code",
        "colab": {}
      },
      "source": [
        "cat.to_json('/content/drive/My Drive/Library_catalogue_preprocessed.jl', lines=True, orient='records')"
      ],
      "execution_count": null,
      "outputs": []
    }
  ]
}